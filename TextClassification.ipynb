{
 "cells": [
  {
   "cell_type": "markdown",
   "id": "ce502533",
   "metadata": {
    "papermill": {
     "duration": 0.007563,
     "end_time": "2025-02-11T00:29:20.964518",
     "exception": false,
     "start_time": "2025-02-11T00:29:20.956955",
     "status": "completed"
    },
    "tags": []
   },
   "source": [
    "# Disaster Tweet Classification with RNN Models"
   ]
  },
  {
   "cell_type": "markdown",
   "id": "a90eb343",
   "metadata": {
    "papermill": {
     "duration": 0.005553,
     "end_time": "2025-02-11T00:29:20.976042",
     "exception": false,
     "start_time": "2025-02-11T00:29:20.970489",
     "status": "completed"
    },
    "tags": []
   },
   "source": [
    "#### For this competition, we will be trying to classify tweets based on whether they are about a natural disaster or not. \n",
    "#### We'll build an RNN using the Tensorflow library and compare different architectures (Vanilla, LSTM, GRU, etc) as well as explore different embedding techniques to see if we can boost performance. "
   ]
  },
  {
   "cell_type": "code",
   "execution_count": 1,
   "id": "4565df97",
   "metadata": {
    "_cell_guid": "b1076dfc-b9ad-4769-8c92-a6c4dae69d19",
    "_uuid": "8f2839f25d086af736a60e9eeb907d3b93b6e0e5",
    "execution": {
     "iopub.execute_input": "2025-02-11T00:29:20.988178Z",
     "iopub.status.busy": "2025-02-11T00:29:20.987965Z",
     "iopub.status.idle": "2025-02-11T00:29:35.484198Z",
     "shell.execute_reply": "2025-02-11T00:29:35.483213Z"
    },
    "papermill": {
     "duration": 14.504137,
     "end_time": "2025-02-11T00:29:35.485860",
     "exception": false,
     "start_time": "2025-02-11T00:29:20.981723",
     "status": "completed"
    },
    "tags": []
   },
   "outputs": [
    {
     "name": "stdout",
     "output_type": "stream",
     "text": [
      "/kaggle/input/nlp-getting-started/sample_submission.csv\n",
      "/kaggle/input/nlp-getting-started/train.csv\n",
      "/kaggle/input/nlp-getting-started/test.csv\n",
      "[nltk_data] Downloading package wordnet to /kaggle/working/...\n"
     ]
    }
   ],
   "source": [
    "import warnings\n",
    "warnings.simplefilter(action='ignore', category=FutureWarning)\n",
    "warnings.simplefilter(action='ignore', category=UserWarning)\n",
    "\n",
    "import re\n",
    "import string\n",
    "import subprocess\n",
    "\n",
    "import keras\n",
    "import nltk.corpus\n",
    "import numpy as np\n",
    "import pandas as pd\n",
    "import tensorflow as tf\n",
    "import matplotlib.pyplot as plt\n",
    "import seaborn as sns\n",
    "\n",
    "from collections import Counter\n",
    "from sklearn.model_selection import train_test_split\n",
    "from keras.models import Sequential\n",
    "from tensorflow.keras.callbacks import EarlyStopping\n",
    "from tensorflow.keras.layers import InputLayer, SimpleRNN, LSTM, GRU, Dense, Embedding, Dropout, BatchNormalization\n",
    "from tensorflow.keras.preprocessing.text import Tokenizer\n",
    "from tensorflow.keras.preprocessing.sequence import pad_sequences\n",
    "from nltk.corpus import stopwords\n",
    "from nltk.stem import WordNetLemmatizer\n",
    "\n",
    "import os\n",
    "for dirname, _, filenames in os.walk('/kaggle/input'):\n",
    "    for filename in filenames:\n",
    "        print(os.path.join(dirname, filename))\n",
    "\n",
    "try: \n",
    "    nltk.data.find('wordnet.zip')\n",
    "except:\n",
    "    nltk.download('wordnet', download_dir='/kaggle/working/')\n",
    "    command = \"unzip /kaggle/working/corpora/wordnet.zip -d /kaggle/working/corpora\"\n",
    "    subprocess.run(command.split())\n",
    "    nltk.data.path.append('/kaggle/working/')"
   ]
  },
  {
   "cell_type": "markdown",
   "id": "057e6f28",
   "metadata": {
    "papermill": {
     "duration": 0.005788,
     "end_time": "2025-02-11T00:29:35.498300",
     "exception": false,
     "start_time": "2025-02-11T00:29:35.492512",
     "status": "completed"
    },
    "tags": []
   },
   "source": [
    "# EDA"
   ]
  },
  {
   "cell_type": "markdown",
   "id": "06315dac",
   "metadata": {
    "papermill": {
     "duration": 0.005563,
     "end_time": "2025-02-11T00:29:35.509775",
     "exception": false,
     "start_time": "2025-02-11T00:29:35.504212",
     "status": "completed"
    },
    "tags": []
   },
   "source": [
    "## Data Exploration"
   ]
  },
  {
   "cell_type": "markdown",
   "id": "6401cd57",
   "metadata": {
    "papermill": {
     "duration": 0.005693,
     "end_time": "2025-02-11T00:29:35.521344",
     "exception": false,
     "start_time": "2025-02-11T00:29:35.515651",
     "status": "completed"
    },
    "tags": []
   },
   "source": [
    "#### First, we'll import the data and get some summary statistics about it. We'll also take a look at some example tweets from each class and figure out our plan of attack"
   ]
  },
  {
   "cell_type": "code",
   "execution_count": 2,
   "id": "9dffcf6f",
   "metadata": {
    "execution": {
     "iopub.execute_input": "2025-02-11T00:29:35.533923Z",
     "iopub.status.busy": "2025-02-11T00:29:35.533445Z",
     "iopub.status.idle": "2025-02-11T00:29:35.590245Z",
     "shell.execute_reply": "2025-02-11T00:29:35.589432Z"
    },
    "papermill": {
     "duration": 0.064588,
     "end_time": "2025-02-11T00:29:35.591613",
     "exception": false,
     "start_time": "2025-02-11T00:29:35.527025",
     "status": "completed"
    },
    "tags": []
   },
   "outputs": [],
   "source": [
    "train_path = '../input/nlp-getting-started/train.csv'\n",
    "test_path = '../input/nlp-getting-started/test.csv'\n",
    "\n",
    "train_raw = pd.read_csv(train_path)\n",
    "test_raw = pd.read_csv(test_path)"
   ]
  },
  {
   "cell_type": "code",
   "execution_count": 3,
   "id": "7fef3781",
   "metadata": {
    "execution": {
     "iopub.execute_input": "2025-02-11T00:29:35.604234Z",
     "iopub.status.busy": "2025-02-11T00:29:35.603999Z",
     "iopub.status.idle": "2025-02-11T00:29:35.630414Z",
     "shell.execute_reply": "2025-02-11T00:29:35.629714Z"
    },
    "papermill": {
     "duration": 0.03419,
     "end_time": "2025-02-11T00:29:35.631712",
     "exception": false,
     "start_time": "2025-02-11T00:29:35.597522",
     "status": "completed"
    },
    "tags": []
   },
   "outputs": [
    {
     "name": "stdout",
     "output_type": "stream",
     "text": [
      "<class 'pandas.core.frame.DataFrame'>\n",
      "RangeIndex: 7613 entries, 0 to 7612\n",
      "Data columns (total 5 columns):\n",
      " #   Column    Non-Null Count  Dtype \n",
      "---  ------    --------------  ----- \n",
      " 0   id        7613 non-null   int64 \n",
      " 1   keyword   7552 non-null   object\n",
      " 2   location  5080 non-null   object\n",
      " 3   text      7613 non-null   object\n",
      " 4   target    7613 non-null   int64 \n",
      "dtypes: int64(2), object(3)\n",
      "memory usage: 297.5+ KB\n"
     ]
    }
   ],
   "source": [
    "train_raw.info()"
   ]
  },
  {
   "cell_type": "code",
   "execution_count": 4,
   "id": "e84b9008",
   "metadata": {
    "execution": {
     "iopub.execute_input": "2025-02-11T00:29:35.644073Z",
     "iopub.status.busy": "2025-02-11T00:29:35.643869Z",
     "iopub.status.idle": "2025-02-11T00:29:35.657345Z",
     "shell.execute_reply": "2025-02-11T00:29:35.656569Z"
    },
    "papermill": {
     "duration": 0.02122,
     "end_time": "2025-02-11T00:29:35.658743",
     "exception": false,
     "start_time": "2025-02-11T00:29:35.637523",
     "status": "completed"
    },
    "tags": []
   },
   "outputs": [
    {
     "data": {
      "text/html": [
       "<div>\n",
       "<style scoped>\n",
       "    .dataframe tbody tr th:only-of-type {\n",
       "        vertical-align: middle;\n",
       "    }\n",
       "\n",
       "    .dataframe tbody tr th {\n",
       "        vertical-align: top;\n",
       "    }\n",
       "\n",
       "    .dataframe thead th {\n",
       "        text-align: right;\n",
       "    }\n",
       "</style>\n",
       "<table border=\"1\" class=\"dataframe\">\n",
       "  <thead>\n",
       "    <tr style=\"text-align: right;\">\n",
       "      <th></th>\n",
       "      <th>id</th>\n",
       "      <th>keyword</th>\n",
       "      <th>location</th>\n",
       "      <th>text</th>\n",
       "      <th>target</th>\n",
       "    </tr>\n",
       "  </thead>\n",
       "  <tbody>\n",
       "    <tr>\n",
       "      <th>0</th>\n",
       "      <td>1</td>\n",
       "      <td>NaN</td>\n",
       "      <td>NaN</td>\n",
       "      <td>Our Deeds are the Reason of this #earthquake M...</td>\n",
       "      <td>1</td>\n",
       "    </tr>\n",
       "    <tr>\n",
       "      <th>1</th>\n",
       "      <td>4</td>\n",
       "      <td>NaN</td>\n",
       "      <td>NaN</td>\n",
       "      <td>Forest fire near La Ronge Sask. Canada</td>\n",
       "      <td>1</td>\n",
       "    </tr>\n",
       "    <tr>\n",
       "      <th>2</th>\n",
       "      <td>5</td>\n",
       "      <td>NaN</td>\n",
       "      <td>NaN</td>\n",
       "      <td>All residents asked to 'shelter in place' are ...</td>\n",
       "      <td>1</td>\n",
       "    </tr>\n",
       "    <tr>\n",
       "      <th>3</th>\n",
       "      <td>6</td>\n",
       "      <td>NaN</td>\n",
       "      <td>NaN</td>\n",
       "      <td>13,000 people receive #wildfires evacuation or...</td>\n",
       "      <td>1</td>\n",
       "    </tr>\n",
       "    <tr>\n",
       "      <th>4</th>\n",
       "      <td>7</td>\n",
       "      <td>NaN</td>\n",
       "      <td>NaN</td>\n",
       "      <td>Just got sent this photo from Ruby #Alaska as ...</td>\n",
       "      <td>1</td>\n",
       "    </tr>\n",
       "  </tbody>\n",
       "</table>\n",
       "</div>"
      ],
      "text/plain": [
       "   id keyword location                                               text  \\\n",
       "0   1     NaN      NaN  Our Deeds are the Reason of this #earthquake M...   \n",
       "1   4     NaN      NaN             Forest fire near La Ronge Sask. Canada   \n",
       "2   5     NaN      NaN  All residents asked to 'shelter in place' are ...   \n",
       "3   6     NaN      NaN  13,000 people receive #wildfires evacuation or...   \n",
       "4   7     NaN      NaN  Just got sent this photo from Ruby #Alaska as ...   \n",
       "\n",
       "   target  \n",
       "0       1  \n",
       "1       1  \n",
       "2       1  \n",
       "3       1  \n",
       "4       1  "
      ]
     },
     "execution_count": 4,
     "metadata": {},
     "output_type": "execute_result"
    }
   ],
   "source": [
    "train_raw.head()"
   ]
  },
  {
   "cell_type": "code",
   "execution_count": 5,
   "id": "c3c42bcc",
   "metadata": {
    "execution": {
     "iopub.execute_input": "2025-02-11T00:29:35.671789Z",
     "iopub.status.busy": "2025-02-11T00:29:35.671577Z",
     "iopub.status.idle": "2025-02-11T00:29:35.679957Z",
     "shell.execute_reply": "2025-02-11T00:29:35.679320Z"
    },
    "papermill": {
     "duration": 0.01629,
     "end_time": "2025-02-11T00:29:35.681131",
     "exception": false,
     "start_time": "2025-02-11T00:29:35.664841",
     "status": "completed"
    },
    "tags": []
   },
   "outputs": [
    {
     "data": {
      "text/plain": [
       "0    Our Deeds are the Reason of this #earthquake M...\n",
       "1               Forest fire near La Ronge Sask. Canada\n",
       "2    All residents asked to 'shelter in place' are ...\n",
       "3    13,000 people receive #wildfires evacuation or...\n",
       "4    Just got sent this photo from Ruby #Alaska as ...\n",
       "Name: text, dtype: object"
      ]
     },
     "execution_count": 5,
     "metadata": {},
     "output_type": "execute_result"
    }
   ],
   "source": [
    "positive_examples = train_raw[train_raw['target'] == 1]\n",
    "negative_examples = train_raw[train_raw['target'] == 0]\n",
    "\n",
    "positive_examples['text'].head()"
   ]
  },
  {
   "cell_type": "code",
   "execution_count": 6,
   "id": "b47099e6",
   "metadata": {
    "execution": {
     "iopub.execute_input": "2025-02-11T00:29:35.694132Z",
     "iopub.status.busy": "2025-02-11T00:29:35.693924Z",
     "iopub.status.idle": "2025-02-11T00:29:35.698650Z",
     "shell.execute_reply": "2025-02-11T00:29:35.697942Z"
    },
    "papermill": {
     "duration": 0.01256,
     "end_time": "2025-02-11T00:29:35.699897",
     "exception": false,
     "start_time": "2025-02-11T00:29:35.687337",
     "status": "completed"
    },
    "tags": []
   },
   "outputs": [
    {
     "data": {
      "text/plain": [
       "15                  What's up man?\n",
       "16                   I love fruits\n",
       "17                Summer is lovely\n",
       "18               My car is so fast\n",
       "19    What a goooooooaaaaaal!!!!!!\n",
       "Name: text, dtype: object"
      ]
     },
     "execution_count": 6,
     "metadata": {},
     "output_type": "execute_result"
    }
   ],
   "source": [
    "negative_examples['text'].head()"
   ]
  },
  {
   "cell_type": "code",
   "execution_count": 7,
   "id": "8d930bf0",
   "metadata": {
    "execution": {
     "iopub.execute_input": "2025-02-11T00:29:35.712741Z",
     "iopub.status.busy": "2025-02-11T00:29:35.712514Z",
     "iopub.status.idle": "2025-02-11T00:29:35.892567Z",
     "shell.execute_reply": "2025-02-11T00:29:35.891881Z"
    },
    "papermill": {
     "duration": 0.187739,
     "end_time": "2025-02-11T00:29:35.893674",
     "exception": false,
     "start_time": "2025-02-11T00:29:35.705935",
     "status": "completed"
    },
    "tags": []
   },
   "outputs": [
    {
     "data": {
      "image/png": "[encoded data removed]",
      "text/plain": [
       "<Figure size 400x400 with 1 Axes>"
      ]
     },
     "metadata": {},
     "output_type": "display_data"
    }
   ],
   "source": [
    "plt.figure(figsize=(4, 4))\n",
    "sns.countplot(x='target', data=train_raw)\n",
    "plt.title('Class Distribution')\n",
    "plt.show()"
   ]
  },
  {
   "cell_type": "markdown",
   "id": "562845b6",
   "metadata": {
    "papermill": {
     "duration": 0.006201,
     "end_time": "2025-02-11T00:29:35.906313",
     "exception": false,
     "start_time": "2025-02-11T00:29:35.900112",
     "status": "completed"
    },
    "tags": []
   },
   "source": [
    "## Analysis Plan"
   ]
  },
  {
   "cell_type": "markdown",
   "id": "a2555ec4",
   "metadata": {
    "papermill": {
     "duration": 0.006158,
     "end_time": "2025-02-11T00:29:35.918831",
     "exception": false,
     "start_time": "2025-02-11T00:29:35.912673",
     "status": "completed"
    },
    "tags": []
   },
   "source": [
    "#### After looking through the data at a high-level, we can figure out a few different things that we need to do. The target classes aren't perfectly symmetrical but they are split roughly 60/40 so class imbalance shouldn't be a huge issue. We'll proceed through a few steps as we model:\n",
    "* #### Our first step will be to clean the data -- this will include things like stripping out URLs and Stop-words, cleaning up repeated letters (check the 5th example in our negative classes above), and removing punctuation\n",
    "* #### Next, we'll tokenize the input tweets, breaking them down into tokens for easier training\n",
    "* #### We'll have to adress embedding schemes after tokenizing the data. We'll start with TF-IDF, and possibly try Word2Vec, and the built-in Tensorflow Embeddings Layer\n",
    "* #### After we have the data processed, we'll fit a vanilla RNN to the data and test the performance.\n",
    "* #### Once our baseline is established, we'll try other RNN architectures like LSTM, GRU, Bi-Directional\n",
    "* #### Whichever base architecture performs the best, we'll run some hyperparameter tuning on to fine-tune it\n",
    "* #### Once we've trained what we feel is our best model, we'll compare results and discuss what we've learned"
   ]
  },
  {
   "cell_type": "markdown",
   "id": "c1411b08",
   "metadata": {
    "papermill": {
     "duration": 0.006148,
     "end_time": "2025-02-11T00:29:35.931270",
     "exception": false,
     "start_time": "2025-02-11T00:29:35.925122",
     "status": "completed"
    },
    "tags": []
   },
   "source": [
    "# Data Cleaning and Pre-processing"
   ]
  },
  {
   "cell_type": "markdown",
   "id": "26b5a0c0",
   "metadata": {
    "papermill": {
     "duration": 0.006183,
     "end_time": "2025-02-11T00:29:35.943787",
     "exception": false,
     "start_time": "2025-02-11T00:29:35.937604",
     "status": "completed"
    },
    "tags": []
   },
   "source": [
    "## Cleaning Tweets"
   ]
  },
  {
   "cell_type": "markdown",
   "id": "a8187fa3",
   "metadata": {
    "papermill": {
     "duration": 0.006172,
     "end_time": "2025-02-11T00:29:35.956215",
     "exception": false,
     "start_time": "2025-02-11T00:29:35.950043",
     "status": "completed"
    },
    "tags": []
   },
   "source": [
    "#### We'll create a few methods to handle stripping out punctuation, URLs, and stopwords. We'll also lemmatize the text here instead of tokenizing. We'll cover what our tokenization approach is in the next block"
   ]
  },
  {
   "cell_type": "code",
   "execution_count": 8,
   "id": "96eb3f87",
   "metadata": {
    "execution": {
     "iopub.execute_input": "2025-02-11T00:29:35.969573Z",
     "iopub.status.busy": "2025-02-11T00:29:35.969307Z",
     "iopub.status.idle": "2025-02-11T00:29:35.974515Z",
     "shell.execute_reply": "2025-02-11T00:29:35.973862Z"
    },
    "papermill": {
     "duration": 0.013243,
     "end_time": "2025-02-11T00:29:35.975735",
     "exception": false,
     "start_time": "2025-02-11T00:29:35.962492",
     "status": "completed"
    },
    "tags": []
   },
   "outputs": [],
   "source": [
    "def clean_and_prep_text(df_text: pd.DataFrame):\n",
    "    '''\n",
    "    Given an input dataframe, transform the text column\n",
    "    '''\n",
    "    lemmatizer = WordNetLemmatizer()\n",
    "    urlstr = re.compile(r\"https?://\\S+|www\\.\\S+\")\n",
    "    punctrans = str.maketrans(\"\", \"\", string.punctuation)\n",
    "    stop_set = set(stopwords.words(\"english\"))\n",
    "    \n",
    "    df_text['no_url'] = df_text['text'].apply(lambda row: urlstr.sub(r\"\", row)) \n",
    "    df_text['no_punc'] = df_text['no_url'].apply(lambda row: row.translate(punctrans))\n",
    "    df_text['clean'] = df_text['no_punc'].apply(lambda row: ' '.join([word.lower() for word in row.split() if word not in stop_set]))\n",
    "    df_text['lemmas'] = df_text['clean'].apply(lambda row: ' '.join([lemmatizer.lemmatize(word) for word in row.split()]))\n",
    "\n",
    "    df_text.drop(['no_url', 'no_punc', 'clean'], axis=1, inplace=True)\n",
    "\n",
    "    return\n",
    "    "
   ]
  },
  {
   "cell_type": "markdown",
   "id": "184e7a9a",
   "metadata": {
    "papermill": {
     "duration": 0.006127,
     "end_time": "2025-02-11T00:29:35.988156",
     "exception": false,
     "start_time": "2025-02-11T00:29:35.982029",
     "status": "completed"
    },
    "tags": []
   },
   "source": [
    "## Tokenization"
   ]
  },
  {
   "cell_type": "markdown",
   "id": "58151ad6",
   "metadata": {
    "papermill": {
     "duration": 0.006162,
     "end_time": "2025-02-11T00:29:36.000593",
     "exception": false,
     "start_time": "2025-02-11T00:29:35.994431",
     "status": "completed"
    },
    "tags": []
   },
   "source": [
    "#### Next, we'll actually apply our cleaning to the data. We'll split into train/validation before applying our tokenization function since we want the encoding to be based only on the training data -- this will prevent leakage from the validation set"
   ]
  },
  {
   "cell_type": "code",
   "execution_count": 9,
   "id": "6fe2347a",
   "metadata": {
    "execution": {
     "iopub.execute_input": "2025-02-11T00:29:36.013837Z",
     "iopub.status.busy": "2025-02-11T00:29:36.013634Z",
     "iopub.status.idle": "2025-02-11T00:29:37.650105Z",
     "shell.execute_reply": "2025-02-11T00:29:37.649451Z"
    },
    "papermill": {
     "duration": 1.644897,
     "end_time": "2025-02-11T00:29:37.651730",
     "exception": false,
     "start_time": "2025-02-11T00:29:36.006833",
     "status": "completed"
    },
    "tags": []
   },
   "outputs": [],
   "source": [
    "clean_and_prep_text(train_raw)"
   ]
  },
  {
   "cell_type": "code",
   "execution_count": 10,
   "id": "9b2beeff",
   "metadata": {
    "execution": {
     "iopub.execute_input": "2025-02-11T00:29:37.667483Z",
     "iopub.status.busy": "2025-02-11T00:29:37.667201Z",
     "iopub.status.idle": "2025-02-11T00:29:37.675181Z",
     "shell.execute_reply": "2025-02-11T00:29:37.674536Z"
    },
    "papermill": {
     "duration": 0.016362,
     "end_time": "2025-02-11T00:29:37.676349",
     "exception": false,
     "start_time": "2025-02-11T00:29:37.659987",
     "status": "completed"
    },
    "tags": []
   },
   "outputs": [
    {
     "data": {
      "text/html": [
       "<div>\n",
       "<style scoped>\n",
       "    .dataframe tbody tr th:only-of-type {\n",
       "        vertical-align: middle;\n",
       "    }\n",
       "\n",
       "    .dataframe tbody tr th {\n",
       "        vertical-align: top;\n",
       "    }\n",
       "\n",
       "    .dataframe thead th {\n",
       "        text-align: right;\n",
       "    }\n",
       "</style>\n",
       "<table border=\"1\" class=\"dataframe\">\n",
       "  <thead>\n",
       "    <tr style=\"text-align: right;\">\n",
       "      <th></th>\n",
       "      <th>id</th>\n",
       "      <th>keyword</th>\n",
       "      <th>location</th>\n",
       "      <th>text</th>\n",
       "      <th>target</th>\n",
       "      <th>lemmas</th>\n",
       "    </tr>\n",
       "  </thead>\n",
       "  <tbody>\n",
       "    <tr>\n",
       "      <th>0</th>\n",
       "      <td>1</td>\n",
       "      <td>NaN</td>\n",
       "      <td>NaN</td>\n",
       "      <td>Our Deeds are the Reason of this #earthquake M...</td>\n",
       "      <td>1</td>\n",
       "      <td>our deed reason earthquake may allah forgive u</td>\n",
       "    </tr>\n",
       "    <tr>\n",
       "      <th>1</th>\n",
       "      <td>4</td>\n",
       "      <td>NaN</td>\n",
       "      <td>NaN</td>\n",
       "      <td>Forest fire near La Ronge Sask. Canada</td>\n",
       "      <td>1</td>\n",
       "      <td>forest fire near la ronge sask canada</td>\n",
       "    </tr>\n",
       "    <tr>\n",
       "      <th>2</th>\n",
       "      <td>5</td>\n",
       "      <td>NaN</td>\n",
       "      <td>NaN</td>\n",
       "      <td>All residents asked to 'shelter in place' are ...</td>\n",
       "      <td>1</td>\n",
       "      <td>all resident asked shelter place notified offi...</td>\n",
       "    </tr>\n",
       "    <tr>\n",
       "      <th>3</th>\n",
       "      <td>6</td>\n",
       "      <td>NaN</td>\n",
       "      <td>NaN</td>\n",
       "      <td>13,000 people receive #wildfires evacuation or...</td>\n",
       "      <td>1</td>\n",
       "      <td>13000 people receive wildfire evacuation order...</td>\n",
       "    </tr>\n",
       "    <tr>\n",
       "      <th>4</th>\n",
       "      <td>7</td>\n",
       "      <td>NaN</td>\n",
       "      <td>NaN</td>\n",
       "      <td>Just got sent this photo from Ruby #Alaska as ...</td>\n",
       "      <td>1</td>\n",
       "      <td>just got sent photo ruby alaska smoke wildfire...</td>\n",
       "    </tr>\n",
       "  </tbody>\n",
       "</table>\n",
       "</div>"
      ],
      "text/plain": [
       "   id keyword location                                               text  \\\n",
       "0   1     NaN      NaN  Our Deeds are the Reason of this #earthquake M...   \n",
       "1   4     NaN      NaN             Forest fire near La Ronge Sask. Canada   \n",
       "2   5     NaN      NaN  All residents asked to 'shelter in place' are ...   \n",
       "3   6     NaN      NaN  13,000 people receive #wildfires evacuation or...   \n",
       "4   7     NaN      NaN  Just got sent this photo from Ruby #Alaska as ...   \n",
       "\n",
       "   target                                             lemmas  \n",
       "0       1     our deed reason earthquake may allah forgive u  \n",
       "1       1              forest fire near la ronge sask canada  \n",
       "2       1  all resident asked shelter place notified offi...  \n",
       "3       1  13000 people receive wildfire evacuation order...  \n",
       "4       1  just got sent photo ruby alaska smoke wildfire...  "
      ]
     },
     "execution_count": 10,
     "metadata": {},
     "output_type": "execute_result"
    }
   ],
   "source": [
    "train_raw.head()"
   ]
  },
  {
   "cell_type": "code",
   "execution_count": 11,
   "id": "06718b13",
   "metadata": {
    "execution": {
     "iopub.execute_input": "2025-02-11T00:29:37.690404Z",
     "iopub.status.busy": "2025-02-11T00:29:37.690178Z",
     "iopub.status.idle": "2025-02-11T00:29:37.696343Z",
     "shell.execute_reply": "2025-02-11T00:29:37.695565Z"
    },
    "papermill": {
     "duration": 0.014724,
     "end_time": "2025-02-11T00:29:37.697626",
     "exception": false,
     "start_time": "2025-02-11T00:29:37.682902",
     "status": "completed"
    },
    "tags": []
   },
   "outputs": [],
   "source": [
    "df_train, df_val = train_test_split(train_raw, test_size = 0.20, random_state=4022)\n",
    "\n",
    "train_text = df_train.lemmas.to_numpy()\n",
    "train_labels = df_train.target.to_numpy()\n",
    "\n",
    "val_text = df_val.lemmas.to_numpy()\n",
    "val_labels = df_val.target.to_numpy()"
   ]
  },
  {
   "cell_type": "code",
   "execution_count": 12,
   "id": "92a6a7dc",
   "metadata": {
    "execution": {
     "iopub.execute_input": "2025-02-11T00:29:37.711326Z",
     "iopub.status.busy": "2025-02-11T00:29:37.711128Z",
     "iopub.status.idle": "2025-02-11T00:29:37.714256Z",
     "shell.execute_reply": "2025-02-11T00:29:37.713676Z"
    },
    "papermill": {
     "duration": 0.011428,
     "end_time": "2025-02-11T00:29:37.715524",
     "exception": false,
     "start_time": "2025-02-11T00:29:37.704096",
     "status": "completed"
    },
    "tags": []
   },
   "outputs": [],
   "source": [
    "def count_words(df):\n",
    "    count = Counter()\n",
    "    for text in df.lemmas.values:\n",
    "        for word in text.split():\n",
    "            count[word] += 1\n",
    "    return count"
   ]
  },
  {
   "cell_type": "code",
   "execution_count": 13,
   "id": "fd907173",
   "metadata": {
    "execution": {
     "iopub.execute_input": "2025-02-11T00:29:37.729868Z",
     "iopub.status.busy": "2025-02-11T00:29:37.729669Z",
     "iopub.status.idle": "2025-02-11T00:29:37.752603Z",
     "shell.execute_reply": "2025-02-11T00:29:37.751653Z"
    },
    "papermill": {
     "duration": 0.031899,
     "end_time": "2025-02-11T00:29:37.753896",
     "exception": false,
     "start_time": "2025-02-11T00:29:37.721997",
     "status": "completed"
    },
    "tags": []
   },
   "outputs": [
    {
     "name": "stdout",
     "output_type": "stream",
     "text": [
      "There are: 14607 unique words in our training set\n"
     ]
    }
   ],
   "source": [
    "word_count = len(count_words(df_train))\n",
    "print(\"There are: \" + str(word_count) + \" unique words in our training set\")"
   ]
  },
  {
   "cell_type": "code",
   "execution_count": 14,
   "id": "e6ba147f",
   "metadata": {
    "execution": {
     "iopub.execute_input": "2025-02-11T00:29:37.767994Z",
     "iopub.status.busy": "2025-02-11T00:29:37.767799Z",
     "iopub.status.idle": "2025-02-11T00:29:37.952136Z",
     "shell.execute_reply": "2025-02-11T00:29:37.951517Z"
    },
    "papermill": {
     "duration": 0.192993,
     "end_time": "2025-02-11T00:29:37.953646",
     "exception": false,
     "start_time": "2025-02-11T00:29:37.760653",
     "status": "completed"
    },
    "tags": []
   },
   "outputs": [],
   "source": [
    "max_words = 25 # Roughly the number of words in an average 140 character tweet\n",
    "tokenizer = Tokenizer(num_words=word_count)\n",
    "tokenizer.fit_on_texts(train_text)\n",
    "\n",
    "train_sequences = tokenizer.texts_to_sequences(train_text)\n",
    "val_sequences = tokenizer.texts_to_sequences(val_text)\n",
    "\n",
    "train_pad = pad_sequences(train_sequences, maxlen=max_words, padding='post', truncating='post')\n",
    "val_pad = pad_sequences(val_sequences, maxlen=max_words, padding='post', truncating='post')"
   ]
  },
  {
   "cell_type": "markdown",
   "id": "5c4f19ee",
   "metadata": {
    "papermill": {
     "duration": 0.006461,
     "end_time": "2025-02-11T00:29:37.966987",
     "exception": false,
     "start_time": "2025-02-11T00:29:37.960526",
     "status": "completed"
    },
    "tags": []
   },
   "source": [
    "## Embedding the Text"
   ]
  },
  {
   "cell_type": "markdown",
   "id": "c3616d60",
   "metadata": {
    "papermill": {
     "duration": 0.006413,
     "end_time": "2025-02-11T00:29:37.979935",
     "exception": false,
     "start_time": "2025-02-11T00:29:37.973522",
     "status": "completed"
    },
    "tags": []
   },
   "source": [
    "#### We're just going to stick with the built-in embedding layer from Tensorflow. This makes it easy to add embeddings to our model, and gives us a hyperparameter to tune for better performance (the dimension of the embedding)"
   ]
  },
  {
   "cell_type": "markdown",
   "id": "4d623034",
   "metadata": {
    "papermill": {
     "duration": 0.006405,
     "end_time": "2025-02-11T00:29:37.992864",
     "exception": false,
     "start_time": "2025-02-11T00:29:37.986459",
     "status": "completed"
    },
    "tags": []
   },
   "source": [
    "# Model Building and Training"
   ]
  },
  {
   "cell_type": "markdown",
   "id": "5db4d868",
   "metadata": {
    "papermill": {
     "duration": 0.006373,
     "end_time": "2025-02-11T00:29:38.005762",
     "exception": false,
     "start_time": "2025-02-11T00:29:37.999389",
     "status": "completed"
    },
    "tags": []
   },
   "source": [
    "## Basic Architecture"
   ]
  },
  {
   "cell_type": "code",
   "execution_count": 15,
   "id": "cdd1dc23",
   "metadata": {
    "execution": {
     "iopub.execute_input": "2025-02-11T00:29:38.019788Z",
     "iopub.status.busy": "2025-02-11T00:29:38.019539Z",
     "iopub.status.idle": "2025-02-11T00:29:40.251176Z",
     "shell.execute_reply": "2025-02-11T00:29:40.250300Z"
    },
    "papermill": {
     "duration": 2.240199,
     "end_time": "2025-02-11T00:29:40.252423",
     "exception": false,
     "start_time": "2025-02-11T00:29:38.012224",
     "status": "completed"
    },
    "tags": []
   },
   "outputs": [
    {
     "data": {
      "text/html": [
       "<pre style=\"white-space:pre;overflow-x:auto;line-height:normal;font-family:Menlo,'DejaVu Sans Mono',consolas,'Courier New',monospace\"><span style=\"font-weight: bold\">Model: \"sequential\"</span>\n",
       "</pre>\n"
      ],
      "text/plain": [
       "\u001b[1mModel: \"sequential\"\u001b[0m\n"
      ]
     },
     "metadata": {},
     "output_type": "display_data"
    },
    {
     "data": {
      "text/html": [
       "<pre style=\"white-space:pre;overflow-x:auto;line-height:normal;font-family:Menlo,'DejaVu Sans Mono',consolas,'Courier New',monospace\">┏━━━━━━━━━━━━━━━━━━━━━━━━━━━━━━━━━━━━━━┳━━━━━━━━━━━━━━━━━━━━━━━━━━━━━┳━━━━━━━━━━━━━━━━━┓\n",
       "┃<span style=\"font-weight: bold\"> Layer (type)                         </span>┃<span style=\"font-weight: bold\"> Output Shape                </span>┃<span style=\"font-weight: bold\">         Param # </span>┃\n",
       "┡━━━━━━━━━━━━━━━━━━━━━━━━━━━━━━━━━━━━━━╇━━━━━━━━━━━━━━━━━━━━━━━━━━━━━╇━━━━━━━━━━━━━━━━━┩\n",
       "│ embedding (<span style=\"color: #0087ff; text-decoration-color: #0087ff\">Embedding</span>)                │ (<span style=\"color: #00d7ff; text-decoration-color: #00d7ff\">None</span>, <span style=\"color: #00af00; text-decoration-color: #00af00\">25</span>, <span style=\"color: #00af00; text-decoration-color: #00af00\">32</span>)              │         <span style=\"color: #00af00; text-decoration-color: #00af00\">467,424</span> │\n",
       "├──────────────────────────────────────┼─────────────────────────────┼─────────────────┤\n",
       "│ simple_rnn (<span style=\"color: #0087ff; text-decoration-color: #0087ff\">SimpleRNN</span>)               │ (<span style=\"color: #00d7ff; text-decoration-color: #00d7ff\">None</span>, <span style=\"color: #00af00; text-decoration-color: #00af00\">32</span>)                  │           <span style=\"color: #00af00; text-decoration-color: #00af00\">2,080</span> │\n",
       "├──────────────────────────────────────┼─────────────────────────────┼─────────────────┤\n",
       "│ dense (<span style=\"color: #0087ff; text-decoration-color: #0087ff\">Dense</span>)                        │ (<span style=\"color: #00d7ff; text-decoration-color: #00d7ff\">None</span>, <span style=\"color: #00af00; text-decoration-color: #00af00\">1</span>)                   │              <span style=\"color: #00af00; text-decoration-color: #00af00\">33</span> │\n",
       "└──────────────────────────────────────┴─────────────────────────────┴─────────────────┘\n",
       "</pre>\n"
      ],
      "text/plain": [
       "┏━━━━━━━━━━━━━━━━━━━━━━━━━━━━━━━━━━━━━━┳━━━━━━━━━━━━━━━━━━━━━━━━━━━━━┳━━━━━━━━━━━━━━━━━┓\n",
       "┃\u001b[1m \u001b[0m\u001b[1mLayer (type)                        \u001b[0m\u001b[1m \u001b[0m┃\u001b[1m \u001b[0m\u001b[1mOutput Shape               \u001b[0m\u001b[1m \u001b[0m┃\u001b[1m \u001b[0m\u001b[1m        Param #\u001b[0m\u001b[1m \u001b[0m┃\n",
       "┡━━━━━━━━━━━━━━━━━━━━━━━━━━━━━━━━━━━━━━╇━━━━━━━━━━━━━━━━━━━━━━━━━━━━━╇━━━━━━━━━━━━━━━━━┩\n",
       "│ embedding (\u001b[38;5;33mEmbedding\u001b[0m)                │ (\u001b[38;5;45mNone\u001b[0m, \u001b[38;5;34m25\u001b[0m, \u001b[38;5;34m32\u001b[0m)              │         \u001b[38;5;34m467,424\u001b[0m │\n",
       "├──────────────────────────────────────┼─────────────────────────────┼─────────────────┤\n",
       "│ simple_rnn (\u001b[38;5;33mSimpleRNN\u001b[0m)               │ (\u001b[38;5;45mNone\u001b[0m, \u001b[38;5;34m32\u001b[0m)                  │           \u001b[38;5;34m2,080\u001b[0m │\n",
       "├──────────────────────────────────────┼─────────────────────────────┼─────────────────┤\n",
       "│ dense (\u001b[38;5;33mDense\u001b[0m)                        │ (\u001b[38;5;45mNone\u001b[0m, \u001b[38;5;34m1\u001b[0m)                   │              \u001b[38;5;34m33\u001b[0m │\n",
       "└──────────────────────────────────────┴─────────────────────────────┴─────────────────┘\n"
      ]
     },
     "metadata": {},
     "output_type": "display_data"
    },
    {
     "data": {
      "text/html": [
       "<pre style=\"white-space:pre;overflow-x:auto;line-height:normal;font-family:Menlo,'DejaVu Sans Mono',consolas,'Courier New',monospace\"><span style=\"font-weight: bold\"> Total params: </span><span style=\"color: #00af00; text-decoration-color: #00af00\">469,537</span> (1.79 MB)\n",
       "</pre>\n"
      ],
      "text/plain": [
       "\u001b[1m Total params: \u001b[0m\u001b[38;5;34m469,537\u001b[0m (1.79 MB)\n"
      ]
     },
     "metadata": {},
     "output_type": "display_data"
    },
    {
     "data": {
      "text/html": [
       "<pre style=\"white-space:pre;overflow-x:auto;line-height:normal;font-family:Menlo,'DejaVu Sans Mono',consolas,'Courier New',monospace\"><span style=\"font-weight: bold\"> Trainable params: </span><span style=\"color: #00af00; text-decoration-color: #00af00\">469,537</span> (1.79 MB)\n",
       "</pre>\n"
      ],
      "text/plain": [
       "\u001b[1m Trainable params: \u001b[0m\u001b[38;5;34m469,537\u001b[0m (1.79 MB)\n"
      ]
     },
     "metadata": {},
     "output_type": "display_data"
    },
    {
     "data": {
      "text/html": [
       "<pre style=\"white-space:pre;overflow-x:auto;line-height:normal;font-family:Menlo,'DejaVu Sans Mono',consolas,'Courier New',monospace\"><span style=\"font-weight: bold\"> Non-trainable params: </span><span style=\"color: #00af00; text-decoration-color: #00af00\">0</span> (0.00 B)\n",
       "</pre>\n"
      ],
      "text/plain": [
       "\u001b[1m Non-trainable params: \u001b[0m\u001b[38;5;34m0\u001b[0m (0.00 B)\n"
      ]
     },
     "metadata": {},
     "output_type": "display_data"
    }
   ],
   "source": [
    "model_base = Sequential([\n",
    "    InputLayer((max_words,)),\n",
    "    # Layer one\n",
    "    Embedding(word_count, 32, input_length=max_words),\n",
    "\n",
    "    # Layer two\n",
    "    SimpleRNN(units=32),\n",
    "\n",
    "    # Output\n",
    "    Dense(1, activation='sigmoid')\n",
    "])\n",
    "\n",
    "learning_rate = 0.001\n",
    "opt = keras.optimizers.Adam(learning_rate = learning_rate)\n",
    "\n",
    "model_base.compile(optimizer = opt,\n",
    "              loss=tf.keras.losses.BinaryCrossentropy(from_logits=True),\n",
    "              metrics = ['accuracy'])\n",
    "\n",
    "model_base.build()\n",
    "model_base.summary()"
   ]
  },
  {
   "cell_type": "code",
   "execution_count": 16,
   "id": "55e0283f",
   "metadata": {
    "execution": {
     "iopub.execute_input": "2025-02-11T00:29:40.268226Z",
     "iopub.status.busy": "2025-02-11T00:29:40.267913Z",
     "iopub.status.idle": "2025-02-11T00:29:40.487446Z",
     "shell.execute_reply": "2025-02-11T00:29:40.486575Z"
    },
    "papermill": {
     "duration": 0.228694,
     "end_time": "2025-02-11T00:29:40.488749",
     "exception": false,
     "start_time": "2025-02-11T00:29:40.260055",
     "status": "completed"
    },
    "tags": []
   },
   "outputs": [
    {
     "data": {
      "image/png": "[encoded data removed]",
      "text/plain": [
       "<IPython.core.display.Image object>"
      ]
     },
     "execution_count": 16,
     "metadata": {},
     "output_type": "execute_result"
    }
   ],
   "source": [
    "tf.keras.utils.plot_model(\n",
    "    model_base,\n",
    "    to_file=\"model.png\",\n",
    "    show_shapes=True,\n",
    "    show_layer_names=True,\n",
    "    rankdir=\"TB\",\n",
    "    expand_nested=True,\n",
    "    dpi=96,\n",
    ")"
   ]
  },
  {
   "cell_type": "markdown",
   "id": "c8c1810b",
   "metadata": {
    "papermill": {
     "duration": 0.007868,
     "end_time": "2025-02-11T00:29:40.505132",
     "exception": false,
     "start_time": "2025-02-11T00:29:40.497264",
     "status": "completed"
    },
    "tags": []
   },
   "source": [
    "## Training and Exploring Results"
   ]
  },
  {
   "cell_type": "code",
   "execution_count": 17,
   "id": "87b46d82",
   "metadata": {
    "execution": {
     "iopub.execute_input": "2025-02-11T00:29:40.522014Z",
     "iopub.status.busy": "2025-02-11T00:29:40.521762Z",
     "iopub.status.idle": "2025-02-11T00:29:52.232737Z",
     "shell.execute_reply": "2025-02-11T00:29:52.232034Z"
    },
    "papermill": {
     "duration": 11.720876,
     "end_time": "2025-02-11T00:29:52.234042",
     "exception": false,
     "start_time": "2025-02-11T00:29:40.513166",
     "status": "completed"
    },
    "tags": []
   },
   "outputs": [
    {
     "name": "stdout",
     "output_type": "stream",
     "text": [
      "Epoch 1/10\n",
      "\u001b[1m191/191\u001b[0m \u001b[32m━━━━━━━━━━━━━━━━━━━━\u001b[0m\u001b[37m\u001b[0m \u001b[1m5s\u001b[0m 12ms/step - accuracy: 0.6338 - loss: 0.6385 - val_accuracy: 0.7748 - val_loss: 0.5173\n",
      "Epoch 2/10\n",
      "\u001b[1m191/191\u001b[0m \u001b[32m━━━━━━━━━━━━━━━━━━━━\u001b[0m\u001b[37m\u001b[0m \u001b[1m1s\u001b[0m 4ms/step - accuracy: 0.8871 - loss: 0.3088 - val_accuracy: 0.7636 - val_loss: 0.5349\n",
      "Epoch 3/10\n",
      "\u001b[1m191/191\u001b[0m \u001b[32m━━━━━━━━━━━━━━━━━━━━\u001b[0m\u001b[37m\u001b[0m \u001b[1m1s\u001b[0m 4ms/step - accuracy: 0.9685 - loss: 0.1095 - val_accuracy: 0.7518 - val_loss: 0.6382\n",
      "Epoch 4/10\n",
      "\u001b[1m191/191\u001b[0m \u001b[32m━━━━━━━━━━━━━━━━━━━━\u001b[0m\u001b[37m\u001b[0m \u001b[1m1s\u001b[0m 4ms/step - accuracy: 0.9782 - loss: 0.0610 - val_accuracy: 0.7400 - val_loss: 0.6921\n",
      "Epoch 5/10\n",
      "\u001b[1m191/191\u001b[0m \u001b[32m━━━━━━━━━━━━━━━━━━━━\u001b[0m\u001b[37m\u001b[0m \u001b[1m1s\u001b[0m 4ms/step - accuracy: 0.9817 - loss: 0.0445 - val_accuracy: 0.7393 - val_loss: 0.7587\n",
      "Epoch 6/10\n",
      "\u001b[1m191/191\u001b[0m \u001b[32m━━━━━━━━━━━━━━━━━━━━\u001b[0m\u001b[37m\u001b[0m \u001b[1m1s\u001b[0m 4ms/step - accuracy: 0.9808 - loss: 0.0488 - val_accuracy: 0.7137 - val_loss: 0.8237\n",
      "Epoch 7/10\n",
      "\u001b[1m191/191\u001b[0m \u001b[32m━━━━━━━━━━━━━━━━━━━━\u001b[0m\u001b[37m\u001b[0m \u001b[1m1s\u001b[0m 4ms/step - accuracy: 0.9859 - loss: 0.0367 - val_accuracy: 0.7032 - val_loss: 0.8381\n",
      "Epoch 8/10\n",
      "\u001b[1m191/191\u001b[0m \u001b[32m━━━━━━━━━━━━━━━━━━━━\u001b[0m\u001b[37m\u001b[0m \u001b[1m1s\u001b[0m 4ms/step - accuracy: 0.9846 - loss: 0.0355 - val_accuracy: 0.7196 - val_loss: 0.8584\n",
      "Epoch 9/10\n",
      "\u001b[1m191/191\u001b[0m \u001b[32m━━━━━━━━━━━━━━━━━━━━\u001b[0m\u001b[37m\u001b[0m \u001b[1m1s\u001b[0m 4ms/step - accuracy: 0.9815 - loss: 0.0358 - val_accuracy: 0.7387 - val_loss: 0.8525\n",
      "Epoch 10/10\n",
      "\u001b[1m191/191\u001b[0m \u001b[32m━━━━━━━━━━━━━━━━━━━━\u001b[0m\u001b[37m\u001b[0m \u001b[1m1s\u001b[0m 4ms/step - accuracy: 0.9808 - loss: 0.0371 - val_accuracy: 0.7380 - val_loss: 0.8188\n"
     ]
    }
   ],
   "source": [
    "base_history = model_base.fit(train_pad, train_labels, epochs=10, validation_data=(val_pad, val_labels))\n",
    "\n",
    "base_metrics = pd.DataFrame(base_history.history)"
   ]
  },
  {
   "cell_type": "code",
   "execution_count": 18,
   "id": "7ff55aae",
   "metadata": {
    "execution": {
     "iopub.execute_input": "2025-02-11T00:29:52.264976Z",
     "iopub.status.busy": "2025-02-11T00:29:52.264708Z",
     "iopub.status.idle": "2025-02-11T00:29:52.908090Z",
     "shell.execute_reply": "2025-02-11T00:29:52.907194Z"
    },
    "papermill": {
     "duration": 0.659879,
     "end_time": "2025-02-11T00:29:52.909343",
     "exception": false,
     "start_time": "2025-02-11T00:29:52.249464",
     "status": "completed"
    },
    "tags": []
   },
   "outputs": [
    {
     "data": {
      "text/plain": [
       "<Axes: >"
      ]
     },
     "execution_count": 18,
     "metadata": {},
     "output_type": "execute_result"
    },
    {
     "data": {
      "image/png": "[encoded data removed]",
      "text/plain": [
       "<Figure size 640x480 with 1 Axes>"
      ]
     },
     "metadata": {},
     "output_type": "display_data"
    },
    {
     "data": {
      "image/png": "[encoded data removed]",
      "text/plain": [
       "<Figure size 640x480 with 1 Axes>"
      ]
     },
     "metadata": {},
     "output_type": "display_data"
    }
   ],
   "source": [
    "base_metrics[[\"loss\",\"val_loss\"]].plot()\n",
    "base_metrics[['accuracy', 'val_accuracy']].plot()"
   ]
  },
  {
   "cell_type": "code",
   "execution_count": null,
   "id": "0fa4521d",
   "metadata": {
    "papermill": {
     "duration": 0.015356,
     "end_time": "2025-02-11T00:29:52.941484",
     "exception": false,
     "start_time": "2025-02-11T00:29:52.926128",
     "status": "completed"
    },
    "tags": []
   },
   "outputs": [],
   "source": []
  },
  {
   "cell_type": "markdown",
   "id": "d1fcc984",
   "metadata": {
    "papermill": {
     "duration": 0.015309,
     "end_time": "2025-02-11T00:29:52.972294",
     "exception": false,
     "start_time": "2025-02-11T00:29:52.956985",
     "status": "completed"
    },
    "tags": []
   },
   "source": [
    "## Hyperparameter Tuning and Other Architectures"
   ]
  },
  {
   "cell_type": "markdown",
   "id": "5b906863",
   "metadata": {
    "papermill": {
     "duration": 0.015253,
     "end_time": "2025-02-11T00:29:53.003120",
     "exception": false,
     "start_time": "2025-02-11T00:29:52.987867",
     "status": "completed"
    },
    "tags": []
   },
   "source": [
    "# Submissions and Results"
   ]
  },
  {
   "cell_type": "code",
   "execution_count": 19,
   "id": "d7f3848e",
   "metadata": {
    "execution": {
     "iopub.execute_input": "2025-02-11T00:29:53.034459Z",
     "iopub.status.busy": "2025-02-11T00:29:53.034150Z",
     "iopub.status.idle": "2025-02-11T00:29:53.210506Z",
     "shell.execute_reply": "2025-02-11T00:29:53.209587Z"
    },
    "papermill": {
     "duration": 0.193779,
     "end_time": "2025-02-11T00:29:53.212087",
     "exception": false,
     "start_time": "2025-02-11T00:29:53.018308",
     "status": "completed"
    },
    "tags": []
   },
   "outputs": [],
   "source": [
    "clean_and_prep_text(test_raw)\n",
    "test_text = test_raw.lemmas.to_numpy()\n",
    "test_sequences = tokenizer.texts_to_sequences(test_text)\n",
    "test_padded = pad_sequences(test_sequences, max_words, padding='post', truncating='post')\n",
    "ids = test_raw.id"
   ]
  },
  {
   "cell_type": "code",
   "execution_count": 20,
   "id": "5f68f3f9",
   "metadata": {
    "execution": {
     "iopub.execute_input": "2025-02-11T00:29:53.244499Z",
     "iopub.status.busy": "2025-02-11T00:29:53.244192Z",
     "iopub.status.idle": "2025-02-11T00:29:54.118652Z",
     "shell.execute_reply": "2025-02-11T00:29:54.117954Z"
    },
    "papermill": {
     "duration": 0.891913,
     "end_time": "2025-02-11T00:29:54.119890",
     "exception": false,
     "start_time": "2025-02-11T00:29:53.227977",
     "status": "completed"
    },
    "tags": []
   },
   "outputs": [
    {
     "name": "stdout",
     "output_type": "stream",
     "text": [
      "\u001b[1m102/102\u001b[0m \u001b[32m━━━━━━━━━━━━━━━━━━━━\u001b[0m\u001b[37m\u001b[0m \u001b[1m1s\u001b[0m 5ms/step\n"
     ]
    }
   ],
   "source": [
    "predictions = model_base.predict(test_padded)\n",
    "predictions = [1 if p > 0.5 else 0 for p in predictions]"
   ]
  },
  {
   "cell_type": "code",
   "execution_count": 21,
   "id": "de8bb62c",
   "metadata": {
    "execution": {
     "iopub.execute_input": "2025-02-11T00:29:54.152941Z",
     "iopub.status.busy": "2025-02-11T00:29:54.152712Z",
     "iopub.status.idle": "2025-02-11T00:29:54.156840Z",
     "shell.execute_reply": "2025-02-11T00:29:54.156196Z"
    },
    "papermill": {
     "duration": 0.022019,
     "end_time": "2025-02-11T00:29:54.158022",
     "exception": false,
     "start_time": "2025-02-11T00:29:54.136003",
     "status": "completed"
    },
    "tags": []
   },
   "outputs": [],
   "source": [
    "submission_df = pd.DataFrame({\n",
    "    'id': ids,\n",
    "    'target': predictions\n",
    "})"
   ]
  },
  {
   "cell_type": "code",
   "execution_count": 22,
   "id": "3e839611",
   "metadata": {
    "execution": {
     "iopub.execute_input": "2025-02-11T00:29:54.190109Z",
     "iopub.status.busy": "2025-02-11T00:29:54.189899Z",
     "iopub.status.idle": "2025-02-11T00:29:54.198910Z",
     "shell.execute_reply": "2025-02-11T00:29:54.198297Z"
    },
    "papermill": {
     "duration": 0.026313,
     "end_time": "2025-02-11T00:29:54.199984",
     "exception": false,
     "start_time": "2025-02-11T00:29:54.173671",
     "status": "completed"
    },
    "tags": []
   },
   "outputs": [],
   "source": [
    "submission_df.to_csv('submission.csv', index=False)"
   ]
  },
  {
   "cell_type": "markdown",
   "id": "6f01235b",
   "metadata": {
    "papermill": {
     "duration": 0.015309,
     "end_time": "2025-02-11T00:29:54.231135",
     "exception": false,
     "start_time": "2025-02-11T00:29:54.215826",
     "status": "completed"
    },
    "tags": []
   },
   "source": [
    "## Comparing Models"
   ]
  },
  {
   "cell_type": "code",
   "execution_count": 23,
   "id": "b6654a29",
   "metadata": {
    "execution": {
     "iopub.execute_input": "2025-02-11T00:29:54.262872Z",
     "iopub.status.busy": "2025-02-11T00:29:54.262634Z",
     "iopub.status.idle": "2025-02-11T00:29:54.265445Z",
     "shell.execute_reply": "2025-02-11T00:29:54.264796Z"
    },
    "papermill": {
     "duration": 0.019903,
     "end_time": "2025-02-11T00:29:54.266554",
     "exception": false,
     "start_time": "2025-02-11T00:29:54.246651",
     "status": "completed"
    },
    "tags": []
   },
   "outputs": [],
   "source": [
    "#def plot_graphs(history, metric):\n",
    "#  plt.plot(history.history[metric])\n",
    "#  plt.plot(history.history['val_'+metric], '')\n",
    "#  plt.xlabel(\"Epochs\")\n",
    "#  plt.ylabel(metric)\n",
    "#  plt.legend([metric, 'val_'+metric])"
   ]
  },
  {
   "cell_type": "markdown",
   "id": "a85dc0dd",
   "metadata": {
    "papermill": {
     "duration": 0.015244,
     "end_time": "2025-02-11T00:29:54.297438",
     "exception": false,
     "start_time": "2025-02-11T00:29:54.282194",
     "status": "completed"
    },
    "tags": []
   },
   "source": [
    "## Conclusions"
   ]
  },
  {
   "cell_type": "code",
   "execution_count": null,
   "id": "a9fb49a8",
   "metadata": {
    "papermill": {
     "duration": 0.015175,
     "end_time": "2025-02-11T00:29:54.327943",
     "exception": false,
     "start_time": "2025-02-11T00:29:54.312768",
     "status": "completed"
    },
    "tags": []
   },
   "outputs": [],
   "source": []
  }
 ],
 "metadata": {
  "kaggle": {
   "accelerator": "gpu",
   "dataSources": [
    {
     "databundleVersionId": 869809,
     "sourceId": 17777,
     "sourceType": "competition"
    }
   ],
   "dockerImageVersionId": 30839,
   "isGpuEnabled": true,
   "isInternetEnabled": true,
   "language": "python",
   "sourceType": "notebook"
  },
  "kernelspec": {
   "display_name": "Python 3",
   "language": "python",
   "name": "python3"
  },
  "language_info": {
   "codemirror_mode": {
    "name": "ipython",
    "version": 3
   },
   "file_extension": ".py",
   "mimetype": "text/x-python",
   "name": "python",
   "nbconvert_exporter": "python",
   "pygments_lexer": "ipython3",
   "version": "3.10.12"
  },
  "papermill": {
   "default_parameters": {},
   "duration": 38.7361,
   "end_time": "2025-02-11T00:29:57.189762",
   "environment_variables": {},
   "exception": null,
   "input_path": "__notebook__.ipynb",
   "output_path": "__notebook__.ipynb",
   "parameters": {},
   "start_time": "2025-02-11T00:29:18.453662",
   "version": "2.6.0"
  }
 },
 "nbformat": 4,
 "nbformat_minor": 5
}
