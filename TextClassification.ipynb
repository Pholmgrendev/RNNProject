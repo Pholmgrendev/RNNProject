{
 "cells": [
  {
   "cell_type": "markdown",
   "id": "2ac15dc5",
   "metadata": {
    "papermill": {
     "duration": 0.006393,
     "end_time": "2025-02-04T01:12:51.392810",
     "exception": false,
     "start_time": "2025-02-04T01:12:51.386417",
     "status": "completed"
    },
    "tags": []
   },
   "source": [
    "# Disaster Tweet Classification with RNN Models"
   ]
  },
  {
   "cell_type": "markdown",
   "id": "62a1f803",
   "metadata": {
    "papermill": {
     "duration": 0.004723,
     "end_time": "2025-02-04T01:12:51.402733",
     "exception": false,
     "start_time": "2025-02-04T01:12:51.398010",
     "status": "completed"
    },
    "tags": []
   },
   "source": [
    "#### For this competition, we will be trying to classify tweets based on whether they are about a natural disaster or not. \n",
    "#### We'll build an RNN using the Tensorflow library and compare different architectures (Vanilla, LSTM, GRU, etc) as well as explore different embedding techniques to see if we can boost performance. "
   ]
  },
  {
   "cell_type": "code",
   "execution_count": 1,
   "id": "f75323f2",
   "metadata": {
    "_cell_guid": "b1076dfc-b9ad-4769-8c92-a6c4dae69d19",
    "_uuid": "8f2839f25d086af736a60e9eeb907d3b93b6e0e5",
    "execution": {
     "iopub.execute_input": "2025-02-04T01:12:51.414010Z",
     "iopub.status.busy": "2025-02-04T01:12:51.413630Z",
     "iopub.status.idle": "2025-02-04T01:13:12.248955Z",
     "shell.execute_reply": "2025-02-04T01:13:12.247830Z"
    },
    "papermill": {
     "duration": 20.84345,
     "end_time": "2025-02-04T01:13:12.251131",
     "exception": false,
     "start_time": "2025-02-04T01:12:51.407681",
     "status": "completed"
    },
    "tags": []
   },
   "outputs": [
    {
     "name": "stdout",
     "output_type": "stream",
     "text": [
      "/kaggle/input/nlp-getting-started/sample_submission.csv\n",
      "/kaggle/input/nlp-getting-started/train.csv\n",
      "/kaggle/input/nlp-getting-started/test.csv\n",
      "[nltk_data] Downloading package wordnet to /kaggle/working/...\n"
     ]
    }
   ],
   "source": [
    "import warnings\n",
    "warnings.simplefilter(action='ignore', category=FutureWarning)\n",
    "warnings.simplefilter(action='ignore', category=UserWarning)\n",
    "\n",
    "import re\n",
    "import string\n",
    "import subprocess\n",
    "\n",
    "import keras\n",
    "import nltk.corpus\n",
    "import numpy as np\n",
    "import pandas as pd\n",
    "import tensorflow as tf\n",
    "import matplotlib.pyplot as plt\n",
    "import seaborn as sns\n",
    "\n",
    "from sklearn.model_selection import train_test_split\n",
    "from nltk.corpus import stopwords\n",
    "from nltk.tokenize.casual import TweetTokenizer\n",
    "\n",
    "import os\n",
    "for dirname, _, filenames in os.walk('/kaggle/input'):\n",
    "    for filename in filenames:\n",
    "        print(os.path.join(dirname, filename))\n",
    "\n",
    "try: \n",
    "    nltk.data.find('wordnet.zip')\n",
    "except:\n",
    "    nltk.download('wordnet', download_dir='/kaggle/working/')\n",
    "    command = \"unzip /kaggle/working/corpora/wordnet.zip -d /kaggle/working/corpora\"\n",
    "    subprocess.run(command.split())\n",
    "    nltk.data.path.append('/kaggle/working/')"
   ]
  },
  {
   "cell_type": "markdown",
   "id": "61baef34",
   "metadata": {
    "papermill": {
     "duration": 0.005064,
     "end_time": "2025-02-04T01:13:12.262356",
     "exception": false,
     "start_time": "2025-02-04T01:13:12.257292",
     "status": "completed"
    },
    "tags": []
   },
   "source": [
    "# EDA"
   ]
  },
  {
   "cell_type": "markdown",
   "id": "17d1307a",
   "metadata": {
    "papermill": {
     "duration": 0.00496,
     "end_time": "2025-02-04T01:13:12.272718",
     "exception": false,
     "start_time": "2025-02-04T01:13:12.267758",
     "status": "completed"
    },
    "tags": []
   },
   "source": [
    "## Data Exploration"
   ]
  },
  {
   "cell_type": "markdown",
   "id": "debc9b45",
   "metadata": {
    "papermill": {
     "duration": 0.004966,
     "end_time": "2025-02-04T01:13:12.282815",
     "exception": false,
     "start_time": "2025-02-04T01:13:12.277849",
     "status": "completed"
    },
    "tags": []
   },
   "source": [
    "#### First, we'll import the data and get some summary statistics about it. We'll also take a look at some example tweets from each class and figure out our plan of attack"
   ]
  },
  {
   "cell_type": "code",
   "execution_count": 2,
   "id": "d40716ad",
   "metadata": {
    "execution": {
     "iopub.execute_input": "2025-02-04T01:13:12.294986Z",
     "iopub.status.busy": "2025-02-04T01:13:12.294299Z",
     "iopub.status.idle": "2025-02-04T01:13:12.375314Z",
     "shell.execute_reply": "2025-02-04T01:13:12.373880Z"
    },
    "papermill": {
     "duration": 0.0897,
     "end_time": "2025-02-04T01:13:12.377825",
     "exception": false,
     "start_time": "2025-02-04T01:13:12.288125",
     "status": "completed"
    },
    "tags": []
   },
   "outputs": [],
   "source": [
    "train_path = '../input/nlp-getting-started/train.csv'\n",
    "test_path = '../input/nlp-getting-started/test.csv'\n",
    "\n",
    "train_raw = pd.read_csv(train_path)\n",
    "test_raw = pd.read_csv(test_path)"
   ]
  },
  {
   "cell_type": "code",
   "execution_count": 3,
   "id": "d609e2ee",
   "metadata": {
    "execution": {
     "iopub.execute_input": "2025-02-04T01:13:12.390359Z",
     "iopub.status.busy": "2025-02-04T01:13:12.389985Z",
     "iopub.status.idle": "2025-02-04T01:13:12.435272Z",
     "shell.execute_reply": "2025-02-04T01:13:12.433211Z"
    },
    "papermill": {
     "duration": 0.054304,
     "end_time": "2025-02-04T01:13:12.437743",
     "exception": false,
     "start_time": "2025-02-04T01:13:12.383439",
     "status": "completed"
    },
    "tags": []
   },
   "outputs": [
    {
     "name": "stdout",
     "output_type": "stream",
     "text": [
      "<class 'pandas.core.frame.DataFrame'>\n",
      "RangeIndex: 7613 entries, 0 to 7612\n",
      "Data columns (total 5 columns):\n",
      " #   Column    Non-Null Count  Dtype \n",
      "---  ------    --------------  ----- \n",
      " 0   id        7613 non-null   int64 \n",
      " 1   keyword   7552 non-null   object\n",
      " 2   location  5080 non-null   object\n",
      " 3   text      7613 non-null   object\n",
      " 4   target    7613 non-null   int64 \n",
      "dtypes: int64(2), object(3)\n",
      "memory usage: 297.5+ KB\n"
     ]
    }
   ],
   "source": [
    "train_raw.info()"
   ]
  },
  {
   "cell_type": "code",
   "execution_count": 4,
   "id": "a413d150",
   "metadata": {
    "execution": {
     "iopub.execute_input": "2025-02-04T01:13:12.450561Z",
     "iopub.status.busy": "2025-02-04T01:13:12.450171Z",
     "iopub.status.idle": "2025-02-04T01:13:12.468817Z",
     "shell.execute_reply": "2025-02-04T01:13:12.467674Z"
    },
    "papermill": {
     "duration": 0.027069,
     "end_time": "2025-02-04T01:13:12.470733",
     "exception": false,
     "start_time": "2025-02-04T01:13:12.443664",
     "status": "completed"
    },
    "tags": []
   },
   "outputs": [
    {
     "data": {
      "text/html": [
       "<div>\n",
       "<style scoped>\n",
       "    .dataframe tbody tr th:only-of-type {\n",
       "        vertical-align: middle;\n",
       "    }\n",
       "\n",
       "    .dataframe tbody tr th {\n",
       "        vertical-align: top;\n",
       "    }\n",
       "\n",
       "    .dataframe thead th {\n",
       "        text-align: right;\n",
       "    }\n",
       "</style>\n",
       "<table border=\"1\" class=\"dataframe\">\n",
       "  <thead>\n",
       "    <tr style=\"text-align: right;\">\n",
       "      <th></th>\n",
       "      <th>id</th>\n",
       "      <th>keyword</th>\n",
       "      <th>location</th>\n",
       "      <th>text</th>\n",
       "      <th>target</th>\n",
       "    </tr>\n",
       "  </thead>\n",
       "  <tbody>\n",
       "    <tr>\n",
       "      <th>0</th>\n",
       "      <td>1</td>\n",
       "      <td>NaN</td>\n",
       "      <td>NaN</td>\n",
       "      <td>Our Deeds are the Reason of this #earthquake M...</td>\n",
       "      <td>1</td>\n",
       "    </tr>\n",
       "    <tr>\n",
       "      <th>1</th>\n",
       "      <td>4</td>\n",
       "      <td>NaN</td>\n",
       "      <td>NaN</td>\n",
       "      <td>Forest fire near La Ronge Sask. Canada</td>\n",
       "      <td>1</td>\n",
       "    </tr>\n",
       "    <tr>\n",
       "      <th>2</th>\n",
       "      <td>5</td>\n",
       "      <td>NaN</td>\n",
       "      <td>NaN</td>\n",
       "      <td>All residents asked to 'shelter in place' are ...</td>\n",
       "      <td>1</td>\n",
       "    </tr>\n",
       "    <tr>\n",
       "      <th>3</th>\n",
       "      <td>6</td>\n",
       "      <td>NaN</td>\n",
       "      <td>NaN</td>\n",
       "      <td>13,000 people receive #wildfires evacuation or...</td>\n",
       "      <td>1</td>\n",
       "    </tr>\n",
       "    <tr>\n",
       "      <th>4</th>\n",
       "      <td>7</td>\n",
       "      <td>NaN</td>\n",
       "      <td>NaN</td>\n",
       "      <td>Just got sent this photo from Ruby #Alaska as ...</td>\n",
       "      <td>1</td>\n",
       "    </tr>\n",
       "  </tbody>\n",
       "</table>\n",
       "</div>"
      ],
      "text/plain": [
       "   id keyword location                                               text  \\\n",
       "0   1     NaN      NaN  Our Deeds are the Reason of this #earthquake M...   \n",
       "1   4     NaN      NaN             Forest fire near La Ronge Sask. Canada   \n",
       "2   5     NaN      NaN  All residents asked to 'shelter in place' are ...   \n",
       "3   6     NaN      NaN  13,000 people receive #wildfires evacuation or...   \n",
       "4   7     NaN      NaN  Just got sent this photo from Ruby #Alaska as ...   \n",
       "\n",
       "   target  \n",
       "0       1  \n",
       "1       1  \n",
       "2       1  \n",
       "3       1  \n",
       "4       1  "
      ]
     },
     "execution_count": 4,
     "metadata": {},
     "output_type": "execute_result"
    }
   ],
   "source": [
    "train_raw.head()"
   ]
  },
  {
   "cell_type": "code",
   "execution_count": 5,
   "id": "ee0d1b82",
   "metadata": {
    "execution": {
     "iopub.execute_input": "2025-02-04T01:13:12.483026Z",
     "iopub.status.busy": "2025-02-04T01:13:12.482669Z",
     "iopub.status.idle": "2025-02-04T01:13:12.496113Z",
     "shell.execute_reply": "2025-02-04T01:13:12.494503Z"
    },
    "papermill": {
     "duration": 0.022276,
     "end_time": "2025-02-04T01:13:12.498617",
     "exception": false,
     "start_time": "2025-02-04T01:13:12.476341",
     "status": "completed"
    },
    "tags": []
   },
   "outputs": [
    {
     "data": {
      "text/plain": [
       "0    Our Deeds are the Reason of this #earthquake M...\n",
       "1               Forest fire near La Ronge Sask. Canada\n",
       "2    All residents asked to 'shelter in place' are ...\n",
       "3    13,000 people receive #wildfires evacuation or...\n",
       "4    Just got sent this photo from Ruby #Alaska as ...\n",
       "Name: text, dtype: object"
      ]
     },
     "execution_count": 5,
     "metadata": {},
     "output_type": "execute_result"
    }
   ],
   "source": [
    "positive_examples = train_raw[train_raw['target'] == 1]\n",
    "negative_examples = train_raw[train_raw['target'] == 0]\n",
    "\n",
    "positive_examples['text'].head()"
   ]
  },
  {
   "cell_type": "code",
   "execution_count": 6,
   "id": "3c04168f",
   "metadata": {
    "execution": {
     "iopub.execute_input": "2025-02-04T01:13:12.512210Z",
     "iopub.status.busy": "2025-02-04T01:13:12.511866Z",
     "iopub.status.idle": "2025-02-04T01:13:12.520115Z",
     "shell.execute_reply": "2025-02-04T01:13:12.518831Z"
    },
    "papermill": {
     "duration": 0.017373,
     "end_time": "2025-02-04T01:13:12.522258",
     "exception": false,
     "start_time": "2025-02-04T01:13:12.504885",
     "status": "completed"
    },
    "tags": []
   },
   "outputs": [
    {
     "data": {
      "text/plain": [
       "15                  What's up man?\n",
       "16                   I love fruits\n",
       "17                Summer is lovely\n",
       "18               My car is so fast\n",
       "19    What a goooooooaaaaaal!!!!!!\n",
       "Name: text, dtype: object"
      ]
     },
     "execution_count": 6,
     "metadata": {},
     "output_type": "execute_result"
    }
   ],
   "source": [
    "negative_examples['text'].head()"
   ]
  },
  {
   "cell_type": "code",
   "execution_count": 7,
   "id": "0de2faa5",
   "metadata": {
    "execution": {
     "iopub.execute_input": "2025-02-04T01:13:12.536873Z",
     "iopub.status.busy": "2025-02-04T01:13:12.536445Z",
     "iopub.status.idle": "2025-02-04T01:13:12.802276Z",
     "shell.execute_reply": "2025-02-04T01:13:12.801170Z"
    },
    "papermill": {
     "duration": 0.274583,
     "end_time": "2025-02-04T01:13:12.804136",
     "exception": false,
     "start_time": "2025-02-04T01:13:12.529553",
     "status": "completed"
    },
    "tags": []
   },
   "outputs": [
    {
     "data": {
      "image/png": "[encoded data removed]",
      "text/plain": [
       "<Figure size 400x400 with 1 Axes>"
      ]
     },
     "metadata": {},
     "output_type": "display_data"
    }
   ],
   "source": [
    "plt.figure(figsize=(4, 4))\n",
    "sns.countplot(x='target', data=train_raw)\n",
    "plt.title('Class Distribution')\n",
    "plt.show()"
   ]
  },
  {
   "cell_type": "markdown",
   "id": "28776534",
   "metadata": {
    "papermill": {
     "duration": 0.00638,
     "end_time": "2025-02-04T01:13:12.817051",
     "exception": false,
     "start_time": "2025-02-04T01:13:12.810671",
     "status": "completed"
    },
    "tags": []
   },
   "source": [
    "## Analysis Plan"
   ]
  },
  {
   "cell_type": "markdown",
   "id": "0d505bc1",
   "metadata": {
    "papermill": {
     "duration": 0.005987,
     "end_time": "2025-02-04T01:13:12.829062",
     "exception": false,
     "start_time": "2025-02-04T01:13:12.823075",
     "status": "completed"
    },
    "tags": []
   },
   "source": [
    "#### After looking through the data at a high-level, we can figure out a few different things that we need to do. The target classes aren't perfectly symmetrical but they are split roughly 60/40 so class imbalance shouldn't be a huge issue. We'll proceed through a few steps as we model:\n",
    "* #### Our first step will be to clean the data -- this will include things like stripping out URLs and Stop-words, cleaning up repeated letters (check the 5th example in our negative classes above), and removing punctuation\n",
    "* #### Next, we'll tokenize the input tweets, breaking them down into tokens for easier training\n",
    "* #### We'll have to adress embedding schemes after tokenizing the data. We'll start with TF-IDF, and possibly try Word2Vec, and the built-in Tensorflow Embeddings Layer\n",
    "* #### After we have the data processed, we'll fit a vanilla RNN to the data and test the performance.\n",
    "* #### Once our baseline is established, we'll try other RNN architectures like LSTM, GRU, Bi-Directional\n",
    "* #### Whichever base architecture performs the best, we'll run some hyperparameter tuning on to fine-tune it\n",
    "* #### Once we've trained what we feel is our best model, we'll compare results and discuss what we've learned"
   ]
  },
  {
   "cell_type": "markdown",
   "id": "f221a838",
   "metadata": {
    "papermill": {
     "duration": 0.005988,
     "end_time": "2025-02-04T01:13:12.842223",
     "exception": false,
     "start_time": "2025-02-04T01:13:12.836235",
     "status": "completed"
    },
    "tags": []
   },
   "source": [
    "# Data Cleaning and Pre-processing"
   ]
  },
  {
   "cell_type": "markdown",
   "id": "57b4d7f1",
   "metadata": {
    "papermill": {
     "duration": 0.006168,
     "end_time": "2025-02-04T01:13:12.854537",
     "exception": false,
     "start_time": "2025-02-04T01:13:12.848369",
     "status": "completed"
    },
    "tags": []
   },
   "source": [
    "## Cleaning Tweets"
   ]
  },
  {
   "cell_type": "markdown",
   "id": "6cbc4d08",
   "metadata": {
    "papermill": {
     "duration": 0.006097,
     "end_time": "2025-02-04T01:13:12.866729",
     "exception": false,
     "start_time": "2025-02-04T01:13:12.860632",
     "status": "completed"
    },
    "tags": []
   },
   "source": [
    "#### We'll create a few methods to handle stripping out punctuation, URLs, and stopwords"
   ]
  },
  {
   "cell_type": "code",
   "execution_count": 8,
   "id": "bf30489d",
   "metadata": {
    "execution": {
     "iopub.execute_input": "2025-02-04T01:13:12.880548Z",
     "iopub.status.busy": "2025-02-04T01:13:12.880195Z",
     "iopub.status.idle": "2025-02-04T01:13:12.888069Z",
     "shell.execute_reply": "2025-02-04T01:13:12.887043Z"
    },
    "papermill": {
     "duration": 0.016883,
     "end_time": "2025-02-04T01:13:12.889852",
     "exception": false,
     "start_time": "2025-02-04T01:13:12.872969",
     "status": "completed"
    },
    "tags": []
   },
   "outputs": [],
   "source": [
    "def strip_urls(text):\n",
    "    urlstr = re.compile(r\"https?://\\S+|www\\.\\S+\")\n",
    "\n",
    "    return urlstr.sub(r\"\", text)\n",
    "\n",
    "\n",
    "def remove_punct(text):\n",
    "    punctrans = str.maketrans(\"\", \"\", string.punctuation)\n",
    "    return text.translate(punctrans)\n",
    "\n",
    "\n",
    "def remove_stops(text):\n",
    "    filtered = [word.lower() for word in text.split() if word.lower() not in stopwords.words('english')]\n",
    "    return \" \".join(filtered)\n",
    "\n",
    "\n",
    "def clean_and_prep_text(df_text: pd.DataFrame):\n",
    "    '''\n",
    "    Given an input dataframe, transform the text column\n",
    "    '''\n",
    "    urlstr = re.compile(r\"https?://\\S+|www\\.\\S+\")\n",
    "    punctrans = str.maketrans(\"\", \"\", string.punctuation)\n",
    "    stop_set = set(stopwords.words(\"english\"))\n",
    "    \n",
    "    df_text['no_url'] = df_text['text'].apply(lambda row: urlstr.sub(r\"\", row)) \n",
    "    df_text['no_punc'] = df_text['no_url'].apply(lambda row: row.translate(punctrans))\n",
    "    df_text['clean'] = df_text['no_punc'].apply(lambda row: ' '.join([word for word in row.split() if word not in stop_set]))\n",
    "    "
   ]
  },
  {
   "cell_type": "markdown",
   "id": "6bcb20c1",
   "metadata": {
    "papermill": {
     "duration": 0.006071,
     "end_time": "2025-02-04T01:13:12.902619",
     "exception": false,
     "start_time": "2025-02-04T01:13:12.896548",
     "status": "completed"
    },
    "tags": []
   },
   "source": [
    "## Tokenization"
   ]
  },
  {
   "cell_type": "code",
   "execution_count": null,
   "id": "e094884a",
   "metadata": {
    "papermill": {
     "duration": 0.006282,
     "end_time": "2025-02-04T01:13:12.915872",
     "exception": false,
     "start_time": "2025-02-04T01:13:12.909590",
     "status": "completed"
    },
    "tags": []
   },
   "outputs": [],
   "source": []
  },
  {
   "cell_type": "code",
   "execution_count": null,
   "id": "04fee018",
   "metadata": {
    "papermill": {
     "duration": 0.005617,
     "end_time": "2025-02-04T01:13:12.927779",
     "exception": false,
     "start_time": "2025-02-04T01:13:12.922162",
     "status": "completed"
    },
    "tags": []
   },
   "outputs": [],
   "source": []
  },
  {
   "cell_type": "markdown",
   "id": "2caf1fdd",
   "metadata": {
    "papermill": {
     "duration": 0.005781,
     "end_time": "2025-02-04T01:13:12.939512",
     "exception": false,
     "start_time": "2025-02-04T01:13:12.933731",
     "status": "completed"
    },
    "tags": []
   },
   "source": [
    "## Embedding the Text"
   ]
  },
  {
   "cell_type": "markdown",
   "id": "05400d1f",
   "metadata": {
    "papermill": {
     "duration": 0.005616,
     "end_time": "2025-02-04T01:13:12.951206",
     "exception": false,
     "start_time": "2025-02-04T01:13:12.945590",
     "status": "completed"
    },
    "tags": []
   },
   "source": [
    "# Model Building and Training"
   ]
  },
  {
   "cell_type": "markdown",
   "id": "e7b42249",
   "metadata": {
    "papermill": {
     "duration": 0.006079,
     "end_time": "2025-02-04T01:13:12.963285",
     "exception": false,
     "start_time": "2025-02-04T01:13:12.957206",
     "status": "completed"
    },
    "tags": []
   },
   "source": [
    "## Basic Architecture"
   ]
  },
  {
   "cell_type": "markdown",
   "id": "e0044a01",
   "metadata": {
    "papermill": {
     "duration": 0.005646,
     "end_time": "2025-02-04T01:13:12.975128",
     "exception": false,
     "start_time": "2025-02-04T01:13:12.969482",
     "status": "completed"
    },
    "tags": []
   },
   "source": [
    "## Training and Exploring Results"
   ]
  },
  {
   "cell_type": "markdown",
   "id": "d06ab1df",
   "metadata": {
    "papermill": {
     "duration": 0.006078,
     "end_time": "2025-02-04T01:13:12.988387",
     "exception": false,
     "start_time": "2025-02-04T01:13:12.982309",
     "status": "completed"
    },
    "tags": []
   },
   "source": [
    "## Hyperparameter Tuning and Other Architectures"
   ]
  },
  {
   "cell_type": "markdown",
   "id": "203f3914",
   "metadata": {
    "papermill": {
     "duration": 0.006415,
     "end_time": "2025-02-04T01:13:13.001427",
     "exception": false,
     "start_time": "2025-02-04T01:13:12.995012",
     "status": "completed"
    },
    "tags": []
   },
   "source": [
    "# Submissions and Results"
   ]
  },
  {
   "cell_type": "markdown",
   "id": "838be817",
   "metadata": {
    "papermill": {
     "duration": 0.005686,
     "end_time": "2025-02-04T01:13:13.013169",
     "exception": false,
     "start_time": "2025-02-04T01:13:13.007483",
     "status": "completed"
    },
    "tags": []
   },
   "source": [
    "## Comparing Models"
   ]
  },
  {
   "cell_type": "markdown",
   "id": "9d4ea40f",
   "metadata": {
    "papermill": {
     "duration": 0.005636,
     "end_time": "2025-02-04T01:13:13.024909",
     "exception": false,
     "start_time": "2025-02-04T01:13:13.019273",
     "status": "completed"
    },
    "tags": []
   },
   "source": [
    "## Conclusions"
   ]
  },
  {
   "cell_type": "code",
   "execution_count": null,
   "id": "39f993c0",
   "metadata": {
    "papermill": {
     "duration": 0.006499,
     "end_time": "2025-02-04T01:13:13.037258",
     "exception": false,
     "start_time": "2025-02-04T01:13:13.030759",
     "status": "completed"
    },
    "tags": []
   },
   "outputs": [],
   "source": []
  }
 ],
 "metadata": {
  "kaggle": {
   "accelerator": "none",
   "dataSources": [
    {
     "databundleVersionId": 869809,
     "sourceId": 17777,
     "sourceType": "competition"
    }
   ],
   "dockerImageVersionId": 30839,
   "isGpuEnabled": false,
   "isInternetEnabled": true,
   "language": "python",
   "sourceType": "notebook"
  },
  "kernelspec": {
   "display_name": "Python 3",
   "language": "python",
   "name": "python3"
  },
  "language_info": {
   "codemirror_mode": {
    "name": "ipython",
    "version": 3
   },
   "file_extension": ".py",
   "mimetype": "text/x-python",
   "name": "python",
   "nbconvert_exporter": "python",
   "pygments_lexer": "ipython3",
   "version": "3.10.12"
  },
  "papermill": {
   "default_parameters": {},
   "duration": 26.288563,
   "end_time": "2025-02-04T01:13:14.768686",
   "environment_variables": {},
   "exception": null,
   "input_path": "__notebook__.ipynb",
   "output_path": "__notebook__.ipynb",
   "parameters": {},
   "start_time": "2025-02-04T01:12:48.480123",
   "version": "2.6.0"
  }
 },
 "nbformat": 4,
 "nbformat_minor": 5
}
