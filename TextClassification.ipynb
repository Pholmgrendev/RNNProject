{
 "cells": [
  {
   "cell_type": "markdown",
   "id": "e351111e",
   "metadata": {
    "papermill": {
     "duration": 0.007402,
     "end_time": "2025-02-11T01:06:18.298855",
     "exception": false,
     "start_time": "2025-02-11T01:06:18.291453",
     "status": "completed"
    },
    "tags": []
   },
   "source": [
    "# Disaster Tweet Classification with RNN Models"
   ]
  },
  {
   "cell_type": "markdown",
   "id": "25e94888",
   "metadata": {
    "papermill": {
     "duration": 0.006427,
     "end_time": "2025-02-11T01:06:18.312198",
     "exception": false,
     "start_time": "2025-02-11T01:06:18.305771",
     "status": "completed"
    },
    "tags": []
   },
   "source": [
    "#### For this competition, we will be trying to classify tweets based on whether they are about a natural disaster or not. \n",
    "#### We'll build an RNN using the Tensorflow library and compare different architectures (Vanilla, LSTM, GRU, etc) as well as explore different embedding techniques to see if we can boost performance. "
   ]
  },
  {
   "cell_type": "code",
   "execution_count": 1,
   "id": "36f8d63e",
   "metadata": {
    "_cell_guid": "b1076dfc-b9ad-4769-8c92-a6c4dae69d19",
    "_uuid": "8f2839f25d086af736a60e9eeb907d3b93b6e0e5",
    "execution": {
     "iopub.execute_input": "2025-02-11T01:06:18.326649Z",
     "iopub.status.busy": "2025-02-11T01:06:18.326294Z",
     "iopub.status.idle": "2025-02-11T01:06:33.180429Z",
     "shell.execute_reply": "2025-02-11T01:06:33.179732Z"
    },
    "papermill": {
     "duration": 14.863198,
     "end_time": "2025-02-11T01:06:33.181995",
     "exception": false,
     "start_time": "2025-02-11T01:06:18.318797",
     "status": "completed"
    },
    "tags": []
   },
   "outputs": [
    {
     "name": "stdout",
     "output_type": "stream",
     "text": [
      "/kaggle/input/nlp-getting-started/sample_submission.csv\n",
      "/kaggle/input/nlp-getting-started/train.csv\n",
      "/kaggle/input/nlp-getting-started/test.csv\n",
      "[nltk_data] Downloading package wordnet to /kaggle/working/...\n"
     ]
    }
   ],
   "source": [
    "import warnings\n",
    "warnings.simplefilter(action='ignore', category=FutureWarning)\n",
    "warnings.simplefilter(action='ignore', category=UserWarning)\n",
    "\n",
    "import re\n",
    "import string\n",
    "import subprocess\n",
    "\n",
    "import keras\n",
    "import nltk.corpus\n",
    "import numpy as np\n",
    "import pandas as pd\n",
    "import tensorflow as tf\n",
    "import matplotlib.pyplot as plt\n",
    "import seaborn as sns\n",
    "\n",
    "from collections import Counter\n",
    "from sklearn.model_selection import train_test_split\n",
    "from keras.models import Sequential\n",
    "from tensorflow.keras.callbacks import EarlyStopping\n",
    "from tensorflow.keras.layers import InputLayer, SimpleRNN, LSTM, GRU, Dense, Embedding, Dropout, BatchNormalization\n",
    "from tensorflow.keras.preprocessing.text import Tokenizer\n",
    "from tensorflow.keras.preprocessing.sequence import pad_sequences\n",
    "from nltk.corpus import stopwords\n",
    "from nltk.stem import WordNetLemmatizer\n",
    "\n",
    "import os\n",
    "for dirname, _, filenames in os.walk('/kaggle/input'):\n",
    "    for filename in filenames:\n",
    "        print(os.path.join(dirname, filename))\n",
    "\n",
    "try: \n",
    "    nltk.data.find('wordnet.zip')\n",
    "except:\n",
    "    nltk.download('wordnet', download_dir='/kaggle/working/')\n",
    "    command = \"unzip /kaggle/working/corpora/wordnet.zip -d /kaggle/working/corpora\"\n",
    "    subprocess.run(command.split())\n",
    "    nltk.data.path.append('/kaggle/working/')"
   ]
  },
  {
   "cell_type": "markdown",
   "id": "0a62b0a8",
   "metadata": {
    "papermill": {
     "duration": 0.006775,
     "end_time": "2025-02-11T01:06:33.196106",
     "exception": false,
     "start_time": "2025-02-11T01:06:33.189331",
     "status": "completed"
    },
    "tags": []
   },
   "source": [
    "# EDA"
   ]
  },
  {
   "cell_type": "markdown",
   "id": "7838ab6b",
   "metadata": {
    "papermill": {
     "duration": 0.006413,
     "end_time": "2025-02-11T01:06:33.209270",
     "exception": false,
     "start_time": "2025-02-11T01:06:33.202857",
     "status": "completed"
    },
    "tags": []
   },
   "source": [
    "## Data Exploration"
   ]
  },
  {
   "cell_type": "markdown",
   "id": "9c29d5eb",
   "metadata": {
    "papermill": {
     "duration": 0.006341,
     "end_time": "2025-02-11T01:06:33.222231",
     "exception": false,
     "start_time": "2025-02-11T01:06:33.215890",
     "status": "completed"
    },
    "tags": []
   },
   "source": [
    "#### First, we'll import the data and get some summary statistics about it. We'll also take a look at some example tweets from each class and figure out our plan of attack"
   ]
  },
  {
   "cell_type": "code",
   "execution_count": 2,
   "id": "22784336",
   "metadata": {
    "execution": {
     "iopub.execute_input": "2025-02-11T01:06:33.237029Z",
     "iopub.status.busy": "2025-02-11T01:06:33.236481Z",
     "iopub.status.idle": "2025-02-11T01:06:33.306114Z",
     "shell.execute_reply": "2025-02-11T01:06:33.305153Z"
    },
    "papermill": {
     "duration": 0.078818,
     "end_time": "2025-02-11T01:06:33.307821",
     "exception": false,
     "start_time": "2025-02-11T01:06:33.229003",
     "status": "completed"
    },
    "tags": []
   },
   "outputs": [],
   "source": [
    "train_path = '../input/nlp-getting-started/train.csv'\n",
    "test_path = '../input/nlp-getting-started/test.csv'\n",
    "\n",
    "train_raw = pd.read_csv(train_path)\n",
    "test_raw = pd.read_csv(test_path)"
   ]
  },
  {
   "cell_type": "code",
   "execution_count": 3,
   "id": "028fa287",
   "metadata": {
    "execution": {
     "iopub.execute_input": "2025-02-11T01:06:33.322789Z",
     "iopub.status.busy": "2025-02-11T01:06:33.322531Z",
     "iopub.status.idle": "2025-02-11T01:06:33.347976Z",
     "shell.execute_reply": "2025-02-11T01:06:33.347106Z"
    },
    "papermill": {
     "duration": 0.034311,
     "end_time": "2025-02-11T01:06:33.349251",
     "exception": false,
     "start_time": "2025-02-11T01:06:33.314940",
     "status": "completed"
    },
    "tags": []
   },
   "outputs": [
    {
     "name": "stdout",
     "output_type": "stream",
     "text": [
      "<class 'pandas.core.frame.DataFrame'>\n",
      "RangeIndex: 7613 entries, 0 to 7612\n",
      "Data columns (total 5 columns):\n",
      " #   Column    Non-Null Count  Dtype \n",
      "---  ------    --------------  ----- \n",
      " 0   id        7613 non-null   int64 \n",
      " 1   keyword   7552 non-null   object\n",
      " 2   location  5080 non-null   object\n",
      " 3   text      7613 non-null   object\n",
      " 4   target    7613 non-null   int64 \n",
      "dtypes: int64(2), object(3)\n",
      "memory usage: 297.5+ KB\n"
     ]
    }
   ],
   "source": [
    "train_raw.info()"
   ]
  },
  {
   "cell_type": "code",
   "execution_count": 4,
   "id": "7a09cb65",
   "metadata": {
    "execution": {
     "iopub.execute_input": "2025-02-11T01:06:33.363481Z",
     "iopub.status.busy": "2025-02-11T01:06:33.363260Z",
     "iopub.status.idle": "2025-02-11T01:06:33.376047Z",
     "shell.execute_reply": "2025-02-11T01:06:33.375337Z"
    },
    "papermill": {
     "duration": 0.021208,
     "end_time": "2025-02-11T01:06:33.377309",
     "exception": false,
     "start_time": "2025-02-11T01:06:33.356101",
     "status": "completed"
    },
    "tags": []
   },
   "outputs": [
    {
     "data": {
      "text/html": [
       "<div>\n",
       "<style scoped>\n",
       "    .dataframe tbody tr th:only-of-type {\n",
       "        vertical-align: middle;\n",
       "    }\n",
       "\n",
       "    .dataframe tbody tr th {\n",
       "        vertical-align: top;\n",
       "    }\n",
       "\n",
       "    .dataframe thead th {\n",
       "        text-align: right;\n",
       "    }\n",
       "</style>\n",
       "<table border=\"1\" class=\"dataframe\">\n",
       "  <thead>\n",
       "    <tr style=\"text-align: right;\">\n",
       "      <th></th>\n",
       "      <th>id</th>\n",
       "      <th>keyword</th>\n",
       "      <th>location</th>\n",
       "      <th>text</th>\n",
       "      <th>target</th>\n",
       "    </tr>\n",
       "  </thead>\n",
       "  <tbody>\n",
       "    <tr>\n",
       "      <th>0</th>\n",
       "      <td>1</td>\n",
       "      <td>NaN</td>\n",
       "      <td>NaN</td>\n",
       "      <td>Our Deeds are the Reason of this #earthquake M...</td>\n",
       "      <td>1</td>\n",
       "    </tr>\n",
       "    <tr>\n",
       "      <th>1</th>\n",
       "      <td>4</td>\n",
       "      <td>NaN</td>\n",
       "      <td>NaN</td>\n",
       "      <td>Forest fire near La Ronge Sask. Canada</td>\n",
       "      <td>1</td>\n",
       "    </tr>\n",
       "    <tr>\n",
       "      <th>2</th>\n",
       "      <td>5</td>\n",
       "      <td>NaN</td>\n",
       "      <td>NaN</td>\n",
       "      <td>All residents asked to 'shelter in place' are ...</td>\n",
       "      <td>1</td>\n",
       "    </tr>\n",
       "    <tr>\n",
       "      <th>3</th>\n",
       "      <td>6</td>\n",
       "      <td>NaN</td>\n",
       "      <td>NaN</td>\n",
       "      <td>13,000 people receive #wildfires evacuation or...</td>\n",
       "      <td>1</td>\n",
       "    </tr>\n",
       "    <tr>\n",
       "      <th>4</th>\n",
       "      <td>7</td>\n",
       "      <td>NaN</td>\n",
       "      <td>NaN</td>\n",
       "      <td>Just got sent this photo from Ruby #Alaska as ...</td>\n",
       "      <td>1</td>\n",
       "    </tr>\n",
       "  </tbody>\n",
       "</table>\n",
       "</div>"
      ],
      "text/plain": [
       "   id keyword location                                               text  \\\n",
       "0   1     NaN      NaN  Our Deeds are the Reason of this #earthquake M...   \n",
       "1   4     NaN      NaN             Forest fire near La Ronge Sask. Canada   \n",
       "2   5     NaN      NaN  All residents asked to 'shelter in place' are ...   \n",
       "3   6     NaN      NaN  13,000 people receive #wildfires evacuation or...   \n",
       "4   7     NaN      NaN  Just got sent this photo from Ruby #Alaska as ...   \n",
       "\n",
       "   target  \n",
       "0       1  \n",
       "1       1  \n",
       "2       1  \n",
       "3       1  \n",
       "4       1  "
      ]
     },
     "execution_count": 4,
     "metadata": {},
     "output_type": "execute_result"
    }
   ],
   "source": [
    "train_raw.head()"
   ]
  },
  {
   "cell_type": "code",
   "execution_count": 5,
   "id": "b09f8474",
   "metadata": {
    "execution": {
     "iopub.execute_input": "2025-02-11T01:06:33.392081Z",
     "iopub.status.busy": "2025-02-11T01:06:33.391834Z",
     "iopub.status.idle": "2025-02-11T01:06:33.400315Z",
     "shell.execute_reply": "2025-02-11T01:06:33.399670Z"
    },
    "papermill": {
     "duration": 0.01731,
     "end_time": "2025-02-11T01:06:33.401583",
     "exception": false,
     "start_time": "2025-02-11T01:06:33.384273",
     "status": "completed"
    },
    "tags": []
   },
   "outputs": [
    {
     "data": {
      "text/plain": [
       "0    Our Deeds are the Reason of this #earthquake M...\n",
       "1               Forest fire near La Ronge Sask. Canada\n",
       "2    All residents asked to 'shelter in place' are ...\n",
       "3    13,000 people receive #wildfires evacuation or...\n",
       "4    Just got sent this photo from Ruby #Alaska as ...\n",
       "Name: text, dtype: object"
      ]
     },
     "execution_count": 5,
     "metadata": {},
     "output_type": "execute_result"
    }
   ],
   "source": [
    "positive_examples = train_raw[train_raw['target'] == 1]\n",
    "negative_examples = train_raw[train_raw['target'] == 0]\n",
    "\n",
    "positive_examples['text'].head()"
   ]
  },
  {
   "cell_type": "code",
   "execution_count": 6,
   "id": "25effa57",
   "metadata": {
    "execution": {
     "iopub.execute_input": "2025-02-11T01:06:33.416103Z",
     "iopub.status.busy": "2025-02-11T01:06:33.415889Z",
     "iopub.status.idle": "2025-02-11T01:06:33.420881Z",
     "shell.execute_reply": "2025-02-11T01:06:33.420070Z"
    },
    "papermill": {
     "duration": 0.013612,
     "end_time": "2025-02-11T01:06:33.422084",
     "exception": false,
     "start_time": "2025-02-11T01:06:33.408472",
     "status": "completed"
    },
    "tags": []
   },
   "outputs": [
    {
     "data": {
      "text/plain": [
       "15                  What's up man?\n",
       "16                   I love fruits\n",
       "17                Summer is lovely\n",
       "18               My car is so fast\n",
       "19    What a goooooooaaaaaal!!!!!!\n",
       "Name: text, dtype: object"
      ]
     },
     "execution_count": 6,
     "metadata": {},
     "output_type": "execute_result"
    }
   ],
   "source": [
    "negative_examples['text'].head()"
   ]
  },
  {
   "cell_type": "code",
   "execution_count": 7,
   "id": "fbb06222",
   "metadata": {
    "execution": {
     "iopub.execute_input": "2025-02-11T01:06:33.437037Z",
     "iopub.status.busy": "2025-02-11T01:06:33.436784Z",
     "iopub.status.idle": "2025-02-11T01:06:33.619066Z",
     "shell.execute_reply": "2025-02-11T01:06:33.618158Z"
    },
    "papermill": {
     "duration": 0.191059,
     "end_time": "2025-02-11T01:06:33.620302",
     "exception": false,
     "start_time": "2025-02-11T01:06:33.429243",
     "status": "completed"
    },
    "tags": []
   },
   "outputs": [
    {
     "data": {
      "image/png": "[encoded data removed]",
      "text/plain": [
       "<Figure size 400x400 with 1 Axes>"
      ]
     },
     "metadata": {},
     "output_type": "display_data"
    }
   ],
   "source": [
    "plt.figure(figsize=(4, 4))\n",
    "sns.countplot(x='target', data=train_raw)\n",
    "plt.title('Class Distribution')\n",
    "plt.show()"
   ]
  },
  {
   "cell_type": "markdown",
   "id": "e4d0dcc8",
   "metadata": {
    "papermill": {
     "duration": 0.007097,
     "end_time": "2025-02-11T01:06:33.635028",
     "exception": false,
     "start_time": "2025-02-11T01:06:33.627931",
     "status": "completed"
    },
    "tags": []
   },
   "source": [
    "## Analysis Plan"
   ]
  },
  {
   "cell_type": "markdown",
   "id": "b0dcf840",
   "metadata": {
    "papermill": {
     "duration": 0.007066,
     "end_time": "2025-02-11T01:06:33.649318",
     "exception": false,
     "start_time": "2025-02-11T01:06:33.642252",
     "status": "completed"
    },
    "tags": []
   },
   "source": [
    "#### After looking through the data at a high-level, we can figure out a few different things that we need to do. The target classes aren't perfectly symmetrical but they are split roughly 60/40 so class imbalance shouldn't be a huge issue. We'll proceed through a few steps as we model:\n",
    "* #### Our first step will be to clean the data -- this will include things like stripping out URLs and Stop-words, cleaning up repeated letters (check the 5th example in our negative classes above), and removing punctuation\n",
    "* #### Next, we'll tokenize the input tweets, breaking them down into tokens for easier training\n",
    "* #### We'll have to adress embedding schemes after tokenizing the data. We'll start with TF-IDF, and possibly try Word2Vec, and the built-in Tensorflow Embeddings Layer\n",
    "* #### After we have the data processed, we'll fit a vanilla RNN to the data and test the performance.\n",
    "* #### Once our baseline is established, we'll try other RNN architectures like LSTM, GRU, Bi-Directional\n",
    "* #### Whichever base architecture performs the best, we'll run some hyperparameter tuning on to fine-tune it\n",
    "* #### Once we've trained what we feel is our best model, we'll compare results and discuss what we've learned"
   ]
  },
  {
   "cell_type": "markdown",
   "id": "a75ffbe8",
   "metadata": {
    "papermill": {
     "duration": 0.007075,
     "end_time": "2025-02-11T01:06:33.663634",
     "exception": false,
     "start_time": "2025-02-11T01:06:33.656559",
     "status": "completed"
    },
    "tags": []
   },
   "source": [
    "# Data Cleaning and Pre-processing"
   ]
  },
  {
   "cell_type": "markdown",
   "id": "d6526d1e",
   "metadata": {
    "papermill": {
     "duration": 0.007003,
     "end_time": "2025-02-11T01:06:33.677812",
     "exception": false,
     "start_time": "2025-02-11T01:06:33.670809",
     "status": "completed"
    },
    "tags": []
   },
   "source": [
    "## Cleaning Tweets"
   ]
  },
  {
   "cell_type": "markdown",
   "id": "4e9206fa",
   "metadata": {
    "papermill": {
     "duration": 0.006991,
     "end_time": "2025-02-11T01:06:33.692016",
     "exception": false,
     "start_time": "2025-02-11T01:06:33.685025",
     "status": "completed"
    },
    "tags": []
   },
   "source": [
    "#### We'll create a few methods to handle stripping out punctuation, URLs, and stopwords. We'll also lemmatize the text here instead of tokenizing. We'll cover what our tokenization approach is in the next block"
   ]
  },
  {
   "cell_type": "code",
   "execution_count": 8,
   "id": "2a33cb06",
   "metadata": {
    "execution": {
     "iopub.execute_input": "2025-02-11T01:06:33.707640Z",
     "iopub.status.busy": "2025-02-11T01:06:33.707276Z",
     "iopub.status.idle": "2025-02-11T01:06:33.713348Z",
     "shell.execute_reply": "2025-02-11T01:06:33.712484Z"
    },
    "papermill": {
     "duration": 0.015524,
     "end_time": "2025-02-11T01:06:33.714748",
     "exception": false,
     "start_time": "2025-02-11T01:06:33.699224",
     "status": "completed"
    },
    "tags": []
   },
   "outputs": [],
   "source": [
    "def clean_and_prep_text(df_text: pd.DataFrame):\n",
    "    '''\n",
    "    Given an input dataframe, transform the text column\n",
    "    '''\n",
    "    lemmatizer = WordNetLemmatizer()\n",
    "    urlstr = re.compile(r\"https?://\\S+|www\\.\\S+\")\n",
    "    punctrans = str.maketrans(\"\", \"\", string.punctuation)\n",
    "    stop_set = set(stopwords.words(\"english\"))\n",
    "    \n",
    "    df_text['no_url'] = df_text['text'].apply(lambda row: urlstr.sub(r\"\", row)) \n",
    "    df_text['no_punc'] = df_text['no_url'].apply(lambda row: row.translate(punctrans))\n",
    "    df_text['clean'] = df_text['no_punc'].apply(lambda row: ' '.join([word.lower() for word in row.split() if word not in stop_set]))\n",
    "    df_text['lemmas'] = df_text['clean'].apply(lambda row: ' '.join([lemmatizer.lemmatize(word) for word in row.split()]))\n",
    "\n",
    "    df_text.drop(['no_url', 'no_punc', 'clean'], axis=1, inplace=True)\n",
    "\n",
    "    return\n",
    "    "
   ]
  },
  {
   "cell_type": "markdown",
   "id": "2cc8855f",
   "metadata": {
    "papermill": {
     "duration": 0.00707,
     "end_time": "2025-02-11T01:06:33.729400",
     "exception": false,
     "start_time": "2025-02-11T01:06:33.722330",
     "status": "completed"
    },
    "tags": []
   },
   "source": [
    "## Tokenization"
   ]
  },
  {
   "cell_type": "markdown",
   "id": "aa7359b2",
   "metadata": {
    "papermill": {
     "duration": 0.006978,
     "end_time": "2025-02-11T01:06:33.743598",
     "exception": false,
     "start_time": "2025-02-11T01:06:33.736620",
     "status": "completed"
    },
    "tags": []
   },
   "source": [
    "#### Next, we'll actually apply our cleaning to the data. We'll split into train/validation before applying our tokenization function since we want the encoding to be based only on the training data -- this will prevent leakage from the validation set"
   ]
  },
  {
   "cell_type": "code",
   "execution_count": 9,
   "id": "1735d3ef",
   "metadata": {
    "execution": {
     "iopub.execute_input": "2025-02-11T01:06:33.759182Z",
     "iopub.status.busy": "2025-02-11T01:06:33.758878Z",
     "iopub.status.idle": "2025-02-11T01:06:35.460139Z",
     "shell.execute_reply": "2025-02-11T01:06:35.459411Z"
    },
    "papermill": {
     "duration": 1.710987,
     "end_time": "2025-02-11T01:06:35.461768",
     "exception": false,
     "start_time": "2025-02-11T01:06:33.750781",
     "status": "completed"
    },
    "tags": []
   },
   "outputs": [],
   "source": [
    "clean_and_prep_text(train_raw)"
   ]
  },
  {
   "cell_type": "code",
   "execution_count": 10,
   "id": "232114b3",
   "metadata": {
    "execution": {
     "iopub.execute_input": "2025-02-11T01:06:35.478224Z",
     "iopub.status.busy": "2025-02-11T01:06:35.477956Z",
     "iopub.status.idle": "2025-02-11T01:06:35.486794Z",
     "shell.execute_reply": "2025-02-11T01:06:35.485945Z"
    },
    "papermill": {
     "duration": 0.018312,
     "end_time": "2025-02-11T01:06:35.488067",
     "exception": false,
     "start_time": "2025-02-11T01:06:35.469755",
     "status": "completed"
    },
    "tags": []
   },
   "outputs": [
    {
     "data": {
      "text/html": [
       "<div>\n",
       "<style scoped>\n",
       "    .dataframe tbody tr th:only-of-type {\n",
       "        vertical-align: middle;\n",
       "    }\n",
       "\n",
       "    .dataframe tbody tr th {\n",
       "        vertical-align: top;\n",
       "    }\n",
       "\n",
       "    .dataframe thead th {\n",
       "        text-align: right;\n",
       "    }\n",
       "</style>\n",
       "<table border=\"1\" class=\"dataframe\">\n",
       "  <thead>\n",
       "    <tr style=\"text-align: right;\">\n",
       "      <th></th>\n",
       "      <th>id</th>\n",
       "      <th>keyword</th>\n",
       "      <th>location</th>\n",
       "      <th>text</th>\n",
       "      <th>target</th>\n",
       "      <th>lemmas</th>\n",
       "    </tr>\n",
       "  </thead>\n",
       "  <tbody>\n",
       "    <tr>\n",
       "      <th>0</th>\n",
       "      <td>1</td>\n",
       "      <td>NaN</td>\n",
       "      <td>NaN</td>\n",
       "      <td>Our Deeds are the Reason of this #earthquake M...</td>\n",
       "      <td>1</td>\n",
       "      <td>our deed reason earthquake may allah forgive u</td>\n",
       "    </tr>\n",
       "    <tr>\n",
       "      <th>1</th>\n",
       "      <td>4</td>\n",
       "      <td>NaN</td>\n",
       "      <td>NaN</td>\n",
       "      <td>Forest fire near La Ronge Sask. Canada</td>\n",
       "      <td>1</td>\n",
       "      <td>forest fire near la ronge sask canada</td>\n",
       "    </tr>\n",
       "    <tr>\n",
       "      <th>2</th>\n",
       "      <td>5</td>\n",
       "      <td>NaN</td>\n",
       "      <td>NaN</td>\n",
       "      <td>All residents asked to 'shelter in place' are ...</td>\n",
       "      <td>1</td>\n",
       "      <td>all resident asked shelter place notified offi...</td>\n",
       "    </tr>\n",
       "    <tr>\n",
       "      <th>3</th>\n",
       "      <td>6</td>\n",
       "      <td>NaN</td>\n",
       "      <td>NaN</td>\n",
       "      <td>13,000 people receive #wildfires evacuation or...</td>\n",
       "      <td>1</td>\n",
       "      <td>13000 people receive wildfire evacuation order...</td>\n",
       "    </tr>\n",
       "    <tr>\n",
       "      <th>4</th>\n",
       "      <td>7</td>\n",
       "      <td>NaN</td>\n",
       "      <td>NaN</td>\n",
       "      <td>Just got sent this photo from Ruby #Alaska as ...</td>\n",
       "      <td>1</td>\n",
       "      <td>just got sent photo ruby alaska smoke wildfire...</td>\n",
       "    </tr>\n",
       "  </tbody>\n",
       "</table>\n",
       "</div>"
      ],
      "text/plain": [
       "   id keyword location                                               text  \\\n",
       "0   1     NaN      NaN  Our Deeds are the Reason of this #earthquake M...   \n",
       "1   4     NaN      NaN             Forest fire near La Ronge Sask. Canada   \n",
       "2   5     NaN      NaN  All residents asked to 'shelter in place' are ...   \n",
       "3   6     NaN      NaN  13,000 people receive #wildfires evacuation or...   \n",
       "4   7     NaN      NaN  Just got sent this photo from Ruby #Alaska as ...   \n",
       "\n",
       "   target                                             lemmas  \n",
       "0       1     our deed reason earthquake may allah forgive u  \n",
       "1       1              forest fire near la ronge sask canada  \n",
       "2       1  all resident asked shelter place notified offi...  \n",
       "3       1  13000 people receive wildfire evacuation order...  \n",
       "4       1  just got sent photo ruby alaska smoke wildfire...  "
      ]
     },
     "execution_count": 10,
     "metadata": {},
     "output_type": "execute_result"
    }
   ],
   "source": [
    "train_raw.head()"
   ]
  },
  {
   "cell_type": "code",
   "execution_count": 11,
   "id": "454e27f4",
   "metadata": {
    "execution": {
     "iopub.execute_input": "2025-02-11T01:06:35.504370Z",
     "iopub.status.busy": "2025-02-11T01:06:35.504091Z",
     "iopub.status.idle": "2025-02-11T01:06:35.511171Z",
     "shell.execute_reply": "2025-02-11T01:06:35.510562Z"
    },
    "papermill": {
     "duration": 0.016494,
     "end_time": "2025-02-11T01:06:35.512459",
     "exception": false,
     "start_time": "2025-02-11T01:06:35.495965",
     "status": "completed"
    },
    "tags": []
   },
   "outputs": [],
   "source": [
    "df_train, df_val = train_test_split(train_raw, test_size = 0.20, random_state=4022)\n",
    "\n",
    "train_text = df_train.lemmas.to_numpy()\n",
    "train_labels = df_train.target.to_numpy()\n",
    "\n",
    "val_text = df_val.lemmas.to_numpy()\n",
    "val_labels = df_val.target.to_numpy()"
   ]
  },
  {
   "cell_type": "code",
   "execution_count": 12,
   "id": "57947ea0",
   "metadata": {
    "execution": {
     "iopub.execute_input": "2025-02-11T01:06:35.528712Z",
     "iopub.status.busy": "2025-02-11T01:06:35.528428Z",
     "iopub.status.idle": "2025-02-11T01:06:35.532131Z",
     "shell.execute_reply": "2025-02-11T01:06:35.531331Z"
    },
    "papermill": {
     "duration": 0.012964,
     "end_time": "2025-02-11T01:06:35.533313",
     "exception": false,
     "start_time": "2025-02-11T01:06:35.520349",
     "status": "completed"
    },
    "tags": []
   },
   "outputs": [],
   "source": [
    "def count_words(df):\n",
    "    count = Counter()\n",
    "    for text in df.lemmas.values:\n",
    "        for word in text.split():\n",
    "            count[word] += 1\n",
    "    return count"
   ]
  },
  {
   "cell_type": "code",
   "execution_count": 13,
   "id": "d2d1f46e",
   "metadata": {
    "execution": {
     "iopub.execute_input": "2025-02-11T01:06:35.549360Z",
     "iopub.status.busy": "2025-02-11T01:06:35.549125Z",
     "iopub.status.idle": "2025-02-11T01:06:35.577211Z",
     "shell.execute_reply": "2025-02-11T01:06:35.576463Z"
    },
    "papermill": {
     "duration": 0.03727,
     "end_time": "2025-02-11T01:06:35.578361",
     "exception": false,
     "start_time": "2025-02-11T01:06:35.541091",
     "status": "completed"
    },
    "tags": []
   },
   "outputs": [
    {
     "name": "stdout",
     "output_type": "stream",
     "text": [
      "There are: 16781 unique words in our training set\n"
     ]
    }
   ],
   "source": [
    "word_count = len(count_words(train_raw))\n",
    "print(\"There are: \" + str(word_count) + \" unique words in our training set\")"
   ]
  },
  {
   "cell_type": "code",
   "execution_count": 14,
   "id": "3afc6454",
   "metadata": {
    "execution": {
     "iopub.execute_input": "2025-02-11T01:06:35.594587Z",
     "iopub.status.busy": "2025-02-11T01:06:35.594320Z",
     "iopub.status.idle": "2025-02-11T01:06:35.786183Z",
     "shell.execute_reply": "2025-02-11T01:06:35.785487Z"
    },
    "papermill": {
     "duration": 0.201485,
     "end_time": "2025-02-11T01:06:35.787753",
     "exception": false,
     "start_time": "2025-02-11T01:06:35.586268",
     "status": "completed"
    },
    "tags": []
   },
   "outputs": [],
   "source": [
    "max_words = 25 # Roughly the number of words in an average 140 character tweet\n",
    "tokenizer = Tokenizer(num_words=word_count)\n",
    "tokenizer.fit_on_texts(train_text)\n",
    "\n",
    "train_sequences = tokenizer.texts_to_sequences(train_text)\n",
    "val_sequences = tokenizer.texts_to_sequences(val_text)\n",
    "\n",
    "train_pad = pad_sequences(train_sequences, maxlen=max_words, padding='post', truncating='post')\n",
    "val_pad = pad_sequences(val_sequences, maxlen=max_words, padding='post', truncating='post')"
   ]
  },
  {
   "cell_type": "markdown",
   "id": "c8c769fe",
   "metadata": {
    "papermill": {
     "duration": 0.007427,
     "end_time": "2025-02-11T01:06:35.803190",
     "exception": false,
     "start_time": "2025-02-11T01:06:35.795763",
     "status": "completed"
    },
    "tags": []
   },
   "source": [
    "## Embedding the Text"
   ]
  },
  {
   "cell_type": "markdown",
   "id": "7cd12b64",
   "metadata": {
    "papermill": {
     "duration": 0.007183,
     "end_time": "2025-02-11T01:06:35.817951",
     "exception": false,
     "start_time": "2025-02-11T01:06:35.810768",
     "status": "completed"
    },
    "tags": []
   },
   "source": [
    "#### We're just going to stick with the built-in embedding layer from Tensorflow. This makes it easy to add embeddings to our model, and gives us a hyperparameter to tune for better performance (the dimension of the embedding)"
   ]
  },
  {
   "cell_type": "markdown",
   "id": "a1156390",
   "metadata": {
    "papermill": {
     "duration": 0.007291,
     "end_time": "2025-02-11T01:06:35.832722",
     "exception": false,
     "start_time": "2025-02-11T01:06:35.825431",
     "status": "completed"
    },
    "tags": []
   },
   "source": [
    "# Model Building and Training"
   ]
  },
  {
   "cell_type": "markdown",
   "id": "48abd03a",
   "metadata": {
    "papermill": {
     "duration": 0.007233,
     "end_time": "2025-02-11T01:06:35.847312",
     "exception": false,
     "start_time": "2025-02-11T01:06:35.840079",
     "status": "completed"
    },
    "tags": []
   },
   "source": [
    "## Basic Architecture"
   ]
  },
  {
   "cell_type": "code",
   "execution_count": 15,
   "id": "e66266d1",
   "metadata": {
    "execution": {
     "iopub.execute_input": "2025-02-11T01:06:35.863255Z",
     "iopub.status.busy": "2025-02-11T01:06:35.862970Z",
     "iopub.status.idle": "2025-02-11T01:06:38.087878Z",
     "shell.execute_reply": "2025-02-11T01:06:38.087165Z"
    },
    "papermill": {
     "duration": 2.234409,
     "end_time": "2025-02-11T01:06:38.089154",
     "exception": false,
     "start_time": "2025-02-11T01:06:35.854745",
     "status": "completed"
    },
    "tags": []
   },
   "outputs": [
    {
     "data": {
      "text/html": [
       "<pre style=\"white-space:pre;overflow-x:auto;line-height:normal;font-family:Menlo,'DejaVu Sans Mono',consolas,'Courier New',monospace\"><span style=\"font-weight: bold\">Model: \"sequential\"</span>\n",
       "</pre>\n"
      ],
      "text/plain": [
       "\u001b[1mModel: \"sequential\"\u001b[0m\n"
      ]
     },
     "metadata": {},
     "output_type": "display_data"
    },
    {
     "data": {
      "text/html": [
       "<pre style=\"white-space:pre;overflow-x:auto;line-height:normal;font-family:Menlo,'DejaVu Sans Mono',consolas,'Courier New',monospace\">┏━━━━━━━━━━━━━━━━━━━━━━━━━━━━━━━━━━━━━━┳━━━━━━━━━━━━━━━━━━━━━━━━━━━━━┳━━━━━━━━━━━━━━━━━┓\n",
       "┃<span style=\"font-weight: bold\"> Layer (type)                         </span>┃<span style=\"font-weight: bold\"> Output Shape                </span>┃<span style=\"font-weight: bold\">         Param # </span>┃\n",
       "┡━━━━━━━━━━━━━━━━━━━━━━━━━━━━━━━━━━━━━━╇━━━━━━━━━━━━━━━━━━━━━━━━━━━━━╇━━━━━━━━━━━━━━━━━┩\n",
       "│ embedding (<span style=\"color: #0087ff; text-decoration-color: #0087ff\">Embedding</span>)                │ (<span style=\"color: #00d7ff; text-decoration-color: #00d7ff\">None</span>, <span style=\"color: #00af00; text-decoration-color: #00af00\">25</span>, <span style=\"color: #00af00; text-decoration-color: #00af00\">32</span>)              │         <span style=\"color: #00af00; text-decoration-color: #00af00\">536,992</span> │\n",
       "├──────────────────────────────────────┼─────────────────────────────┼─────────────────┤\n",
       "│ simple_rnn (<span style=\"color: #0087ff; text-decoration-color: #0087ff\">SimpleRNN</span>)               │ (<span style=\"color: #00d7ff; text-decoration-color: #00d7ff\">None</span>, <span style=\"color: #00af00; text-decoration-color: #00af00\">32</span>)                  │           <span style=\"color: #00af00; text-decoration-color: #00af00\">2,080</span> │\n",
       "├──────────────────────────────────────┼─────────────────────────────┼─────────────────┤\n",
       "│ dense (<span style=\"color: #0087ff; text-decoration-color: #0087ff\">Dense</span>)                        │ (<span style=\"color: #00d7ff; text-decoration-color: #00d7ff\">None</span>, <span style=\"color: #00af00; text-decoration-color: #00af00\">1</span>)                   │              <span style=\"color: #00af00; text-decoration-color: #00af00\">33</span> │\n",
       "└──────────────────────────────────────┴─────────────────────────────┴─────────────────┘\n",
       "</pre>\n"
      ],
      "text/plain": [
       "┏━━━━━━━━━━━━━━━━━━━━━━━━━━━━━━━━━━━━━━┳━━━━━━━━━━━━━━━━━━━━━━━━━━━━━┳━━━━━━━━━━━━━━━━━┓\n",
       "┃\u001b[1m \u001b[0m\u001b[1mLayer (type)                        \u001b[0m\u001b[1m \u001b[0m┃\u001b[1m \u001b[0m\u001b[1mOutput Shape               \u001b[0m\u001b[1m \u001b[0m┃\u001b[1m \u001b[0m\u001b[1m        Param #\u001b[0m\u001b[1m \u001b[0m┃\n",
       "┡━━━━━━━━━━━━━━━━━━━━━━━━━━━━━━━━━━━━━━╇━━━━━━━━━━━━━━━━━━━━━━━━━━━━━╇━━━━━━━━━━━━━━━━━┩\n",
       "│ embedding (\u001b[38;5;33mEmbedding\u001b[0m)                │ (\u001b[38;5;45mNone\u001b[0m, \u001b[38;5;34m25\u001b[0m, \u001b[38;5;34m32\u001b[0m)              │         \u001b[38;5;34m536,992\u001b[0m │\n",
       "├──────────────────────────────────────┼─────────────────────────────┼─────────────────┤\n",
       "│ simple_rnn (\u001b[38;5;33mSimpleRNN\u001b[0m)               │ (\u001b[38;5;45mNone\u001b[0m, \u001b[38;5;34m32\u001b[0m)                  │           \u001b[38;5;34m2,080\u001b[0m │\n",
       "├──────────────────────────────────────┼─────────────────────────────┼─────────────────┤\n",
       "│ dense (\u001b[38;5;33mDense\u001b[0m)                        │ (\u001b[38;5;45mNone\u001b[0m, \u001b[38;5;34m1\u001b[0m)                   │              \u001b[38;5;34m33\u001b[0m │\n",
       "└──────────────────────────────────────┴─────────────────────────────┴─────────────────┘\n"
      ]
     },
     "metadata": {},
     "output_type": "display_data"
    },
    {
     "data": {
      "text/html": [
       "<pre style=\"white-space:pre;overflow-x:auto;line-height:normal;font-family:Menlo,'DejaVu Sans Mono',consolas,'Courier New',monospace\"><span style=\"font-weight: bold\"> Total params: </span><span style=\"color: #00af00; text-decoration-color: #00af00\">539,105</span> (2.06 MB)\n",
       "</pre>\n"
      ],
      "text/plain": [
       "\u001b[1m Total params: \u001b[0m\u001b[38;5;34m539,105\u001b[0m (2.06 MB)\n"
      ]
     },
     "metadata": {},
     "output_type": "display_data"
    },
    {
     "data": {
      "text/html": [
       "<pre style=\"white-space:pre;overflow-x:auto;line-height:normal;font-family:Menlo,'DejaVu Sans Mono',consolas,'Courier New',monospace\"><span style=\"font-weight: bold\"> Trainable params: </span><span style=\"color: #00af00; text-decoration-color: #00af00\">539,105</span> (2.06 MB)\n",
       "</pre>\n"
      ],
      "text/plain": [
       "\u001b[1m Trainable params: \u001b[0m\u001b[38;5;34m539,105\u001b[0m (2.06 MB)\n"
      ]
     },
     "metadata": {},
     "output_type": "display_data"
    },
    {
     "data": {
      "text/html": [
       "<pre style=\"white-space:pre;overflow-x:auto;line-height:normal;font-family:Menlo,'DejaVu Sans Mono',consolas,'Courier New',monospace\"><span style=\"font-weight: bold\"> Non-trainable params: </span><span style=\"color: #00af00; text-decoration-color: #00af00\">0</span> (0.00 B)\n",
       "</pre>\n"
      ],
      "text/plain": [
       "\u001b[1m Non-trainable params: \u001b[0m\u001b[38;5;34m0\u001b[0m (0.00 B)\n"
      ]
     },
     "metadata": {},
     "output_type": "display_data"
    }
   ],
   "source": [
    "model_base = Sequential([\n",
    "    InputLayer((max_words,)),\n",
    "    # Layer one\n",
    "    Embedding(word_count, 32, input_length=max_words),\n",
    "\n",
    "    # Layer two\n",
    "    SimpleRNN(units=32),\n",
    "\n",
    "    # Output\n",
    "    Dense(1, activation='sigmoid')\n",
    "])\n",
    "\n",
    "learning_rate = 0.001\n",
    "opt = keras.optimizers.Adam(learning_rate = learning_rate)\n",
    "\n",
    "model_base.compile(optimizer = opt,\n",
    "              loss=tf.keras.losses.BinaryCrossentropy(from_logits=True),\n",
    "              metrics = ['accuracy'])\n",
    "\n",
    "model_base.build()\n",
    "model_base.summary()"
   ]
  },
  {
   "cell_type": "code",
   "execution_count": 16,
   "id": "ac96fde4",
   "metadata": {
    "execution": {
     "iopub.execute_input": "2025-02-11T01:06:38.108459Z",
     "iopub.status.busy": "2025-02-11T01:06:38.108202Z",
     "iopub.status.idle": "2025-02-11T01:06:38.316070Z",
     "shell.execute_reply": "2025-02-11T01:06:38.315248Z"
    },
    "papermill": {
     "duration": 0.219485,
     "end_time": "2025-02-11T01:06:38.317452",
     "exception": false,
     "start_time": "2025-02-11T01:06:38.097967",
     "status": "completed"
    },
    "tags": []
   },
   "outputs": [
    {
     "data": {
      "image/png": "[encoded data removed]",
      "text/plain": [
       "<IPython.core.display.Image object>"
      ]
     },
     "execution_count": 16,
     "metadata": {},
     "output_type": "execute_result"
    }
   ],
   "source": [
    "tf.keras.utils.plot_model(\n",
    "    model_base,\n",
    "    to_file=\"model.png\",\n",
    "    show_shapes=True,\n",
    "    show_layer_names=True,\n",
    "    rankdir=\"TB\",\n",
    "    expand_nested=True,\n",
    "    dpi=96,\n",
    ")"
   ]
  },
  {
   "cell_type": "markdown",
   "id": "40b79c7e",
   "metadata": {
    "papermill": {
     "duration": 0.008658,
     "end_time": "2025-02-11T01:06:38.335462",
     "exception": false,
     "start_time": "2025-02-11T01:06:38.326804",
     "status": "completed"
    },
    "tags": []
   },
   "source": [
    "## Training and Exploring Results"
   ]
  },
  {
   "cell_type": "code",
   "execution_count": 17,
   "id": "4cf92e2d",
   "metadata": {
    "execution": {
     "iopub.execute_input": "2025-02-11T01:06:38.353711Z",
     "iopub.status.busy": "2025-02-11T01:06:38.353395Z",
     "iopub.status.idle": "2025-02-11T01:06:50.108266Z",
     "shell.execute_reply": "2025-02-11T01:06:50.107551Z"
    },
    "papermill": {
     "duration": 11.765664,
     "end_time": "2025-02-11T01:06:50.109715",
     "exception": false,
     "start_time": "2025-02-11T01:06:38.344051",
     "status": "completed"
    },
    "tags": []
   },
   "outputs": [
    {
     "name": "stdout",
     "output_type": "stream",
     "text": [
      "Epoch 1/10\n",
      "\u001b[1m191/191\u001b[0m \u001b[32m━━━━━━━━━━━━━━━━━━━━\u001b[0m\u001b[37m\u001b[0m \u001b[1m5s\u001b[0m 12ms/step - accuracy: 0.6490 - loss: 0.6202 - val_accuracy: 0.7820 - val_loss: 0.4872\n",
      "Epoch 2/10\n",
      "\u001b[1m191/191\u001b[0m \u001b[32m━━━━━━━━━━━━━━━━━━━━\u001b[0m\u001b[37m\u001b[0m \u001b[1m1s\u001b[0m 4ms/step - accuracy: 0.8941 - loss: 0.2863 - val_accuracy: 0.7715 - val_loss: 0.5237\n",
      "Epoch 3/10\n",
      "\u001b[1m191/191\u001b[0m \u001b[32m━━━━━━━━━━━━━━━━━━━━\u001b[0m\u001b[37m\u001b[0m \u001b[1m1s\u001b[0m 4ms/step - accuracy: 0.9567 - loss: 0.1308 - val_accuracy: 0.7630 - val_loss: 0.6388\n",
      "Epoch 4/10\n",
      "\u001b[1m191/191\u001b[0m \u001b[32m━━━━━━━━━━━━━━━━━━━━\u001b[0m\u001b[37m\u001b[0m \u001b[1m1s\u001b[0m 4ms/step - accuracy: 0.9766 - loss: 0.0696 - val_accuracy: 0.7439 - val_loss: 0.6755\n",
      "Epoch 5/10\n",
      "\u001b[1m191/191\u001b[0m \u001b[32m━━━━━━━━━━━━━━━━━━━━\u001b[0m\u001b[37m\u001b[0m \u001b[1m1s\u001b[0m 4ms/step - accuracy: 0.9817 - loss: 0.0486 - val_accuracy: 0.7413 - val_loss: 0.7510\n",
      "Epoch 6/10\n",
      "\u001b[1m191/191\u001b[0m \u001b[32m━━━━━━━━━━━━━━━━━━━━\u001b[0m\u001b[37m\u001b[0m \u001b[1m1s\u001b[0m 4ms/step - accuracy: 0.9813 - loss: 0.0432 - val_accuracy: 0.7518 - val_loss: 0.7217\n",
      "Epoch 7/10\n",
      "\u001b[1m191/191\u001b[0m \u001b[32m━━━━━━━━━━━━━━━━━━━━\u001b[0m\u001b[37m\u001b[0m \u001b[1m1s\u001b[0m 4ms/step - accuracy: 0.9822 - loss: 0.0418 - val_accuracy: 0.7610 - val_loss: 0.7684\n",
      "Epoch 8/10\n",
      "\u001b[1m191/191\u001b[0m \u001b[32m━━━━━━━━━━━━━━━━━━━━\u001b[0m\u001b[37m\u001b[0m \u001b[1m1s\u001b[0m 4ms/step - accuracy: 0.9829 - loss: 0.0379 - val_accuracy: 0.7518 - val_loss: 0.8355\n",
      "Epoch 9/10\n",
      "\u001b[1m191/191\u001b[0m \u001b[32m━━━━━━━━━━━━━━━━━━━━\u001b[0m\u001b[37m\u001b[0m \u001b[1m1s\u001b[0m 4ms/step - accuracy: 0.9815 - loss: 0.0366 - val_accuracy: 0.7374 - val_loss: 0.8310\n",
      "Epoch 10/10\n",
      "\u001b[1m191/191\u001b[0m \u001b[32m━━━━━━━━━━━━━━━━━━━━\u001b[0m\u001b[37m\u001b[0m \u001b[1m1s\u001b[0m 4ms/step - accuracy: 0.9824 - loss: 0.0360 - val_accuracy: 0.7479 - val_loss: 0.8673\n"
     ]
    }
   ],
   "source": [
    "base_history = model_base.fit(train_pad, train_labels, epochs=10, validation_data=(val_pad, val_labels))\n",
    "\n",
    "base_metrics = pd.DataFrame(base_history.history)"
   ]
  },
  {
   "cell_type": "code",
   "execution_count": 18,
   "id": "ecc279cb",
   "metadata": {
    "execution": {
     "iopub.execute_input": "2025-02-11T01:06:50.142419Z",
     "iopub.status.busy": "2025-02-11T01:06:50.142091Z",
     "iopub.status.idle": "2025-02-11T01:06:50.793964Z",
     "shell.execute_reply": "2025-02-11T01:06:50.792982Z"
    },
    "papermill": {
     "duration": 0.669261,
     "end_time": "2025-02-11T01:06:50.795266",
     "exception": false,
     "start_time": "2025-02-11T01:06:50.126005",
     "status": "completed"
    },
    "tags": []
   },
   "outputs": [
    {
     "data": {
      "text/plain": [
       "<Axes: >"
      ]
     },
     "execution_count": 18,
     "metadata": {},
     "output_type": "execute_result"
    },
    {
     "data": {
      "image/png": "[encoded data removed]",
      "text/plain": [
       "<Figure size 640x480 with 1 Axes>"
      ]
     },
     "metadata": {},
     "output_type": "display_data"
    },
    {
     "data": {
      "image/png": "[encoded data removed]",
      "text/plain": [
       "<Figure size 640x480 with 1 Axes>"
      ]
     },
     "metadata": {},
     "output_type": "display_data"
    }
   ],
   "source": [
    "base_metrics[[\"loss\",\"val_loss\"]].plot()\n",
    "base_metrics[['accuracy', 'val_accuracy']].plot()"
   ]
  },
  {
   "cell_type": "markdown",
   "id": "3272915f",
   "metadata": {
    "papermill": {
     "duration": 0.016317,
     "end_time": "2025-02-11T01:06:50.828684",
     "exception": false,
     "start_time": "2025-02-11T01:06:50.812367",
     "status": "completed"
    },
    "tags": []
   },
   "source": [
    "## Hyperparameter Tuning and Other Architectures"
   ]
  },
  {
   "cell_type": "code",
   "execution_count": 19,
   "id": "41b0911a",
   "metadata": {
    "execution": {
     "iopub.execute_input": "2025-02-11T01:06:50.862784Z",
     "iopub.status.busy": "2025-02-11T01:06:50.862414Z",
     "iopub.status.idle": "2025-02-11T01:06:50.925742Z",
     "shell.execute_reply": "2025-02-11T01:06:50.924886Z"
    },
    "papermill": {
     "duration": 0.081727,
     "end_time": "2025-02-11T01:06:50.926969",
     "exception": false,
     "start_time": "2025-02-11T01:06:50.845242",
     "status": "completed"
    },
    "tags": []
   },
   "outputs": [
    {
     "data": {
      "text/html": [
       "<pre style=\"white-space:pre;overflow-x:auto;line-height:normal;font-family:Menlo,'DejaVu Sans Mono',consolas,'Courier New',monospace\"><span style=\"font-weight: bold\">Model: \"sequential_1\"</span>\n",
       "</pre>\n"
      ],
      "text/plain": [
       "\u001b[1mModel: \"sequential_1\"\u001b[0m\n"
      ]
     },
     "metadata": {},
     "output_type": "display_data"
    },
    {
     "data": {
      "text/html": [
       "<pre style=\"white-space:pre;overflow-x:auto;line-height:normal;font-family:Menlo,'DejaVu Sans Mono',consolas,'Courier New',monospace\">┏━━━━━━━━━━━━━━━━━━━━━━━━━━━━━━━━━━━━━━┳━━━━━━━━━━━━━━━━━━━━━━━━━━━━━┳━━━━━━━━━━━━━━━━━┓\n",
       "┃<span style=\"font-weight: bold\"> Layer (type)                         </span>┃<span style=\"font-weight: bold\"> Output Shape                </span>┃<span style=\"font-weight: bold\">         Param # </span>┃\n",
       "┡━━━━━━━━━━━━━━━━━━━━━━━━━━━━━━━━━━━━━━╇━━━━━━━━━━━━━━━━━━━━━━━━━━━━━╇━━━━━━━━━━━━━━━━━┩\n",
       "│ embedding_1 (<span style=\"color: #0087ff; text-decoration-color: #0087ff\">Embedding</span>)              │ (<span style=\"color: #00d7ff; text-decoration-color: #00d7ff\">None</span>, <span style=\"color: #00af00; text-decoration-color: #00af00\">25</span>, <span style=\"color: #00af00; text-decoration-color: #00af00\">32</span>)              │         <span style=\"color: #00af00; text-decoration-color: #00af00\">536,992</span> │\n",
       "├──────────────────────────────────────┼─────────────────────────────┼─────────────────┤\n",
       "│ lstm (<span style=\"color: #0087ff; text-decoration-color: #0087ff\">LSTM</span>)                          │ (<span style=\"color: #00d7ff; text-decoration-color: #00d7ff\">None</span>, <span style=\"color: #00af00; text-decoration-color: #00af00\">64</span>)                  │          <span style=\"color: #00af00; text-decoration-color: #00af00\">24,832</span> │\n",
       "├──────────────────────────────────────┼─────────────────────────────┼─────────────────┤\n",
       "│ dense_1 (<span style=\"color: #0087ff; text-decoration-color: #0087ff\">Dense</span>)                      │ (<span style=\"color: #00d7ff; text-decoration-color: #00d7ff\">None</span>, <span style=\"color: #00af00; text-decoration-color: #00af00\">1</span>)                   │              <span style=\"color: #00af00; text-decoration-color: #00af00\">65</span> │\n",
       "└──────────────────────────────────────┴─────────────────────────────┴─────────────────┘\n",
       "</pre>\n"
      ],
      "text/plain": [
       "┏━━━━━━━━━━━━━━━━━━━━━━━━━━━━━━━━━━━━━━┳━━━━━━━━━━━━━━━━━━━━━━━━━━━━━┳━━━━━━━━━━━━━━━━━┓\n",
       "┃\u001b[1m \u001b[0m\u001b[1mLayer (type)                        \u001b[0m\u001b[1m \u001b[0m┃\u001b[1m \u001b[0m\u001b[1mOutput Shape               \u001b[0m\u001b[1m \u001b[0m┃\u001b[1m \u001b[0m\u001b[1m        Param #\u001b[0m\u001b[1m \u001b[0m┃\n",
       "┡━━━━━━━━━━━━━━━━━━━━━━━━━━━━━━━━━━━━━━╇━━━━━━━━━━━━━━━━━━━━━━━━━━━━━╇━━━━━━━━━━━━━━━━━┩\n",
       "│ embedding_1 (\u001b[38;5;33mEmbedding\u001b[0m)              │ (\u001b[38;5;45mNone\u001b[0m, \u001b[38;5;34m25\u001b[0m, \u001b[38;5;34m32\u001b[0m)              │         \u001b[38;5;34m536,992\u001b[0m │\n",
       "├──────────────────────────────────────┼─────────────────────────────┼─────────────────┤\n",
       "│ lstm (\u001b[38;5;33mLSTM\u001b[0m)                          │ (\u001b[38;5;45mNone\u001b[0m, \u001b[38;5;34m64\u001b[0m)                  │          \u001b[38;5;34m24,832\u001b[0m │\n",
       "├──────────────────────────────────────┼─────────────────────────────┼─────────────────┤\n",
       "│ dense_1 (\u001b[38;5;33mDense\u001b[0m)                      │ (\u001b[38;5;45mNone\u001b[0m, \u001b[38;5;34m1\u001b[0m)                   │              \u001b[38;5;34m65\u001b[0m │\n",
       "└──────────────────────────────────────┴─────────────────────────────┴─────────────────┘\n"
      ]
     },
     "metadata": {},
     "output_type": "display_data"
    },
    {
     "data": {
      "text/html": [
       "<pre style=\"white-space:pre;overflow-x:auto;line-height:normal;font-family:Menlo,'DejaVu Sans Mono',consolas,'Courier New',monospace\"><span style=\"font-weight: bold\"> Total params: </span><span style=\"color: #00af00; text-decoration-color: #00af00\">561,889</span> (2.14 MB)\n",
       "</pre>\n"
      ],
      "text/plain": [
       "\u001b[1m Total params: \u001b[0m\u001b[38;5;34m561,889\u001b[0m (2.14 MB)\n"
      ]
     },
     "metadata": {},
     "output_type": "display_data"
    },
    {
     "data": {
      "text/html": [
       "<pre style=\"white-space:pre;overflow-x:auto;line-height:normal;font-family:Menlo,'DejaVu Sans Mono',consolas,'Courier New',monospace\"><span style=\"font-weight: bold\"> Trainable params: </span><span style=\"color: #00af00; text-decoration-color: #00af00\">561,889</span> (2.14 MB)\n",
       "</pre>\n"
      ],
      "text/plain": [
       "\u001b[1m Trainable params: \u001b[0m\u001b[38;5;34m561,889\u001b[0m (2.14 MB)\n"
      ]
     },
     "metadata": {},
     "output_type": "display_data"
    },
    {
     "data": {
      "text/html": [
       "<pre style=\"white-space:pre;overflow-x:auto;line-height:normal;font-family:Menlo,'DejaVu Sans Mono',consolas,'Courier New',monospace\"><span style=\"font-weight: bold\"> Non-trainable params: </span><span style=\"color: #00af00; text-decoration-color: #00af00\">0</span> (0.00 B)\n",
       "</pre>\n"
      ],
      "text/plain": [
       "\u001b[1m Non-trainable params: \u001b[0m\u001b[38;5;34m0\u001b[0m (0.00 B)\n"
      ]
     },
     "metadata": {},
     "output_type": "display_data"
    }
   ],
   "source": [
    "model_lstm_base = Sequential([\n",
    "    InputLayer((max_words,)),\n",
    "    # Layer one\n",
    "    Embedding(word_count, 32, input_length=max_words),\n",
    "\n",
    "    # Layer two\n",
    "    LSTM(units=64),\n",
    "\n",
    "    # Output\n",
    "    Dense(1, activation='sigmoid')\n",
    "])\n",
    "learning_rate = 0.0001\n",
    "opt = keras.optimizers.Adam(learning_rate = learning_rate)\n",
    "\n",
    "model_lstm_base.compile(optimizer = opt,\n",
    "              loss=tf.keras.losses.BinaryCrossentropy(from_logits=True),\n",
    "              metrics = ['accuracy'])\n",
    "\n",
    "model_lstm_base.build()\n",
    "model_lstm_base.summary()"
   ]
  },
  {
   "cell_type": "code",
   "execution_count": 20,
   "id": "726c568e",
   "metadata": {
    "execution": {
     "iopub.execute_input": "2025-02-11T01:06:50.961899Z",
     "iopub.status.busy": "2025-02-11T01:06:50.961604Z",
     "iopub.status.idle": "2025-02-11T01:06:57.224464Z",
     "shell.execute_reply": "2025-02-11T01:06:57.223595Z"
    },
    "papermill": {
     "duration": 6.28204,
     "end_time": "2025-02-11T01:06:57.226222",
     "exception": false,
     "start_time": "2025-02-11T01:06:50.944182",
     "status": "completed"
    },
    "tags": []
   },
   "outputs": [
    {
     "name": "stdout",
     "output_type": "stream",
     "text": [
      "Epoch 1/3\n",
      "\u001b[1m191/191\u001b[0m \u001b[32m━━━━━━━━━━━━━━━━━━━━\u001b[0m\u001b[37m\u001b[0m \u001b[1m4s\u001b[0m 6ms/step - accuracy: 0.5591 - loss: 0.6879 - val_accuracy: 0.5627 - val_loss: 0.6837\n",
      "Epoch 2/3\n",
      "\u001b[1m191/191\u001b[0m \u001b[32m━━━━━━━━━━━━━━━━━━━━\u001b[0m\u001b[37m\u001b[0m \u001b[1m1s\u001b[0m 5ms/step - accuracy: 0.5745 - loss: 0.6741 - val_accuracy: 0.7892 - val_loss: 0.5251\n",
      "Epoch 3/3\n",
      "\u001b[1m191/191\u001b[0m \u001b[32m━━━━━━━━━━━━━━━━━━━━\u001b[0m\u001b[37m\u001b[0m \u001b[1m1s\u001b[0m 5ms/step - accuracy: 0.8249 - loss: 0.4305 - val_accuracy: 0.7958 - val_loss: 0.4590\n"
     ]
    }
   ],
   "source": [
    "lstm_base_history = model_lstm_base.fit(train_pad, train_labels, epochs=3, validation_data=(val_pad, val_labels)) # initial testing showed epoch 3 had the best validation accuracy\n",
    "\n",
    "lstm_base_metrics = pd.DataFrame(lstm_base_history.history)"
   ]
  },
  {
   "cell_type": "code",
   "execution_count": 21,
   "id": "c9a91d43",
   "metadata": {
    "execution": {
     "iopub.execute_input": "2025-02-11T01:06:57.273638Z",
     "iopub.status.busy": "2025-02-11T01:06:57.273344Z",
     "iopub.status.idle": "2025-02-11T01:06:57.645489Z",
     "shell.execute_reply": "2025-02-11T01:06:57.644579Z"
    },
    "papermill": {
     "duration": 0.392828,
     "end_time": "2025-02-11T01:06:57.646760",
     "exception": false,
     "start_time": "2025-02-11T01:06:57.253932",
     "status": "completed"
    },
    "tags": []
   },
   "outputs": [
    {
     "data": {
      "text/plain": [
       "<Axes: >"
      ]
     },
     "execution_count": 21,
     "metadata": {},
     "output_type": "execute_result"
    },
    {
     "data": {
      "image/png": "[encoded data removed]",
      "text/plain": [
       "<Figure size 640x480 with 1 Axes>"
      ]
     },
     "metadata": {},
     "output_type": "display_data"
    },
    {
     "data": {
      "image/png": "[encoded data removed]",
      "text/plain": [
       "<Figure size 640x480 with 1 Axes>"
      ]
     },
     "metadata": {},
     "output_type": "display_data"
    }
   ],
   "source": [
    "lstm_base_metrics[[\"loss\",\"val_loss\"]].plot()\n",
    "lstm_base_metrics[['accuracy', 'val_accuracy']].plot()"
   ]
  },
  {
   "cell_type": "code",
   "execution_count": 22,
   "id": "d75d9337",
   "metadata": {
    "execution": {
     "iopub.execute_input": "2025-02-11T01:06:57.688934Z",
     "iopub.status.busy": "2025-02-11T01:06:57.688666Z",
     "iopub.status.idle": "2025-02-11T01:06:57.736039Z",
     "shell.execute_reply": "2025-02-11T01:06:57.735380Z"
    },
    "papermill": {
     "duration": 0.069686,
     "end_time": "2025-02-11T01:06:57.737342",
     "exception": false,
     "start_time": "2025-02-11T01:06:57.667656",
     "status": "completed"
    },
    "tags": []
   },
   "outputs": [
    {
     "data": {
      "text/html": [
       "<pre style=\"white-space:pre;overflow-x:auto;line-height:normal;font-family:Menlo,'DejaVu Sans Mono',consolas,'Courier New',monospace\"><span style=\"font-weight: bold\">Model: \"sequential_2\"</span>\n",
       "</pre>\n"
      ],
      "text/plain": [
       "\u001b[1mModel: \"sequential_2\"\u001b[0m\n"
      ]
     },
     "metadata": {},
     "output_type": "display_data"
    },
    {
     "data": {
      "text/html": [
       "<pre style=\"white-space:pre;overflow-x:auto;line-height:normal;font-family:Menlo,'DejaVu Sans Mono',consolas,'Courier New',monospace\">┏━━━━━━━━━━━━━━━━━━━━━━━━━━━━━━━━━━━━━━┳━━━━━━━━━━━━━━━━━━━━━━━━━━━━━┳━━━━━━━━━━━━━━━━━┓\n",
       "┃<span style=\"font-weight: bold\"> Layer (type)                         </span>┃<span style=\"font-weight: bold\"> Output Shape                </span>┃<span style=\"font-weight: bold\">         Param # </span>┃\n",
       "┡━━━━━━━━━━━━━━━━━━━━━━━━━━━━━━━━━━━━━━╇━━━━━━━━━━━━━━━━━━━━━━━━━━━━━╇━━━━━━━━━━━━━━━━━┩\n",
       "│ embedding_2 (<span style=\"color: #0087ff; text-decoration-color: #0087ff\">Embedding</span>)              │ (<span style=\"color: #00d7ff; text-decoration-color: #00d7ff\">None</span>, <span style=\"color: #00af00; text-decoration-color: #00af00\">25</span>, <span style=\"color: #00af00; text-decoration-color: #00af00\">32</span>)              │         <span style=\"color: #00af00; text-decoration-color: #00af00\">536,992</span> │\n",
       "├──────────────────────────────────────┼─────────────────────────────┼─────────────────┤\n",
       "│ gru (<span style=\"color: #0087ff; text-decoration-color: #0087ff\">GRU</span>)                            │ (<span style=\"color: #00d7ff; text-decoration-color: #00d7ff\">None</span>, <span style=\"color: #00af00; text-decoration-color: #00af00\">64</span>)                  │          <span style=\"color: #00af00; text-decoration-color: #00af00\">18,816</span> │\n",
       "├──────────────────────────────────────┼─────────────────────────────┼─────────────────┤\n",
       "│ dense_2 (<span style=\"color: #0087ff; text-decoration-color: #0087ff\">Dense</span>)                      │ (<span style=\"color: #00d7ff; text-decoration-color: #00d7ff\">None</span>, <span style=\"color: #00af00; text-decoration-color: #00af00\">1</span>)                   │              <span style=\"color: #00af00; text-decoration-color: #00af00\">65</span> │\n",
       "└──────────────────────────────────────┴─────────────────────────────┴─────────────────┘\n",
       "</pre>\n"
      ],
      "text/plain": [
       "┏━━━━━━━━━━━━━━━━━━━━━━━━━━━━━━━━━━━━━━┳━━━━━━━━━━━━━━━━━━━━━━━━━━━━━┳━━━━━━━━━━━━━━━━━┓\n",
       "┃\u001b[1m \u001b[0m\u001b[1mLayer (type)                        \u001b[0m\u001b[1m \u001b[0m┃\u001b[1m \u001b[0m\u001b[1mOutput Shape               \u001b[0m\u001b[1m \u001b[0m┃\u001b[1m \u001b[0m\u001b[1m        Param #\u001b[0m\u001b[1m \u001b[0m┃\n",
       "┡━━━━━━━━━━━━━━━━━━━━━━━━━━━━━━━━━━━━━━╇━━━━━━━━━━━━━━━━━━━━━━━━━━━━━╇━━━━━━━━━━━━━━━━━┩\n",
       "│ embedding_2 (\u001b[38;5;33mEmbedding\u001b[0m)              │ (\u001b[38;5;45mNone\u001b[0m, \u001b[38;5;34m25\u001b[0m, \u001b[38;5;34m32\u001b[0m)              │         \u001b[38;5;34m536,992\u001b[0m │\n",
       "├──────────────────────────────────────┼─────────────────────────────┼─────────────────┤\n",
       "│ gru (\u001b[38;5;33mGRU\u001b[0m)                            │ (\u001b[38;5;45mNone\u001b[0m, \u001b[38;5;34m64\u001b[0m)                  │          \u001b[38;5;34m18,816\u001b[0m │\n",
       "├──────────────────────────────────────┼─────────────────────────────┼─────────────────┤\n",
       "│ dense_2 (\u001b[38;5;33mDense\u001b[0m)                      │ (\u001b[38;5;45mNone\u001b[0m, \u001b[38;5;34m1\u001b[0m)                   │              \u001b[38;5;34m65\u001b[0m │\n",
       "└──────────────────────────────────────┴─────────────────────────────┴─────────────────┘\n"
      ]
     },
     "metadata": {},
     "output_type": "display_data"
    },
    {
     "data": {
      "text/html": [
       "<pre style=\"white-space:pre;overflow-x:auto;line-height:normal;font-family:Menlo,'DejaVu Sans Mono',consolas,'Courier New',monospace\"><span style=\"font-weight: bold\"> Total params: </span><span style=\"color: #00af00; text-decoration-color: #00af00\">555,873</span> (2.12 MB)\n",
       "</pre>\n"
      ],
      "text/plain": [
       "\u001b[1m Total params: \u001b[0m\u001b[38;5;34m555,873\u001b[0m (2.12 MB)\n"
      ]
     },
     "metadata": {},
     "output_type": "display_data"
    },
    {
     "data": {
      "text/html": [
       "<pre style=\"white-space:pre;overflow-x:auto;line-height:normal;font-family:Menlo,'DejaVu Sans Mono',consolas,'Courier New',monospace\"><span style=\"font-weight: bold\"> Trainable params: </span><span style=\"color: #00af00; text-decoration-color: #00af00\">555,873</span> (2.12 MB)\n",
       "</pre>\n"
      ],
      "text/plain": [
       "\u001b[1m Trainable params: \u001b[0m\u001b[38;5;34m555,873\u001b[0m (2.12 MB)\n"
      ]
     },
     "metadata": {},
     "output_type": "display_data"
    },
    {
     "data": {
      "text/html": [
       "<pre style=\"white-space:pre;overflow-x:auto;line-height:normal;font-family:Menlo,'DejaVu Sans Mono',consolas,'Courier New',monospace\"><span style=\"font-weight: bold\"> Non-trainable params: </span><span style=\"color: #00af00; text-decoration-color: #00af00\">0</span> (0.00 B)\n",
       "</pre>\n"
      ],
      "text/plain": [
       "\u001b[1m Non-trainable params: \u001b[0m\u001b[38;5;34m0\u001b[0m (0.00 B)\n"
      ]
     },
     "metadata": {},
     "output_type": "display_data"
    }
   ],
   "source": [
    "model_gru_base = Sequential([\n",
    "    InputLayer((max_words,)),\n",
    "    # Layer one\n",
    "    Embedding(word_count, 32, input_length=max_words),\n",
    "\n",
    "    # Layer two\n",
    "    GRU(units=64),\n",
    "\n",
    "    # Output\n",
    "    Dense(1, activation='sigmoid')\n",
    "])\n",
    "learning_rate = 0.0001\n",
    "opt = keras.optimizers.Adam(learning_rate = learning_rate)\n",
    "\n",
    "model_gru_base.compile(optimizer = opt,\n",
    "              loss=tf.keras.losses.BinaryCrossentropy(from_logits=True),\n",
    "              metrics = ['accuracy'])\n",
    "\n",
    "model_gru_base.build()\n",
    "model_gru_base.summary()"
   ]
  },
  {
   "cell_type": "code",
   "execution_count": 23,
   "id": "1043584b",
   "metadata": {
    "execution": {
     "iopub.execute_input": "2025-02-11T01:06:57.821917Z",
     "iopub.status.busy": "2025-02-11T01:06:57.821596Z",
     "iopub.status.idle": "2025-02-11T01:07:05.436995Z",
     "shell.execute_reply": "2025-02-11T01:07:05.436292Z"
    },
    "papermill": {
     "duration": 7.638198,
     "end_time": "2025-02-11T01:07:05.438311",
     "exception": false,
     "start_time": "2025-02-11T01:06:57.800113",
     "status": "completed"
    },
    "tags": []
   },
   "outputs": [
    {
     "name": "stdout",
     "output_type": "stream",
     "text": [
      "Epoch 1/7\n",
      "\u001b[1m191/191\u001b[0m \u001b[32m━━━━━━━━━━━━━━━━━━━━\u001b[0m\u001b[37m\u001b[0m \u001b[1m2s\u001b[0m 6ms/step - accuracy: 0.5461 - loss: 0.6889 - val_accuracy: 0.5627 - val_loss: 0.6853\n",
      "Epoch 2/7\n",
      "\u001b[1m191/191\u001b[0m \u001b[32m━━━━━━━━━━━━━━━━━━━━\u001b[0m\u001b[37m\u001b[0m \u001b[1m1s\u001b[0m 5ms/step - accuracy: 0.5749 - loss: 0.6822 - val_accuracy: 0.5627 - val_loss: 0.6855\n",
      "Epoch 3/7\n",
      "\u001b[1m191/191\u001b[0m \u001b[32m━━━━━━━━━━━━━━━━━━━━\u001b[0m\u001b[37m\u001b[0m \u001b[1m1s\u001b[0m 5ms/step - accuracy: 0.5833 - loss: 0.6795 - val_accuracy: 0.5627 - val_loss: 0.6853\n",
      "Epoch 4/7\n",
      "\u001b[1m191/191\u001b[0m \u001b[32m━━━━━━━━━━━━━━━━━━━━\u001b[0m\u001b[37m\u001b[0m \u001b[1m1s\u001b[0m 5ms/step - accuracy: 0.5686 - loss: 0.6839 - val_accuracy: 0.5627 - val_loss: 0.6855\n",
      "Epoch 5/7\n",
      "\u001b[1m191/191\u001b[0m \u001b[32m━━━━━━━━━━━━━━━━━━━━\u001b[0m\u001b[37m\u001b[0m \u001b[1m1s\u001b[0m 5ms/step - accuracy: 0.5798 - loss: 0.6805 - val_accuracy: 0.5627 - val_loss: 0.6853\n",
      "Epoch 6/7\n",
      "\u001b[1m191/191\u001b[0m \u001b[32m━━━━━━━━━━━━━━━━━━━━\u001b[0m\u001b[37m\u001b[0m \u001b[1m1s\u001b[0m 5ms/step - accuracy: 0.5798 - loss: 0.6804 - val_accuracy: 0.5627 - val_loss: 0.6851\n",
      "Epoch 7/7\n",
      "\u001b[1m191/191\u001b[0m \u001b[32m━━━━━━━━━━━━━━━━━━━━\u001b[0m\u001b[37m\u001b[0m \u001b[1m1s\u001b[0m 5ms/step - accuracy: 0.5742 - loss: 0.6815 - val_accuracy: 0.5627 - val_loss: 0.6800\n"
     ]
    }
   ],
   "source": [
    "gru_base_history = model_gru_base.fit(train_pad, train_labels, epochs=7, validation_data=(val_pad, val_labels)) # initial testing showed epoch 7 had the best validation accuracy\n",
    "\n",
    "gru_base_metrics = pd.DataFrame(gru_base_history.history)"
   ]
  },
  {
   "cell_type": "code",
   "execution_count": 24,
   "id": "a1e7b736",
   "metadata": {
    "execution": {
     "iopub.execute_input": "2025-02-11T01:07:05.493172Z",
     "iopub.status.busy": "2025-02-11T01:07:05.492858Z",
     "iopub.status.idle": "2025-02-11T01:07:05.862302Z",
     "shell.execute_reply": "2025-02-11T01:07:05.861409Z"
    },
    "papermill": {
     "duration": 0.397832,
     "end_time": "2025-02-11T01:07:05.863634",
     "exception": false,
     "start_time": "2025-02-11T01:07:05.465802",
     "status": "completed"
    },
    "tags": []
   },
   "outputs": [
    {
     "data": {
      "text/plain": [
       "<Axes: >"
      ]
     },
     "execution_count": 24,
     "metadata": {},
     "output_type": "execute_result"
    },
    {
     "data": {
      "image/png": "[encoded data removed]",
      "text/plain": [
       "<Figure size 640x480 with 1 Axes>"
      ]
     },
     "metadata": {},
     "output_type": "display_data"
    },
    {
     "data": {
      "image/png": "[encoded data removed]",
      "text/plain": [
       "<Figure size 640x480 with 1 Axes>"
      ]
     },
     "metadata": {},
     "output_type": "display_data"
    }
   ],
   "source": [
    "gru_base_metrics[[\"loss\",\"val_loss\"]].plot()\n",
    "gru_base_metrics[['accuracy', 'val_accuracy']].plot()"
   ]
  },
  {
   "cell_type": "markdown",
   "id": "6a0574ee",
   "metadata": {
    "papermill": {
     "duration": 0.026666,
     "end_time": "2025-02-11T01:07:05.918320",
     "exception": false,
     "start_time": "2025-02-11T01:07:05.891654",
     "status": "completed"
    },
    "tags": []
   },
   "source": [
    "# Submissions and Results"
   ]
  },
  {
   "cell_type": "code",
   "execution_count": 25,
   "id": "0d1663c3",
   "metadata": {
    "execution": {
     "iopub.execute_input": "2025-02-11T01:07:05.975098Z",
     "iopub.status.busy": "2025-02-11T01:07:05.974712Z",
     "iopub.status.idle": "2025-02-11T01:07:06.152920Z",
     "shell.execute_reply": "2025-02-11T01:07:06.151962Z"
    },
    "papermill": {
     "duration": 0.208885,
     "end_time": "2025-02-11T01:07:06.154487",
     "exception": false,
     "start_time": "2025-02-11T01:07:05.945602",
     "status": "completed"
    },
    "tags": []
   },
   "outputs": [],
   "source": [
    "clean_and_prep_text(test_raw)\n",
    "test_text = test_raw.lemmas.to_numpy()\n",
    "test_sequences = tokenizer.texts_to_sequences(test_text)\n",
    "test_padded = pad_sequences(test_sequences, max_words, padding='post', truncating='post')\n",
    "ids = test_raw.id"
   ]
  },
  {
   "cell_type": "code",
   "execution_count": 26,
   "id": "95e3181d",
   "metadata": {
    "execution": {
     "iopub.execute_input": "2025-02-11T01:07:06.210549Z",
     "iopub.status.busy": "2025-02-11T01:07:06.210188Z",
     "iopub.status.idle": "2025-02-11T01:07:06.663485Z",
     "shell.execute_reply": "2025-02-11T01:07:06.662758Z"
    },
    "papermill": {
     "duration": 0.483201,
     "end_time": "2025-02-11T01:07:06.665151",
     "exception": false,
     "start_time": "2025-02-11T01:07:06.181950",
     "status": "completed"
    },
    "tags": []
   },
   "outputs": [
    {
     "name": "stdout",
     "output_type": "stream",
     "text": [
      "\u001b[1m102/102\u001b[0m \u001b[32m━━━━━━━━━━━━━━━━━━━━\u001b[0m\u001b[37m\u001b[0m \u001b[1m0s\u001b[0m 2ms/step\n"
     ]
    }
   ],
   "source": [
    "predictions = model_gru_base.predict(test_padded)\n",
    "predictions = [1 if p > 0.5 else 0 for p in predictions]"
   ]
  },
  {
   "cell_type": "code",
   "execution_count": 27,
   "id": "1bae382a",
   "metadata": {
    "execution": {
     "iopub.execute_input": "2025-02-11T01:07:06.722172Z",
     "iopub.status.busy": "2025-02-11T01:07:06.721890Z",
     "iopub.status.idle": "2025-02-11T01:07:06.726416Z",
     "shell.execute_reply": "2025-02-11T01:07:06.725744Z"
    },
    "papermill": {
     "duration": 0.034278,
     "end_time": "2025-02-11T01:07:06.727535",
     "exception": false,
     "start_time": "2025-02-11T01:07:06.693257",
     "status": "completed"
    },
    "tags": []
   },
   "outputs": [],
   "source": [
    "submission_df = pd.DataFrame({\n",
    "    'id': ids,\n",
    "    'target': predictions\n",
    "})"
   ]
  },
  {
   "cell_type": "code",
   "execution_count": 28,
   "id": "420e29c8",
   "metadata": {
    "execution": {
     "iopub.execute_input": "2025-02-11T01:07:06.783852Z",
     "iopub.status.busy": "2025-02-11T01:07:06.783537Z",
     "iopub.status.idle": "2025-02-11T01:07:06.793166Z",
     "shell.execute_reply": "2025-02-11T01:07:06.792556Z"
    },
    "papermill": {
     "duration": 0.039229,
     "end_time": "2025-02-11T01:07:06.794364",
     "exception": false,
     "start_time": "2025-02-11T01:07:06.755135",
     "status": "completed"
    },
    "tags": []
   },
   "outputs": [],
   "source": [
    "submission_df.to_csv('submission.csv', index=False)"
   ]
  },
  {
   "cell_type": "markdown",
   "id": "b198f09c",
   "metadata": {
    "papermill": {
     "duration": 0.026939,
     "end_time": "2025-02-11T01:07:06.848980",
     "exception": false,
     "start_time": "2025-02-11T01:07:06.822041",
     "status": "completed"
    },
    "tags": []
   },
   "source": [
    "## Comparing Models"
   ]
  },
  {
   "cell_type": "code",
   "execution_count": 29,
   "id": "be1d0b3e",
   "metadata": {
    "execution": {
     "iopub.execute_input": "2025-02-11T01:07:06.904671Z",
     "iopub.status.busy": "2025-02-11T01:07:06.904334Z",
     "iopub.status.idle": "2025-02-11T01:07:06.909055Z",
     "shell.execute_reply": "2025-02-11T01:07:06.908186Z"
    },
    "papermill": {
     "duration": 0.033804,
     "end_time": "2025-02-11T01:07:06.910264",
     "exception": false,
     "start_time": "2025-02-11T01:07:06.876460",
     "status": "completed"
    },
    "tags": []
   },
   "outputs": [
    {
     "name": "stdout",
     "output_type": "stream",
     "text": [
      "Basic Vanilla RNN Score: 0.73950\n",
      "Basic LSTM Score: 0.78516\n",
      "Basic GRU Score: 0.78424\n"
     ]
    }
   ],
   "source": [
    "print('Basic Vanilla RNN Score: 0.73950')\n",
    "print('Basic LSTM Score: 0.78516')\n",
    "print('Basic GRU Score: 0.78424')"
   ]
  },
  {
   "cell_type": "code",
   "execution_count": 30,
   "id": "caed29e8",
   "metadata": {
    "execution": {
     "iopub.execute_input": "2025-02-11T01:07:06.968522Z",
     "iopub.status.busy": "2025-02-11T01:07:06.968176Z",
     "iopub.status.idle": "2025-02-11T01:07:06.971442Z",
     "shell.execute_reply": "2025-02-11T01:07:06.970750Z"
    },
    "papermill": {
     "duration": 0.034126,
     "end_time": "2025-02-11T01:07:06.972738",
     "exception": false,
     "start_time": "2025-02-11T01:07:06.938612",
     "status": "completed"
    },
    "tags": []
   },
   "outputs": [],
   "source": [
    "#def plot_graphs(history, metric):\n",
    "#  plt.plot(history.history[metric])\n",
    "#  plt.plot(history.history['val_'+metric], '')\n",
    "#  plt.xlabel(\"Epochs\")\n",
    "#  plt.ylabel(metric)\n",
    "#  plt.legend([metric, 'val_'+metric])"
   ]
  },
  {
   "cell_type": "markdown",
   "id": "95f1ee08",
   "metadata": {
    "papermill": {
     "duration": 0.027235,
     "end_time": "2025-02-11T01:07:07.027875",
     "exception": false,
     "start_time": "2025-02-11T01:07:07.000640",
     "status": "completed"
    },
    "tags": []
   },
   "source": [
    "## Conclusions"
   ]
  },
  {
   "cell_type": "code",
   "execution_count": null,
   "id": "7bdfb9f2",
   "metadata": {
    "papermill": {
     "duration": 0.027019,
     "end_time": "2025-02-11T01:07:07.082680",
     "exception": false,
     "start_time": "2025-02-11T01:07:07.055661",
     "status": "completed"
    },
    "tags": []
   },
   "outputs": [],
   "source": []
  }
 ],
 "metadata": {
  "kaggle": {
   "accelerator": "gpu",
   "dataSources": [
    {
     "databundleVersionId": 869809,
     "sourceId": 17777,
     "sourceType": "competition"
    }
   ],
   "dockerImageVersionId": 30839,
   "isGpuEnabled": true,
   "isInternetEnabled": true,
   "language": "python",
   "sourceType": "notebook"
  },
  "kernelspec": {
   "display_name": "Python 3",
   "language": "python",
   "name": "python3"
  },
  "language_info": {
   "codemirror_mode": {
    "name": "ipython",
    "version": 3
   },
   "file_extension": ".py",
   "mimetype": "text/x-python",
   "name": "python",
   "nbconvert_exporter": "python",
   "pygments_lexer": "ipython3",
   "version": "3.10.12"
  },
  "papermill": {
   "default_parameters": {},
   "duration": 53.672887,
   "end_time": "2025-02-11T01:07:09.334623",
   "environment_variables": {},
   "exception": null,
   "input_path": "__notebook__.ipynb",
   "output_path": "__notebook__.ipynb",
   "parameters": {},
   "start_time": "2025-02-11T01:06:15.661736",
   "version": "2.6.0"
  }
 },
 "nbformat": 4,
 "nbformat_minor": 5
}
