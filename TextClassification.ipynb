{
 "cells": [
  {
   "cell_type": "markdown",
   "id": "e9ce4dfc",
   "metadata": {
    "papermill": {
     "duration": 0.008445,
     "end_time": "2025-02-12T02:01:38.076659",
     "exception": false,
     "start_time": "2025-02-12T02:01:38.068214",
     "status": "completed"
    },
    "tags": []
   },
   "source": [
    "# Disaster Tweet Classification with RNN Models"
   ]
  },
  {
   "cell_type": "markdown",
   "id": "be964e4e",
   "metadata": {
    "papermill": {
     "duration": 0.007429,
     "end_time": "2025-02-12T02:01:38.091754",
     "exception": false,
     "start_time": "2025-02-12T02:01:38.084325",
     "status": "completed"
    },
    "tags": []
   },
   "source": [
    "#### For this competition, we will be trying to classify tweets based on whether they are about a natural disaster or not. \n",
    "#### We'll build an RNN using the Tensorflow library and compare different architectures (Vanilla, LSTM, GRU, etc) as well as explore different embedding techniques to see if we can boost performance. "
   ]
  },
  {
   "cell_type": "code",
   "execution_count": 1,
   "id": "4942a210",
   "metadata": {
    "_cell_guid": "b1076dfc-b9ad-4769-8c92-a6c4dae69d19",
    "_uuid": "8f2839f25d086af736a60e9eeb907d3b93b6e0e5",
    "execution": {
     "iopub.execute_input": "2025-02-12T02:01:38.107675Z",
     "iopub.status.busy": "2025-02-12T02:01:38.107375Z",
     "iopub.status.idle": "2025-02-12T02:01:52.474461Z",
     "shell.execute_reply": "2025-02-12T02:01:52.473743Z"
    },
    "papermill": {
     "duration": 14.376766,
     "end_time": "2025-02-12T02:01:52.476053",
     "exception": false,
     "start_time": "2025-02-12T02:01:38.099287",
     "status": "completed"
    },
    "tags": []
   },
   "outputs": [
    {
     "name": "stdout",
     "output_type": "stream",
     "text": [
      "/kaggle/input/nlp-getting-started/sample_submission.csv\n",
      "/kaggle/input/nlp-getting-started/train.csv\n",
      "/kaggle/input/nlp-getting-started/test.csv\n",
      "[nltk_data] Downloading package wordnet to /kaggle/working/...\n"
     ]
    }
   ],
   "source": [
    "import warnings\n",
    "warnings.simplefilter(action='ignore', category=FutureWarning)\n",
    "warnings.simplefilter(action='ignore', category=UserWarning)\n",
    "\n",
    "import re\n",
    "import string\n",
    "import subprocess\n",
    "\n",
    "import keras\n",
    "import nltk.corpus\n",
    "import numpy as np\n",
    "import pandas as pd\n",
    "import tensorflow as tf\n",
    "import matplotlib.pyplot as plt\n",
    "import seaborn as sns\n",
    "\n",
    "from collections import Counter\n",
    "from sklearn.model_selection import train_test_split\n",
    "from keras.models import Sequential\n",
    "from tensorflow.keras.callbacks import EarlyStopping\n",
    "from tensorflow.keras.layers import InputLayer, SimpleRNN, LSTM, GRU, Dense, Embedding, Dropout, BatchNormalization\n",
    "from tensorflow.keras.preprocessing.text import Tokenizer\n",
    "from tensorflow.keras.preprocessing.sequence import pad_sequences\n",
    "from nltk.corpus import stopwords\n",
    "from nltk.stem import WordNetLemmatizer\n",
    "\n",
    "import os\n",
    "for dirname, _, filenames in os.walk('/kaggle/input'):\n",
    "    for filename in filenames:\n",
    "        print(os.path.join(dirname, filename))\n",
    "\n",
    "try: \n",
    "    nltk.data.find('wordnet.zip')\n",
    "except:\n",
    "    nltk.download('wordnet', download_dir='/kaggle/working/')\n",
    "    command = \"unzip /kaggle/working/corpora/wordnet.zip -d /kaggle/working/corpora\"\n",
    "    subprocess.run(command.split())\n",
    "    nltk.data.path.append('/kaggle/working/')"
   ]
  },
  {
   "cell_type": "markdown",
   "id": "aee1157f",
   "metadata": {
    "papermill": {
     "duration": 0.007218,
     "end_time": "2025-02-12T02:01:52.491150",
     "exception": false,
     "start_time": "2025-02-12T02:01:52.483932",
     "status": "completed"
    },
    "tags": []
   },
   "source": [
    "# EDA"
   ]
  },
  {
   "cell_type": "markdown",
   "id": "58fa0ce0",
   "metadata": {
    "papermill": {
     "duration": 0.007034,
     "end_time": "2025-02-12T02:01:52.505368",
     "exception": false,
     "start_time": "2025-02-12T02:01:52.498334",
     "status": "completed"
    },
    "tags": []
   },
   "source": [
    "## Data Exploration"
   ]
  },
  {
   "cell_type": "markdown",
   "id": "a5aaa21b",
   "metadata": {
    "papermill": {
     "duration": 0.006937,
     "end_time": "2025-02-12T02:01:52.519371",
     "exception": false,
     "start_time": "2025-02-12T02:01:52.512434",
     "status": "completed"
    },
    "tags": []
   },
   "source": [
    "#### First, we'll import the data and get some summary statistics about it. We'll also take a look at some example tweets from each class and figure out our plan of attack"
   ]
  },
  {
   "cell_type": "code",
   "execution_count": 2,
   "id": "e3523b30",
   "metadata": {
    "execution": {
     "iopub.execute_input": "2025-02-12T02:01:52.534636Z",
     "iopub.status.busy": "2025-02-12T02:01:52.534123Z",
     "iopub.status.idle": "2025-02-12T02:01:52.592836Z",
     "shell.execute_reply": "2025-02-12T02:01:52.592165Z"
    },
    "papermill": {
     "duration": 0.067859,
     "end_time": "2025-02-12T02:01:52.594294",
     "exception": false,
     "start_time": "2025-02-12T02:01:52.526435",
     "status": "completed"
    },
    "tags": []
   },
   "outputs": [],
   "source": [
    "train_path = '../input/nlp-getting-started/train.csv'\n",
    "test_path = '../input/nlp-getting-started/test.csv'\n",
    "\n",
    "train_raw = pd.read_csv(train_path)\n",
    "test_raw = pd.read_csv(test_path)"
   ]
  },
  {
   "cell_type": "code",
   "execution_count": 3,
   "id": "b8bbe9d6",
   "metadata": {
    "execution": {
     "iopub.execute_input": "2025-02-12T02:01:52.609419Z",
     "iopub.status.busy": "2025-02-12T02:01:52.609194Z",
     "iopub.status.idle": "2025-02-12T02:01:52.635483Z",
     "shell.execute_reply": "2025-02-12T02:01:52.634547Z"
    },
    "papermill": {
     "duration": 0.035226,
     "end_time": "2025-02-12T02:01:52.636782",
     "exception": false,
     "start_time": "2025-02-12T02:01:52.601556",
     "status": "completed"
    },
    "tags": []
   },
   "outputs": [
    {
     "name": "stdout",
     "output_type": "stream",
     "text": [
      "<class 'pandas.core.frame.DataFrame'>\n",
      "RangeIndex: 7613 entries, 0 to 7612\n",
      "Data columns (total 5 columns):\n",
      " #   Column    Non-Null Count  Dtype \n",
      "---  ------    --------------  ----- \n",
      " 0   id        7613 non-null   int64 \n",
      " 1   keyword   7552 non-null   object\n",
      " 2   location  5080 non-null   object\n",
      " 3   text      7613 non-null   object\n",
      " 4   target    7613 non-null   int64 \n",
      "dtypes: int64(2), object(3)\n",
      "memory usage: 297.5+ KB\n"
     ]
    }
   ],
   "source": [
    "train_raw.info()"
   ]
  },
  {
   "cell_type": "code",
   "execution_count": 4,
   "id": "d9b25ba4",
   "metadata": {
    "execution": {
     "iopub.execute_input": "2025-02-12T02:01:52.652142Z",
     "iopub.status.busy": "2025-02-12T02:01:52.651893Z",
     "iopub.status.idle": "2025-02-12T02:01:52.664735Z",
     "shell.execute_reply": "2025-02-12T02:01:52.664034Z"
    },
    "papermill": {
     "duration": 0.021764,
     "end_time": "2025-02-12T02:01:52.665933",
     "exception": false,
     "start_time": "2025-02-12T02:01:52.644169",
     "status": "completed"
    },
    "tags": []
   },
   "outputs": [
    {
     "data": {
      "text/html": [
       "<div>\n",
       "<style scoped>\n",
       "    .dataframe tbody tr th:only-of-type {\n",
       "        vertical-align: middle;\n",
       "    }\n",
       "\n",
       "    .dataframe tbody tr th {\n",
       "        vertical-align: top;\n",
       "    }\n",
       "\n",
       "    .dataframe thead th {\n",
       "        text-align: right;\n",
       "    }\n",
       "</style>\n",
       "<table border=\"1\" class=\"dataframe\">\n",
       "  <thead>\n",
       "    <tr style=\"text-align: right;\">\n",
       "      <th></th>\n",
       "      <th>id</th>\n",
       "      <th>keyword</th>\n",
       "      <th>location</th>\n",
       "      <th>text</th>\n",
       "      <th>target</th>\n",
       "    </tr>\n",
       "  </thead>\n",
       "  <tbody>\n",
       "    <tr>\n",
       "      <th>0</th>\n",
       "      <td>1</td>\n",
       "      <td>NaN</td>\n",
       "      <td>NaN</td>\n",
       "      <td>Our Deeds are the Reason of this #earthquake M...</td>\n",
       "      <td>1</td>\n",
       "    </tr>\n",
       "    <tr>\n",
       "      <th>1</th>\n",
       "      <td>4</td>\n",
       "      <td>NaN</td>\n",
       "      <td>NaN</td>\n",
       "      <td>Forest fire near La Ronge Sask. Canada</td>\n",
       "      <td>1</td>\n",
       "    </tr>\n",
       "    <tr>\n",
       "      <th>2</th>\n",
       "      <td>5</td>\n",
       "      <td>NaN</td>\n",
       "      <td>NaN</td>\n",
       "      <td>All residents asked to 'shelter in place' are ...</td>\n",
       "      <td>1</td>\n",
       "    </tr>\n",
       "    <tr>\n",
       "      <th>3</th>\n",
       "      <td>6</td>\n",
       "      <td>NaN</td>\n",
       "      <td>NaN</td>\n",
       "      <td>13,000 people receive #wildfires evacuation or...</td>\n",
       "      <td>1</td>\n",
       "    </tr>\n",
       "    <tr>\n",
       "      <th>4</th>\n",
       "      <td>7</td>\n",
       "      <td>NaN</td>\n",
       "      <td>NaN</td>\n",
       "      <td>Just got sent this photo from Ruby #Alaska as ...</td>\n",
       "      <td>1</td>\n",
       "    </tr>\n",
       "  </tbody>\n",
       "</table>\n",
       "</div>"
      ],
      "text/plain": [
       "   id keyword location                                               text  \\\n",
       "0   1     NaN      NaN  Our Deeds are the Reason of this #earthquake M...   \n",
       "1   4     NaN      NaN             Forest fire near La Ronge Sask. Canada   \n",
       "2   5     NaN      NaN  All residents asked to 'shelter in place' are ...   \n",
       "3   6     NaN      NaN  13,000 people receive #wildfires evacuation or...   \n",
       "4   7     NaN      NaN  Just got sent this photo from Ruby #Alaska as ...   \n",
       "\n",
       "   target  \n",
       "0       1  \n",
       "1       1  \n",
       "2       1  \n",
       "3       1  \n",
       "4       1  "
      ]
     },
     "execution_count": 4,
     "metadata": {},
     "output_type": "execute_result"
    }
   ],
   "source": [
    "train_raw.head()"
   ]
  },
  {
   "cell_type": "code",
   "execution_count": 5,
   "id": "5e8e0476",
   "metadata": {
    "execution": {
     "iopub.execute_input": "2025-02-12T02:01:52.681516Z",
     "iopub.status.busy": "2025-02-12T02:01:52.681311Z",
     "iopub.status.idle": "2025-02-12T02:01:52.689606Z",
     "shell.execute_reply": "2025-02-12T02:01:52.688984Z"
    },
    "papermill": {
     "duration": 0.017285,
     "end_time": "2025-02-12T02:01:52.690833",
     "exception": false,
     "start_time": "2025-02-12T02:01:52.673548",
     "status": "completed"
    },
    "tags": []
   },
   "outputs": [
    {
     "data": {
      "text/plain": [
       "0    Our Deeds are the Reason of this #earthquake M...\n",
       "1               Forest fire near La Ronge Sask. Canada\n",
       "2    All residents asked to 'shelter in place' are ...\n",
       "3    13,000 people receive #wildfires evacuation or...\n",
       "4    Just got sent this photo from Ruby #Alaska as ...\n",
       "Name: text, dtype: object"
      ]
     },
     "execution_count": 5,
     "metadata": {},
     "output_type": "execute_result"
    }
   ],
   "source": [
    "positive_examples = train_raw[train_raw['target'] == 1]\n",
    "negative_examples = train_raw[train_raw['target'] == 0]\n",
    "\n",
    "positive_examples['text'].head()"
   ]
  },
  {
   "cell_type": "code",
   "execution_count": 6,
   "id": "4a747154",
   "metadata": {
    "execution": {
     "iopub.execute_input": "2025-02-12T02:01:52.706568Z",
     "iopub.status.busy": "2025-02-12T02:01:52.706338Z",
     "iopub.status.idle": "2025-02-12T02:01:52.711294Z",
     "shell.execute_reply": "2025-02-12T02:01:52.710505Z"
    },
    "papermill": {
     "duration": 0.014142,
     "end_time": "2025-02-12T02:01:52.712577",
     "exception": false,
     "start_time": "2025-02-12T02:01:52.698435",
     "status": "completed"
    },
    "tags": []
   },
   "outputs": [
    {
     "data": {
      "text/plain": [
       "15                  What's up man?\n",
       "16                   I love fruits\n",
       "17                Summer is lovely\n",
       "18               My car is so fast\n",
       "19    What a goooooooaaaaaal!!!!!!\n",
       "Name: text, dtype: object"
      ]
     },
     "execution_count": 6,
     "metadata": {},
     "output_type": "execute_result"
    }
   ],
   "source": [
    "negative_examples['text'].head()"
   ]
  },
  {
   "cell_type": "code",
   "execution_count": 7,
   "id": "88504f13",
   "metadata": {
    "execution": {
     "iopub.execute_input": "2025-02-12T02:01:52.728083Z",
     "iopub.status.busy": "2025-02-12T02:01:52.727831Z",
     "iopub.status.idle": "2025-02-12T02:01:52.912418Z",
     "shell.execute_reply": "2025-02-12T02:01:52.911481Z"
    },
    "papermill": {
     "duration": 0.194066,
     "end_time": "2025-02-12T02:01:52.914037",
     "exception": false,
     "start_time": "2025-02-12T02:01:52.719971",
     "status": "completed"
    },
    "tags": []
   },
   "outputs": [
    {
     "data": {
      "image/png": "[encoded data removed]",
      "text/plain": [
       "<Figure size 400x400 with 1 Axes>"
      ]
     },
     "metadata": {},
     "output_type": "display_data"
    }
   ],
   "source": [
    "plt.figure(figsize=(4, 4))\n",
    "sns.countplot(x='target', data=train_raw)\n",
    "plt.title('Class Distribution')\n",
    "plt.show()"
   ]
  },
  {
   "cell_type": "markdown",
   "id": "504aafba",
   "metadata": {
    "papermill": {
     "duration": 0.008475,
     "end_time": "2025-02-12T02:01:52.931913",
     "exception": false,
     "start_time": "2025-02-12T02:01:52.923438",
     "status": "completed"
    },
    "tags": []
   },
   "source": [
    "## Analysis Plan"
   ]
  },
  {
   "cell_type": "markdown",
   "id": "a8101948",
   "metadata": {
    "papermill": {
     "duration": 0.007519,
     "end_time": "2025-02-12T02:01:52.947503",
     "exception": false,
     "start_time": "2025-02-12T02:01:52.939984",
     "status": "completed"
    },
    "tags": []
   },
   "source": [
    "#### After looking through the data at a high-level, we can figure out a few different things that we need to do. The target classes aren't perfectly symmetrical but they are split roughly 60/40 so class imbalance shouldn't be a huge issue. We'll proceed through a few steps as we model:\n",
    "* #### Our first step will be to clean the data -- this will include things like stripping out URLs and Stop-words, cleaning up repeated letters (check the 5th example in our negative classes above), and removing punctuation\n",
    "* #### Next, we'll tokenize the input tweets, breaking them down into tokens for easier training\n",
    "* #### We'll have to adress embedding schemes after tokenizing the data. We'll start with TF-IDF, and possibly try Word2Vec, and the built-in Tensorflow Embeddings Layer\n",
    "* #### After we have the data processed, we'll fit a vanilla RNN to the data and test the performance.\n",
    "* #### Once our baseline is established, we'll try other RNN architectures like LSTM, GRU, Bi-Directional\n",
    "* #### Whichever base architecture performs the best, we'll run some hyperparameter tuning on to fine-tune it\n",
    "* #### Once we've trained what we feel is our best model, we'll compare results and discuss what we've learned"
   ]
  },
  {
   "cell_type": "markdown",
   "id": "cf0cf02f",
   "metadata": {
    "papermill": {
     "duration": 0.007508,
     "end_time": "2025-02-12T02:01:52.962974",
     "exception": false,
     "start_time": "2025-02-12T02:01:52.955466",
     "status": "completed"
    },
    "tags": []
   },
   "source": [
    "# Data Cleaning and Pre-processing"
   ]
  },
  {
   "cell_type": "markdown",
   "id": "08f03f8d",
   "metadata": {
    "papermill": {
     "duration": 0.007717,
     "end_time": "2025-02-12T02:01:52.978357",
     "exception": false,
     "start_time": "2025-02-12T02:01:52.970640",
     "status": "completed"
    },
    "tags": []
   },
   "source": [
    "## Cleaning Tweets"
   ]
  },
  {
   "cell_type": "markdown",
   "id": "5b22aa6d",
   "metadata": {
    "papermill": {
     "duration": 0.007485,
     "end_time": "2025-02-12T02:01:52.993538",
     "exception": false,
     "start_time": "2025-02-12T02:01:52.986053",
     "status": "completed"
    },
    "tags": []
   },
   "source": [
    "#### We'll create a few methods to handle stripping out punctuation, URLs, and stopwords. We'll also lemmatize the text here instead of tokenizing. We'll cover what our tokenization approach is in the next block"
   ]
  },
  {
   "cell_type": "code",
   "execution_count": 8,
   "id": "be793f06",
   "metadata": {
    "execution": {
     "iopub.execute_input": "2025-02-12T02:01:53.010304Z",
     "iopub.status.busy": "2025-02-12T02:01:53.009955Z",
     "iopub.status.idle": "2025-02-12T02:01:53.015841Z",
     "shell.execute_reply": "2025-02-12T02:01:53.015157Z"
    },
    "papermill": {
     "duration": 0.015754,
     "end_time": "2025-02-12T02:01:53.017096",
     "exception": false,
     "start_time": "2025-02-12T02:01:53.001342",
     "status": "completed"
    },
    "tags": []
   },
   "outputs": [],
   "source": [
    "def clean_and_prep_text(df_text: pd.DataFrame):\n",
    "    '''\n",
    "    Given an input dataframe, transform the text column\n",
    "    '''\n",
    "    lemmatizer = WordNetLemmatizer()\n",
    "    urlstr = re.compile(r\"https?://\\S+|www\\.\\S+\")\n",
    "    punctrans = str.maketrans(\"\", \"\", string.punctuation)\n",
    "    stop_set = set(stopwords.words(\"english\"))\n",
    "    \n",
    "    df_text['no_url'] = df_text['text'].apply(lambda row: urlstr.sub(r\"\", row)) \n",
    "    df_text['no_punc'] = df_text['no_url'].apply(lambda row: row.translate(punctrans))\n",
    "    df_text['clean'] = df_text['no_punc'].apply(lambda row: ' '.join([word.lower() for word in row.split() if word not in stop_set]))\n",
    "    df_text['lemmas'] = df_text['clean'].apply(lambda row: ' '.join([lemmatizer.lemmatize(word) for word in row.split()]))\n",
    "\n",
    "    df_text.drop(['no_url', 'no_punc', 'clean'], axis=1, inplace=True)\n",
    "\n",
    "    return\n",
    "    "
   ]
  },
  {
   "cell_type": "markdown",
   "id": "cb619286",
   "metadata": {
    "papermill": {
     "duration": 0.007492,
     "end_time": "2025-02-12T02:01:53.032335",
     "exception": false,
     "start_time": "2025-02-12T02:01:53.024843",
     "status": "completed"
    },
    "tags": []
   },
   "source": [
    "## Tokenization"
   ]
  },
  {
   "cell_type": "markdown",
   "id": "e82667eb",
   "metadata": {
    "papermill": {
     "duration": 0.007602,
     "end_time": "2025-02-12T02:01:53.048453",
     "exception": false,
     "start_time": "2025-02-12T02:01:53.040851",
     "status": "completed"
    },
    "tags": []
   },
   "source": [
    "#### Next, we'll actually apply our cleaning to the data. We'll split into train/validation before applying our tokenization function since we want the encoding to be based only on the training data -- this will prevent leakage from the validation set"
   ]
  },
  {
   "cell_type": "code",
   "execution_count": 9,
   "id": "423f4a32",
   "metadata": {
    "execution": {
     "iopub.execute_input": "2025-02-12T02:01:53.064826Z",
     "iopub.status.busy": "2025-02-12T02:01:53.064556Z",
     "iopub.status.idle": "2025-02-12T02:01:54.728299Z",
     "shell.execute_reply": "2025-02-12T02:01:54.727628Z"
    },
    "papermill": {
     "duration": 1.673628,
     "end_time": "2025-02-12T02:01:54.729797",
     "exception": false,
     "start_time": "2025-02-12T02:01:53.056169",
     "status": "completed"
    },
    "tags": []
   },
   "outputs": [],
   "source": [
    "clean_and_prep_text(train_raw)"
   ]
  },
  {
   "cell_type": "code",
   "execution_count": 10,
   "id": "4c35db00",
   "metadata": {
    "execution": {
     "iopub.execute_input": "2025-02-12T02:01:54.746684Z",
     "iopub.status.busy": "2025-02-12T02:01:54.746424Z",
     "iopub.status.idle": "2025-02-12T02:01:54.754866Z",
     "shell.execute_reply": "2025-02-12T02:01:54.754052Z"
    },
    "papermill": {
     "duration": 0.018025,
     "end_time": "2025-02-12T02:01:54.756217",
     "exception": false,
     "start_time": "2025-02-12T02:01:54.738192",
     "status": "completed"
    },
    "tags": []
   },
   "outputs": [
    {
     "data": {
      "text/html": [
       "<div>\n",
       "<style scoped>\n",
       "    .dataframe tbody tr th:only-of-type {\n",
       "        vertical-align: middle;\n",
       "    }\n",
       "\n",
       "    .dataframe tbody tr th {\n",
       "        vertical-align: top;\n",
       "    }\n",
       "\n",
       "    .dataframe thead th {\n",
       "        text-align: right;\n",
       "    }\n",
       "</style>\n",
       "<table border=\"1\" class=\"dataframe\">\n",
       "  <thead>\n",
       "    <tr style=\"text-align: right;\">\n",
       "      <th></th>\n",
       "      <th>id</th>\n",
       "      <th>keyword</th>\n",
       "      <th>location</th>\n",
       "      <th>text</th>\n",
       "      <th>target</th>\n",
       "      <th>lemmas</th>\n",
       "    </tr>\n",
       "  </thead>\n",
       "  <tbody>\n",
       "    <tr>\n",
       "      <th>0</th>\n",
       "      <td>1</td>\n",
       "      <td>NaN</td>\n",
       "      <td>NaN</td>\n",
       "      <td>Our Deeds are the Reason of this #earthquake M...</td>\n",
       "      <td>1</td>\n",
       "      <td>our deed reason earthquake may allah forgive u</td>\n",
       "    </tr>\n",
       "    <tr>\n",
       "      <th>1</th>\n",
       "      <td>4</td>\n",
       "      <td>NaN</td>\n",
       "      <td>NaN</td>\n",
       "      <td>Forest fire near La Ronge Sask. Canada</td>\n",
       "      <td>1</td>\n",
       "      <td>forest fire near la ronge sask canada</td>\n",
       "    </tr>\n",
       "    <tr>\n",
       "      <th>2</th>\n",
       "      <td>5</td>\n",
       "      <td>NaN</td>\n",
       "      <td>NaN</td>\n",
       "      <td>All residents asked to 'shelter in place' are ...</td>\n",
       "      <td>1</td>\n",
       "      <td>all resident asked shelter place notified offi...</td>\n",
       "    </tr>\n",
       "    <tr>\n",
       "      <th>3</th>\n",
       "      <td>6</td>\n",
       "      <td>NaN</td>\n",
       "      <td>NaN</td>\n",
       "      <td>13,000 people receive #wildfires evacuation or...</td>\n",
       "      <td>1</td>\n",
       "      <td>13000 people receive wildfire evacuation order...</td>\n",
       "    </tr>\n",
       "    <tr>\n",
       "      <th>4</th>\n",
       "      <td>7</td>\n",
       "      <td>NaN</td>\n",
       "      <td>NaN</td>\n",
       "      <td>Just got sent this photo from Ruby #Alaska as ...</td>\n",
       "      <td>1</td>\n",
       "      <td>just got sent photo ruby alaska smoke wildfire...</td>\n",
       "    </tr>\n",
       "  </tbody>\n",
       "</table>\n",
       "</div>"
      ],
      "text/plain": [
       "   id keyword location                                               text  \\\n",
       "0   1     NaN      NaN  Our Deeds are the Reason of this #earthquake M...   \n",
       "1   4     NaN      NaN             Forest fire near La Ronge Sask. Canada   \n",
       "2   5     NaN      NaN  All residents asked to 'shelter in place' are ...   \n",
       "3   6     NaN      NaN  13,000 people receive #wildfires evacuation or...   \n",
       "4   7     NaN      NaN  Just got sent this photo from Ruby #Alaska as ...   \n",
       "\n",
       "   target                                             lemmas  \n",
       "0       1     our deed reason earthquake may allah forgive u  \n",
       "1       1              forest fire near la ronge sask canada  \n",
       "2       1  all resident asked shelter place notified offi...  \n",
       "3       1  13000 people receive wildfire evacuation order...  \n",
       "4       1  just got sent photo ruby alaska smoke wildfire...  "
      ]
     },
     "execution_count": 10,
     "metadata": {},
     "output_type": "execute_result"
    }
   ],
   "source": [
    "train_raw.head()"
   ]
  },
  {
   "cell_type": "code",
   "execution_count": 11,
   "id": "5caa113a",
   "metadata": {
    "execution": {
     "iopub.execute_input": "2025-02-12T02:01:54.772928Z",
     "iopub.status.busy": "2025-02-12T02:01:54.772717Z",
     "iopub.status.idle": "2025-02-12T02:01:54.778458Z",
     "shell.execute_reply": "2025-02-12T02:01:54.777877Z"
    },
    "papermill": {
     "duration": 0.015383,
     "end_time": "2025-02-12T02:01:54.779551",
     "exception": false,
     "start_time": "2025-02-12T02:01:54.764168",
     "status": "completed"
    },
    "tags": []
   },
   "outputs": [],
   "source": [
    "df_train, df_val = train_test_split(train_raw, test_size = 0.20, random_state=4022)\n",
    "\n",
    "train_text = df_train.lemmas.to_numpy()\n",
    "train_labels = df_train.target.to_numpy()\n",
    "\n",
    "val_text = df_val.lemmas.to_numpy()\n",
    "val_labels = df_val.target.to_numpy()"
   ]
  },
  {
   "cell_type": "code",
   "execution_count": 12,
   "id": "02db2c08",
   "metadata": {
    "execution": {
     "iopub.execute_input": "2025-02-12T02:01:54.796222Z",
     "iopub.status.busy": "2025-02-12T02:01:54.795970Z",
     "iopub.status.idle": "2025-02-12T02:01:54.799404Z",
     "shell.execute_reply": "2025-02-12T02:01:54.798779Z"
    },
    "papermill": {
     "duration": 0.013067,
     "end_time": "2025-02-12T02:01:54.800543",
     "exception": false,
     "start_time": "2025-02-12T02:01:54.787476",
     "status": "completed"
    },
    "tags": []
   },
   "outputs": [],
   "source": [
    "def count_words(df):\n",
    "    count = Counter()\n",
    "    for text in df.lemmas.values:\n",
    "        for word in text.split():\n",
    "            count[word] += 1\n",
    "    return count"
   ]
  },
  {
   "cell_type": "code",
   "execution_count": 13,
   "id": "aca3a011",
   "metadata": {
    "execution": {
     "iopub.execute_input": "2025-02-12T02:01:54.817360Z",
     "iopub.status.busy": "2025-02-12T02:01:54.817154Z",
     "iopub.status.idle": "2025-02-12T02:01:54.844728Z",
     "shell.execute_reply": "2025-02-12T02:01:54.843821Z"
    },
    "papermill": {
     "duration": 0.03736,
     "end_time": "2025-02-12T02:01:54.846061",
     "exception": false,
     "start_time": "2025-02-12T02:01:54.808701",
     "status": "completed"
    },
    "tags": []
   },
   "outputs": [
    {
     "name": "stdout",
     "output_type": "stream",
     "text": [
      "There are: 16781 unique words in our training set\n"
     ]
    }
   ],
   "source": [
    "word_count = len(count_words(train_raw))\n",
    "print(\"There are: \" + str(word_count) + \" unique words in our training set\")"
   ]
  },
  {
   "cell_type": "code",
   "execution_count": 14,
   "id": "801b5719",
   "metadata": {
    "execution": {
     "iopub.execute_input": "2025-02-12T02:01:54.862884Z",
     "iopub.status.busy": "2025-02-12T02:01:54.862653Z",
     "iopub.status.idle": "2025-02-12T02:01:55.056813Z",
     "shell.execute_reply": "2025-02-12T02:01:55.055875Z"
    },
    "papermill": {
     "duration": 0.204402,
     "end_time": "2025-02-12T02:01:55.058521",
     "exception": false,
     "start_time": "2025-02-12T02:01:54.854119",
     "status": "completed"
    },
    "tags": []
   },
   "outputs": [],
   "source": [
    "max_words = 25 # Roughly the number of words in an average 140 character tweet\n",
    "tokenizer = Tokenizer(num_words=word_count)\n",
    "tokenizer.fit_on_texts(train_text)\n",
    "\n",
    "train_sequences = tokenizer.texts_to_sequences(train_text)\n",
    "val_sequences = tokenizer.texts_to_sequences(val_text)\n",
    "\n",
    "train_pad = pad_sequences(train_sequences, maxlen=max_words, padding='post', truncating='post')\n",
    "val_pad = pad_sequences(val_sequences, maxlen=max_words, padding='post', truncating='post')"
   ]
  },
  {
   "cell_type": "markdown",
   "id": "7e79ff7a",
   "metadata": {
    "papermill": {
     "duration": 0.007739,
     "end_time": "2025-02-12T02:01:55.074638",
     "exception": false,
     "start_time": "2025-02-12T02:01:55.066899",
     "status": "completed"
    },
    "tags": []
   },
   "source": [
    "## Embedding the Text"
   ]
  },
  {
   "cell_type": "markdown",
   "id": "02d40ed5",
   "metadata": {
    "papermill": {
     "duration": 0.007612,
     "end_time": "2025-02-12T02:01:55.090041",
     "exception": false,
     "start_time": "2025-02-12T02:01:55.082429",
     "status": "completed"
    },
    "tags": []
   },
   "source": [
    "#### We're just going to stick with the built-in embedding layer from Tensorflow. This makes it easy to add embeddings to our model, and gives us a hyperparameter to tune for better performance (the dimension of the embedding)"
   ]
  },
  {
   "cell_type": "markdown",
   "id": "561439ee",
   "metadata": {
    "papermill": {
     "duration": 0.007719,
     "end_time": "2025-02-12T02:01:55.105596",
     "exception": false,
     "start_time": "2025-02-12T02:01:55.097877",
     "status": "completed"
    },
    "tags": []
   },
   "source": [
    "# Model Building and Training"
   ]
  },
  {
   "cell_type": "markdown",
   "id": "641e01d2",
   "metadata": {
    "papermill": {
     "duration": 0.007713,
     "end_time": "2025-02-12T02:01:55.121179",
     "exception": false,
     "start_time": "2025-02-12T02:01:55.113466",
     "status": "completed"
    },
    "tags": []
   },
   "source": [
    "## Basic Architecture"
   ]
  },
  {
   "cell_type": "code",
   "execution_count": 15,
   "id": "bf65b516",
   "metadata": {
    "execution": {
     "iopub.execute_input": "2025-02-12T02:01:55.137933Z",
     "iopub.status.busy": "2025-02-12T02:01:55.137666Z",
     "iopub.status.idle": "2025-02-12T02:01:57.501853Z",
     "shell.execute_reply": "2025-02-12T02:01:57.501002Z"
    },
    "papermill": {
     "duration": 2.374091,
     "end_time": "2025-02-12T02:01:57.503192",
     "exception": false,
     "start_time": "2025-02-12T02:01:55.129101",
     "status": "completed"
    },
    "tags": []
   },
   "outputs": [
    {
     "data": {
      "text/html": [
       "<pre style=\"white-space:pre;overflow-x:auto;line-height:normal;font-family:Menlo,'DejaVu Sans Mono',consolas,'Courier New',monospace\"><span style=\"font-weight: bold\">Model: \"sequential\"</span>\n",
       "</pre>\n"
      ],
      "text/plain": [
       "\u001b[1mModel: \"sequential\"\u001b[0m\n"
      ]
     },
     "metadata": {},
     "output_type": "display_data"
    },
    {
     "data": {
      "text/html": [
       "<pre style=\"white-space:pre;overflow-x:auto;line-height:normal;font-family:Menlo,'DejaVu Sans Mono',consolas,'Courier New',monospace\">┏━━━━━━━━━━━━━━━━━━━━━━━━━━━━━━━━━━━━━━┳━━━━━━━━━━━━━━━━━━━━━━━━━━━━━┳━━━━━━━━━━━━━━━━━┓\n",
       "┃<span style=\"font-weight: bold\"> Layer (type)                         </span>┃<span style=\"font-weight: bold\"> Output Shape                </span>┃<span style=\"font-weight: bold\">         Param # </span>┃\n",
       "┡━━━━━━━━━━━━━━━━━━━━━━━━━━━━━━━━━━━━━━╇━━━━━━━━━━━━━━━━━━━━━━━━━━━━━╇━━━━━━━━━━━━━━━━━┩\n",
       "│ embedding (<span style=\"color: #0087ff; text-decoration-color: #0087ff\">Embedding</span>)                │ (<span style=\"color: #00d7ff; text-decoration-color: #00d7ff\">None</span>, <span style=\"color: #00af00; text-decoration-color: #00af00\">25</span>, <span style=\"color: #00af00; text-decoration-color: #00af00\">32</span>)              │         <span style=\"color: #00af00; text-decoration-color: #00af00\">536,992</span> │\n",
       "├──────────────────────────────────────┼─────────────────────────────┼─────────────────┤\n",
       "│ simple_rnn (<span style=\"color: #0087ff; text-decoration-color: #0087ff\">SimpleRNN</span>)               │ (<span style=\"color: #00d7ff; text-decoration-color: #00d7ff\">None</span>, <span style=\"color: #00af00; text-decoration-color: #00af00\">32</span>)                  │           <span style=\"color: #00af00; text-decoration-color: #00af00\">2,080</span> │\n",
       "├──────────────────────────────────────┼─────────────────────────────┼─────────────────┤\n",
       "│ dense (<span style=\"color: #0087ff; text-decoration-color: #0087ff\">Dense</span>)                        │ (<span style=\"color: #00d7ff; text-decoration-color: #00d7ff\">None</span>, <span style=\"color: #00af00; text-decoration-color: #00af00\">1</span>)                   │              <span style=\"color: #00af00; text-decoration-color: #00af00\">33</span> │\n",
       "└──────────────────────────────────────┴─────────────────────────────┴─────────────────┘\n",
       "</pre>\n"
      ],
      "text/plain": [
       "┏━━━━━━━━━━━━━━━━━━━━━━━━━━━━━━━━━━━━━━┳━━━━━━━━━━━━━━━━━━━━━━━━━━━━━┳━━━━━━━━━━━━━━━━━┓\n",
       "┃\u001b[1m \u001b[0m\u001b[1mLayer (type)                        \u001b[0m\u001b[1m \u001b[0m┃\u001b[1m \u001b[0m\u001b[1mOutput Shape               \u001b[0m\u001b[1m \u001b[0m┃\u001b[1m \u001b[0m\u001b[1m        Param #\u001b[0m\u001b[1m \u001b[0m┃\n",
       "┡━━━━━━━━━━━━━━━━━━━━━━━━━━━━━━━━━━━━━━╇━━━━━━━━━━━━━━━━━━━━━━━━━━━━━╇━━━━━━━━━━━━━━━━━┩\n",
       "│ embedding (\u001b[38;5;33mEmbedding\u001b[0m)                │ (\u001b[38;5;45mNone\u001b[0m, \u001b[38;5;34m25\u001b[0m, \u001b[38;5;34m32\u001b[0m)              │         \u001b[38;5;34m536,992\u001b[0m │\n",
       "├──────────────────────────────────────┼─────────────────────────────┼─────────────────┤\n",
       "│ simple_rnn (\u001b[38;5;33mSimpleRNN\u001b[0m)               │ (\u001b[38;5;45mNone\u001b[0m, \u001b[38;5;34m32\u001b[0m)                  │           \u001b[38;5;34m2,080\u001b[0m │\n",
       "├──────────────────────────────────────┼─────────────────────────────┼─────────────────┤\n",
       "│ dense (\u001b[38;5;33mDense\u001b[0m)                        │ (\u001b[38;5;45mNone\u001b[0m, \u001b[38;5;34m1\u001b[0m)                   │              \u001b[38;5;34m33\u001b[0m │\n",
       "└──────────────────────────────────────┴─────────────────────────────┴─────────────────┘\n"
      ]
     },
     "metadata": {},
     "output_type": "display_data"
    },
    {
     "data": {
      "text/html": [
       "<pre style=\"white-space:pre;overflow-x:auto;line-height:normal;font-family:Menlo,'DejaVu Sans Mono',consolas,'Courier New',monospace\"><span style=\"font-weight: bold\"> Total params: </span><span style=\"color: #00af00; text-decoration-color: #00af00\">539,105</span> (2.06 MB)\n",
       "</pre>\n"
      ],
      "text/plain": [
       "\u001b[1m Total params: \u001b[0m\u001b[38;5;34m539,105\u001b[0m (2.06 MB)\n"
      ]
     },
     "metadata": {},
     "output_type": "display_data"
    },
    {
     "data": {
      "text/html": [
       "<pre style=\"white-space:pre;overflow-x:auto;line-height:normal;font-family:Menlo,'DejaVu Sans Mono',consolas,'Courier New',monospace\"><span style=\"font-weight: bold\"> Trainable params: </span><span style=\"color: #00af00; text-decoration-color: #00af00\">539,105</span> (2.06 MB)\n",
       "</pre>\n"
      ],
      "text/plain": [
       "\u001b[1m Trainable params: \u001b[0m\u001b[38;5;34m539,105\u001b[0m (2.06 MB)\n"
      ]
     },
     "metadata": {},
     "output_type": "display_data"
    },
    {
     "data": {
      "text/html": [
       "<pre style=\"white-space:pre;overflow-x:auto;line-height:normal;font-family:Menlo,'DejaVu Sans Mono',consolas,'Courier New',monospace\"><span style=\"font-weight: bold\"> Non-trainable params: </span><span style=\"color: #00af00; text-decoration-color: #00af00\">0</span> (0.00 B)\n",
       "</pre>\n"
      ],
      "text/plain": [
       "\u001b[1m Non-trainable params: \u001b[0m\u001b[38;5;34m0\u001b[0m (0.00 B)\n"
      ]
     },
     "metadata": {},
     "output_type": "display_data"
    }
   ],
   "source": [
    "model_base = Sequential([\n",
    "    InputLayer((max_words,)),\n",
    "    # Layer one\n",
    "    Embedding(word_count, 32, input_length=max_words),\n",
    "\n",
    "    # Layer two\n",
    "    SimpleRNN(units=32),\n",
    "\n",
    "    # Output\n",
    "    Dense(1, activation='sigmoid')\n",
    "])\n",
    "\n",
    "learning_rate = 0.001\n",
    "opt = keras.optimizers.Adam(learning_rate = learning_rate)\n",
    "\n",
    "model_base.compile(optimizer = opt,\n",
    "              loss=tf.keras.losses.BinaryCrossentropy(from_logits=True),\n",
    "              metrics = ['accuracy'])\n",
    "\n",
    "model_base.build()\n",
    "model_base.summary()"
   ]
  },
  {
   "cell_type": "code",
   "execution_count": 16,
   "id": "7d05049d",
   "metadata": {
    "execution": {
     "iopub.execute_input": "2025-02-12T02:01:57.521552Z",
     "iopub.status.busy": "2025-02-12T02:01:57.521325Z",
     "iopub.status.idle": "2025-02-12T02:01:57.727085Z",
     "shell.execute_reply": "2025-02-12T02:01:57.726232Z"
    },
    "papermill": {
     "duration": 0.216125,
     "end_time": "2025-02-12T02:01:57.728324",
     "exception": false,
     "start_time": "2025-02-12T02:01:57.512199",
     "status": "completed"
    },
    "tags": []
   },
   "outputs": [
    {
     "data": {
      "image/png": "[encoded data removed]",
      "text/plain": [
       "<IPython.core.display.Image object>"
      ]
     },
     "execution_count": 16,
     "metadata": {},
     "output_type": "execute_result"
    }
   ],
   "source": [
    "tf.keras.utils.plot_model(\n",
    "    model_base,\n",
    "    to_file=\"model.png\",\n",
    "    show_shapes=True,\n",
    "    show_layer_names=True,\n",
    "    rankdir=\"TB\",\n",
    "    expand_nested=True,\n",
    "    dpi=96,\n",
    ")"
   ]
  },
  {
   "cell_type": "markdown",
   "id": "1c611471",
   "metadata": {
    "papermill": {
     "duration": 0.00918,
     "end_time": "2025-02-12T02:01:57.747184",
     "exception": false,
     "start_time": "2025-02-12T02:01:57.738004",
     "status": "completed"
    },
    "tags": []
   },
   "source": [
    "## Training and Exploring Results"
   ]
  },
  {
   "cell_type": "code",
   "execution_count": 17,
   "id": "d663b264",
   "metadata": {
    "execution": {
     "iopub.execute_input": "2025-02-12T02:01:57.766004Z",
     "iopub.status.busy": "2025-02-12T02:01:57.765742Z",
     "iopub.status.idle": "2025-02-12T02:02:09.455544Z",
     "shell.execute_reply": "2025-02-12T02:02:09.454789Z"
    },
    "papermill": {
     "duration": 11.700612,
     "end_time": "2025-02-12T02:02:09.456819",
     "exception": false,
     "start_time": "2025-02-12T02:01:57.756207",
     "status": "completed"
    },
    "tags": []
   },
   "outputs": [
    {
     "name": "stdout",
     "output_type": "stream",
     "text": [
      "Epoch 1/10\n",
      "\u001b[1m191/191\u001b[0m \u001b[32m━━━━━━━━━━━━━━━━━━━━\u001b[0m\u001b[37m\u001b[0m \u001b[1m5s\u001b[0m 12ms/step - accuracy: 0.6348 - loss: 0.6399 - val_accuracy: 0.7715 - val_loss: 0.5236\n",
      "Epoch 2/10\n",
      "\u001b[1m191/191\u001b[0m \u001b[32m━━━━━━━━━━━━━━━━━━━━\u001b[0m\u001b[37m\u001b[0m \u001b[1m1s\u001b[0m 4ms/step - accuracy: 0.8861 - loss: 0.3236 - val_accuracy: 0.7728 - val_loss: 0.5447\n",
      "Epoch 3/10\n",
      "\u001b[1m191/191\u001b[0m \u001b[32m━━━━━━━━━━━━━━━━━━━━\u001b[0m\u001b[37m\u001b[0m \u001b[1m1s\u001b[0m 4ms/step - accuracy: 0.9521 - loss: 0.1563 - val_accuracy: 0.7551 - val_loss: 0.6287\n",
      "Epoch 4/10\n",
      "\u001b[1m191/191\u001b[0m \u001b[32m━━━━━━━━━━━━━━━━━━━━\u001b[0m\u001b[37m\u001b[0m \u001b[1m1s\u001b[0m 4ms/step - accuracy: 0.9745 - loss: 0.0784 - val_accuracy: 0.7505 - val_loss: 0.7041\n",
      "Epoch 5/10\n",
      "\u001b[1m191/191\u001b[0m \u001b[32m━━━━━━━━━━━━━━━━━━━━\u001b[0m\u001b[37m\u001b[0m \u001b[1m1s\u001b[0m 4ms/step - accuracy: 0.9811 - loss: 0.0529 - val_accuracy: 0.7196 - val_loss: 0.7990\n",
      "Epoch 6/10\n",
      "\u001b[1m191/191\u001b[0m \u001b[32m━━━━━━━━━━━━━━━━━━━━\u001b[0m\u001b[37m\u001b[0m \u001b[1m1s\u001b[0m 4ms/step - accuracy: 0.9810 - loss: 0.0456 - val_accuracy: 0.7387 - val_loss: 0.8439\n",
      "Epoch 7/10\n",
      "\u001b[1m191/191\u001b[0m \u001b[32m━━━━━━━━━━━━━━━━━━━━\u001b[0m\u001b[37m\u001b[0m \u001b[1m1s\u001b[0m 4ms/step - accuracy: 0.9800 - loss: 0.0400 - val_accuracy: 0.7295 - val_loss: 0.8455\n",
      "Epoch 8/10\n",
      "\u001b[1m191/191\u001b[0m \u001b[32m━━━━━━━━━━━━━━━━━━━━\u001b[0m\u001b[37m\u001b[0m \u001b[1m1s\u001b[0m 4ms/step - accuracy: 0.9833 - loss: 0.0366 - val_accuracy: 0.6809 - val_loss: 0.9041\n",
      "Epoch 9/10\n",
      "\u001b[1m191/191\u001b[0m \u001b[32m━━━━━━━━━━━━━━━━━━━━\u001b[0m\u001b[37m\u001b[0m \u001b[1m1s\u001b[0m 4ms/step - accuracy: 0.9818 - loss: 0.0358 - val_accuracy: 0.6710 - val_loss: 0.9691\n",
      "Epoch 10/10\n",
      "\u001b[1m191/191\u001b[0m \u001b[32m━━━━━━━━━━━━━━━━━━━━\u001b[0m\u001b[37m\u001b[0m \u001b[1m1s\u001b[0m 4ms/step - accuracy: 0.9865 - loss: 0.0284 - val_accuracy: 0.7065 - val_loss: 0.8957\n"
     ]
    }
   ],
   "source": [
    "base_history = model_base.fit(train_pad, train_labels, epochs=10, validation_data=(val_pad, val_labels))\n",
    "\n",
    "base_metrics = pd.DataFrame(base_history.history)"
   ]
  },
  {
   "cell_type": "code",
   "execution_count": 18,
   "id": "da7bb039",
   "metadata": {
    "execution": {
     "iopub.execute_input": "2025-02-12T02:02:09.490524Z",
     "iopub.status.busy": "2025-02-12T02:02:09.490271Z",
     "iopub.status.idle": "2025-02-12T02:02:10.142098Z",
     "shell.execute_reply": "2025-02-12T02:02:10.141288Z"
    },
    "papermill": {
     "duration": 0.669752,
     "end_time": "2025-02-12T02:02:10.143545",
     "exception": false,
     "start_time": "2025-02-12T02:02:09.473793",
     "status": "completed"
    },
    "tags": []
   },
   "outputs": [
    {
     "data": {
      "text/plain": [
       "<Axes: >"
      ]
     },
     "execution_count": 18,
     "metadata": {},
     "output_type": "execute_result"
    },
    {
     "data": {
      "image/png": "[encoded data removed]",
      "text/plain": [
       "<Figure size 640x480 with 1 Axes>"
      ]
     },
     "metadata": {},
     "output_type": "display_data"
    },
    {
     "data": {
      "image/png": "[encoded data removed]",
      "text/plain": [
       "<Figure size 640x480 with 1 Axes>"
      ]
     },
     "metadata": {},
     "output_type": "display_data"
    }
   ],
   "source": [
    "base_metrics[[\"loss\",\"val_loss\"]].plot()\n",
    "base_metrics[['accuracy', 'val_accuracy']].plot()"
   ]
  },
  {
   "cell_type": "markdown",
   "id": "f3e0fa7b",
   "metadata": {
    "papermill": {
     "duration": 0.016643,
     "end_time": "2025-02-12T02:02:10.179029",
     "exception": false,
     "start_time": "2025-02-12T02:02:10.162386",
     "status": "completed"
    },
    "tags": []
   },
   "source": [
    "## Hyperparameter Tuning and Other Architectures"
   ]
  },
  {
   "cell_type": "markdown",
   "id": "a41e2acc",
   "metadata": {
    "papermill": {
     "duration": 0.01632,
     "end_time": "2025-02-12T02:02:10.212053",
     "exception": false,
     "start_time": "2025-02-12T02:02:10.195733",
     "status": "completed"
    },
    "tags": []
   },
   "source": [
    "#### The TL;DR for this section is that we're trying LSTM and GRU cells in place of the vanilla RNN. From here, we took the GRU model and tried to tune it to improve performance. After experimenting with adding dropout, as well as modifying the embedding size we actually landed on adding a few new layers to the model. The addition of another GRU as well as a Dense layer before our output helped to squeeze a little extra performance out of the model. Ultimately, all of these architectures showed signs of badly over-fitting the dataset."
   ]
  },
  {
   "cell_type": "code",
   "execution_count": 19,
   "id": "71853b97",
   "metadata": {
    "execution": {
     "iopub.execute_input": "2025-02-12T02:02:10.245978Z",
     "iopub.status.busy": "2025-02-12T02:02:10.245715Z",
     "iopub.status.idle": "2025-02-12T02:02:10.306707Z",
     "shell.execute_reply": "2025-02-12T02:02:10.306058Z"
    },
    "papermill": {
     "duration": 0.079386,
     "end_time": "2025-02-12T02:02:10.307950",
     "exception": false,
     "start_time": "2025-02-12T02:02:10.228564",
     "status": "completed"
    },
    "tags": []
   },
   "outputs": [
    {
     "data": {
      "text/html": [
       "<pre style=\"white-space:pre;overflow-x:auto;line-height:normal;font-family:Menlo,'DejaVu Sans Mono',consolas,'Courier New',monospace\"><span style=\"font-weight: bold\">Model: \"sequential_1\"</span>\n",
       "</pre>\n"
      ],
      "text/plain": [
       "\u001b[1mModel: \"sequential_1\"\u001b[0m\n"
      ]
     },
     "metadata": {},
     "output_type": "display_data"
    },
    {
     "data": {
      "text/html": [
       "<pre style=\"white-space:pre;overflow-x:auto;line-height:normal;font-family:Menlo,'DejaVu Sans Mono',consolas,'Courier New',monospace\">┏━━━━━━━━━━━━━━━━━━━━━━━━━━━━━━━━━━━━━━┳━━━━━━━━━━━━━━━━━━━━━━━━━━━━━┳━━━━━━━━━━━━━━━━━┓\n",
       "┃<span style=\"font-weight: bold\"> Layer (type)                         </span>┃<span style=\"font-weight: bold\"> Output Shape                </span>┃<span style=\"font-weight: bold\">         Param # </span>┃\n",
       "┡━━━━━━━━━━━━━━━━━━━━━━━━━━━━━━━━━━━━━━╇━━━━━━━━━━━━━━━━━━━━━━━━━━━━━╇━━━━━━━━━━━━━━━━━┩\n",
       "│ embedding_1 (<span style=\"color: #0087ff; text-decoration-color: #0087ff\">Embedding</span>)              │ (<span style=\"color: #00d7ff; text-decoration-color: #00d7ff\">None</span>, <span style=\"color: #00af00; text-decoration-color: #00af00\">25</span>, <span style=\"color: #00af00; text-decoration-color: #00af00\">32</span>)              │         <span style=\"color: #00af00; text-decoration-color: #00af00\">536,992</span> │\n",
       "├──────────────────────────────────────┼─────────────────────────────┼─────────────────┤\n",
       "│ lstm (<span style=\"color: #0087ff; text-decoration-color: #0087ff\">LSTM</span>)                          │ (<span style=\"color: #00d7ff; text-decoration-color: #00d7ff\">None</span>, <span style=\"color: #00af00; text-decoration-color: #00af00\">64</span>)                  │          <span style=\"color: #00af00; text-decoration-color: #00af00\">24,832</span> │\n",
       "├──────────────────────────────────────┼─────────────────────────────┼─────────────────┤\n",
       "│ dense_1 (<span style=\"color: #0087ff; text-decoration-color: #0087ff\">Dense</span>)                      │ (<span style=\"color: #00d7ff; text-decoration-color: #00d7ff\">None</span>, <span style=\"color: #00af00; text-decoration-color: #00af00\">1</span>)                   │              <span style=\"color: #00af00; text-decoration-color: #00af00\">65</span> │\n",
       "└──────────────────────────────────────┴─────────────────────────────┴─────────────────┘\n",
       "</pre>\n"
      ],
      "text/plain": [
       "┏━━━━━━━━━━━━━━━━━━━━━━━━━━━━━━━━━━━━━━┳━━━━━━━━━━━━━━━━━━━━━━━━━━━━━┳━━━━━━━━━━━━━━━━━┓\n",
       "┃\u001b[1m \u001b[0m\u001b[1mLayer (type)                        \u001b[0m\u001b[1m \u001b[0m┃\u001b[1m \u001b[0m\u001b[1mOutput Shape               \u001b[0m\u001b[1m \u001b[0m┃\u001b[1m \u001b[0m\u001b[1m        Param #\u001b[0m\u001b[1m \u001b[0m┃\n",
       "┡━━━━━━━━━━━━━━━━━━━━━━━━━━━━━━━━━━━━━━╇━━━━━━━━━━━━━━━━━━━━━━━━━━━━━╇━━━━━━━━━━━━━━━━━┩\n",
       "│ embedding_1 (\u001b[38;5;33mEmbedding\u001b[0m)              │ (\u001b[38;5;45mNone\u001b[0m, \u001b[38;5;34m25\u001b[0m, \u001b[38;5;34m32\u001b[0m)              │         \u001b[38;5;34m536,992\u001b[0m │\n",
       "├──────────────────────────────────────┼─────────────────────────────┼─────────────────┤\n",
       "│ lstm (\u001b[38;5;33mLSTM\u001b[0m)                          │ (\u001b[38;5;45mNone\u001b[0m, \u001b[38;5;34m64\u001b[0m)                  │          \u001b[38;5;34m24,832\u001b[0m │\n",
       "├──────────────────────────────────────┼─────────────────────────────┼─────────────────┤\n",
       "│ dense_1 (\u001b[38;5;33mDense\u001b[0m)                      │ (\u001b[38;5;45mNone\u001b[0m, \u001b[38;5;34m1\u001b[0m)                   │              \u001b[38;5;34m65\u001b[0m │\n",
       "└──────────────────────────────────────┴─────────────────────────────┴─────────────────┘\n"
      ]
     },
     "metadata": {},
     "output_type": "display_data"
    },
    {
     "data": {
      "text/html": [
       "<pre style=\"white-space:pre;overflow-x:auto;line-height:normal;font-family:Menlo,'DejaVu Sans Mono',consolas,'Courier New',monospace\"><span style=\"font-weight: bold\"> Total params: </span><span style=\"color: #00af00; text-decoration-color: #00af00\">561,889</span> (2.14 MB)\n",
       "</pre>\n"
      ],
      "text/plain": [
       "\u001b[1m Total params: \u001b[0m\u001b[38;5;34m561,889\u001b[0m (2.14 MB)\n"
      ]
     },
     "metadata": {},
     "output_type": "display_data"
    },
    {
     "data": {
      "text/html": [
       "<pre style=\"white-space:pre;overflow-x:auto;line-height:normal;font-family:Menlo,'DejaVu Sans Mono',consolas,'Courier New',monospace\"><span style=\"font-weight: bold\"> Trainable params: </span><span style=\"color: #00af00; text-decoration-color: #00af00\">561,889</span> (2.14 MB)\n",
       "</pre>\n"
      ],
      "text/plain": [
       "\u001b[1m Trainable params: \u001b[0m\u001b[38;5;34m561,889\u001b[0m (2.14 MB)\n"
      ]
     },
     "metadata": {},
     "output_type": "display_data"
    },
    {
     "data": {
      "text/html": [
       "<pre style=\"white-space:pre;overflow-x:auto;line-height:normal;font-family:Menlo,'DejaVu Sans Mono',consolas,'Courier New',monospace\"><span style=\"font-weight: bold\"> Non-trainable params: </span><span style=\"color: #00af00; text-decoration-color: #00af00\">0</span> (0.00 B)\n",
       "</pre>\n"
      ],
      "text/plain": [
       "\u001b[1m Non-trainable params: \u001b[0m\u001b[38;5;34m0\u001b[0m (0.00 B)\n"
      ]
     },
     "metadata": {},
     "output_type": "display_data"
    }
   ],
   "source": [
    "model_lstm_base = Sequential([\n",
    "    InputLayer((max_words,)),\n",
    "    # Layer one\n",
    "    Embedding(word_count, 32, input_length=max_words),\n",
    "\n",
    "    # Layer two\n",
    "    LSTM(units=64),\n",
    "\n",
    "    # Output\n",
    "    Dense(1, activation='sigmoid')\n",
    "])\n",
    "learning_rate = 0.0001\n",
    "opt = keras.optimizers.Adam(learning_rate = learning_rate)\n",
    "\n",
    "model_lstm_base.compile(optimizer = opt,\n",
    "              loss=tf.keras.losses.BinaryCrossentropy(from_logits=True),\n",
    "              metrics = ['accuracy'])\n",
    "\n",
    "model_lstm_base.build()\n",
    "model_lstm_base.summary()"
   ]
  },
  {
   "cell_type": "code",
   "execution_count": 20,
   "id": "5a0c97b7",
   "metadata": {
    "execution": {
     "iopub.execute_input": "2025-02-12T02:02:10.343429Z",
     "iopub.status.busy": "2025-02-12T02:02:10.343194Z",
     "iopub.status.idle": "2025-02-12T02:02:16.453174Z",
     "shell.execute_reply": "2025-02-12T02:02:16.452457Z"
    },
    "papermill": {
     "duration": 6.129005,
     "end_time": "2025-02-12T02:02:16.454475",
     "exception": false,
     "start_time": "2025-02-12T02:02:10.325470",
     "status": "completed"
    },
    "tags": []
   },
   "outputs": [
    {
     "name": "stdout",
     "output_type": "stream",
     "text": [
      "Epoch 1/3\n",
      "\u001b[1m191/191\u001b[0m \u001b[32m━━━━━━━━━━━━━━━━━━━━\u001b[0m\u001b[37m\u001b[0m \u001b[1m4s\u001b[0m 6ms/step - accuracy: 0.5715 - loss: 0.6871 - val_accuracy: 0.5627 - val_loss: 0.6838\n",
      "Epoch 2/3\n",
      "\u001b[1m191/191\u001b[0m \u001b[32m━━━━━━━━━━━━━━━━━━━━\u001b[0m\u001b[37m\u001b[0m \u001b[1m1s\u001b[0m 5ms/step - accuracy: 0.5918 - loss: 0.6635 - val_accuracy: 0.7827 - val_loss: 0.5164\n",
      "Epoch 3/3\n",
      "\u001b[1m191/191\u001b[0m \u001b[32m━━━━━━━━━━━━━━━━━━━━\u001b[0m\u001b[37m\u001b[0m \u001b[1m1s\u001b[0m 5ms/step - accuracy: 0.8322 - loss: 0.4080 - val_accuracy: 0.7984 - val_loss: 0.4694\n"
     ]
    }
   ],
   "source": [
    "lstm_base_history = model_lstm_base.fit(train_pad, train_labels, epochs=3, validation_data=(val_pad, val_labels)) # initial testing showed epoch 3 had the best validation accuracy\n",
    "\n",
    "lstm_base_metrics = pd.DataFrame(lstm_base_history.history)"
   ]
  },
  {
   "cell_type": "code",
   "execution_count": 21,
   "id": "0bdba5cf",
   "metadata": {
    "execution": {
     "iopub.execute_input": "2025-02-12T02:02:16.495334Z",
     "iopub.status.busy": "2025-02-12T02:02:16.495086Z",
     "iopub.status.idle": "2025-02-12T02:02:16.881628Z",
     "shell.execute_reply": "2025-02-12T02:02:16.880710Z"
    },
    "papermill": {
     "duration": 0.408362,
     "end_time": "2025-02-12T02:02:16.883099",
     "exception": false,
     "start_time": "2025-02-12T02:02:16.474737",
     "status": "completed"
    },
    "tags": []
   },
   "outputs": [
    {
     "data": {
      "text/plain": [
       "<Axes: >"
      ]
     },
     "execution_count": 21,
     "metadata": {},
     "output_type": "execute_result"
    },
    {
     "data": {
      "image/png": "[encoded data removed]",
      "text/plain": [
       "<Figure size 640x480 with 1 Axes>"
      ]
     },
     "metadata": {},
     "output_type": "display_data"
    },
    {
     "data": {
      "image/png": "[encoded data removed]",
      "text/plain": [
       "<Figure size 640x480 with 1 Axes>"
      ]
     },
     "metadata": {},
     "output_type": "display_data"
    }
   ],
   "source": [
    "lstm_base_metrics[[\"loss\",\"val_loss\"]].plot()\n",
    "lstm_base_metrics[['accuracy', 'val_accuracy']].plot()"
   ]
  },
  {
   "cell_type": "code",
   "execution_count": 22,
   "id": "da4dfb07",
   "metadata": {
    "execution": {
     "iopub.execute_input": "2025-02-12T02:02:16.926300Z",
     "iopub.status.busy": "2025-02-12T02:02:16.926009Z",
     "iopub.status.idle": "2025-02-12T02:02:16.972466Z",
     "shell.execute_reply": "2025-02-12T02:02:16.971641Z"
    },
    "papermill": {
     "duration": 0.069106,
     "end_time": "2025-02-12T02:02:16.973699",
     "exception": false,
     "start_time": "2025-02-12T02:02:16.904593",
     "status": "completed"
    },
    "tags": []
   },
   "outputs": [
    {
     "data": {
      "text/html": [
       "<pre style=\"white-space:pre;overflow-x:auto;line-height:normal;font-family:Menlo,'DejaVu Sans Mono',consolas,'Courier New',monospace\"><span style=\"font-weight: bold\">Model: \"sequential_2\"</span>\n",
       "</pre>\n"
      ],
      "text/plain": [
       "\u001b[1mModel: \"sequential_2\"\u001b[0m\n"
      ]
     },
     "metadata": {},
     "output_type": "display_data"
    },
    {
     "data": {
      "text/html": [
       "<pre style=\"white-space:pre;overflow-x:auto;line-height:normal;font-family:Menlo,'DejaVu Sans Mono',consolas,'Courier New',monospace\">┏━━━━━━━━━━━━━━━━━━━━━━━━━━━━━━━━━━━━━━┳━━━━━━━━━━━━━━━━━━━━━━━━━━━━━┳━━━━━━━━━━━━━━━━━┓\n",
       "┃<span style=\"font-weight: bold\"> Layer (type)                         </span>┃<span style=\"font-weight: bold\"> Output Shape                </span>┃<span style=\"font-weight: bold\">         Param # </span>┃\n",
       "┡━━━━━━━━━━━━━━━━━━━━━━━━━━━━━━━━━━━━━━╇━━━━━━━━━━━━━━━━━━━━━━━━━━━━━╇━━━━━━━━━━━━━━━━━┩\n",
       "│ embedding_2 (<span style=\"color: #0087ff; text-decoration-color: #0087ff\">Embedding</span>)              │ (<span style=\"color: #00d7ff; text-decoration-color: #00d7ff\">None</span>, <span style=\"color: #00af00; text-decoration-color: #00af00\">25</span>, <span style=\"color: #00af00; text-decoration-color: #00af00\">32</span>)              │         <span style=\"color: #00af00; text-decoration-color: #00af00\">536,992</span> │\n",
       "├──────────────────────────────────────┼─────────────────────────────┼─────────────────┤\n",
       "│ gru (<span style=\"color: #0087ff; text-decoration-color: #0087ff\">GRU</span>)                            │ (<span style=\"color: #00d7ff; text-decoration-color: #00d7ff\">None</span>, <span style=\"color: #00af00; text-decoration-color: #00af00\">64</span>)                  │          <span style=\"color: #00af00; text-decoration-color: #00af00\">18,816</span> │\n",
       "├──────────────────────────────────────┼─────────────────────────────┼─────────────────┤\n",
       "│ dense_2 (<span style=\"color: #0087ff; text-decoration-color: #0087ff\">Dense</span>)                      │ (<span style=\"color: #00d7ff; text-decoration-color: #00d7ff\">None</span>, <span style=\"color: #00af00; text-decoration-color: #00af00\">1</span>)                   │              <span style=\"color: #00af00; text-decoration-color: #00af00\">65</span> │\n",
       "└──────────────────────────────────────┴─────────────────────────────┴─────────────────┘\n",
       "</pre>\n"
      ],
      "text/plain": [
       "┏━━━━━━━━━━━━━━━━━━━━━━━━━━━━━━━━━━━━━━┳━━━━━━━━━━━━━━━━━━━━━━━━━━━━━┳━━━━━━━━━━━━━━━━━┓\n",
       "┃\u001b[1m \u001b[0m\u001b[1mLayer (type)                        \u001b[0m\u001b[1m \u001b[0m┃\u001b[1m \u001b[0m\u001b[1mOutput Shape               \u001b[0m\u001b[1m \u001b[0m┃\u001b[1m \u001b[0m\u001b[1m        Param #\u001b[0m\u001b[1m \u001b[0m┃\n",
       "┡━━━━━━━━━━━━━━━━━━━━━━━━━━━━━━━━━━━━━━╇━━━━━━━━━━━━━━━━━━━━━━━━━━━━━╇━━━━━━━━━━━━━━━━━┩\n",
       "│ embedding_2 (\u001b[38;5;33mEmbedding\u001b[0m)              │ (\u001b[38;5;45mNone\u001b[0m, \u001b[38;5;34m25\u001b[0m, \u001b[38;5;34m32\u001b[0m)              │         \u001b[38;5;34m536,992\u001b[0m │\n",
       "├──────────────────────────────────────┼─────────────────────────────┼─────────────────┤\n",
       "│ gru (\u001b[38;5;33mGRU\u001b[0m)                            │ (\u001b[38;5;45mNone\u001b[0m, \u001b[38;5;34m64\u001b[0m)                  │          \u001b[38;5;34m18,816\u001b[0m │\n",
       "├──────────────────────────────────────┼─────────────────────────────┼─────────────────┤\n",
       "│ dense_2 (\u001b[38;5;33mDense\u001b[0m)                      │ (\u001b[38;5;45mNone\u001b[0m, \u001b[38;5;34m1\u001b[0m)                   │              \u001b[38;5;34m65\u001b[0m │\n",
       "└──────────────────────────────────────┴─────────────────────────────┴─────────────────┘\n"
      ]
     },
     "metadata": {},
     "output_type": "display_data"
    },
    {
     "data": {
      "text/html": [
       "<pre style=\"white-space:pre;overflow-x:auto;line-height:normal;font-family:Menlo,'DejaVu Sans Mono',consolas,'Courier New',monospace\"><span style=\"font-weight: bold\"> Total params: </span><span style=\"color: #00af00; text-decoration-color: #00af00\">555,873</span> (2.12 MB)\n",
       "</pre>\n"
      ],
      "text/plain": [
       "\u001b[1m Total params: \u001b[0m\u001b[38;5;34m555,873\u001b[0m (2.12 MB)\n"
      ]
     },
     "metadata": {},
     "output_type": "display_data"
    },
    {
     "data": {
      "text/html": [
       "<pre style=\"white-space:pre;overflow-x:auto;line-height:normal;font-family:Menlo,'DejaVu Sans Mono',consolas,'Courier New',monospace\"><span style=\"font-weight: bold\"> Trainable params: </span><span style=\"color: #00af00; text-decoration-color: #00af00\">555,873</span> (2.12 MB)\n",
       "</pre>\n"
      ],
      "text/plain": [
       "\u001b[1m Trainable params: \u001b[0m\u001b[38;5;34m555,873\u001b[0m (2.12 MB)\n"
      ]
     },
     "metadata": {},
     "output_type": "display_data"
    },
    {
     "data": {
      "text/html": [
       "<pre style=\"white-space:pre;overflow-x:auto;line-height:normal;font-family:Menlo,'DejaVu Sans Mono',consolas,'Courier New',monospace\"><span style=\"font-weight: bold\"> Non-trainable params: </span><span style=\"color: #00af00; text-decoration-color: #00af00\">0</span> (0.00 B)\n",
       "</pre>\n"
      ],
      "text/plain": [
       "\u001b[1m Non-trainable params: \u001b[0m\u001b[38;5;34m0\u001b[0m (0.00 B)\n"
      ]
     },
     "metadata": {},
     "output_type": "display_data"
    }
   ],
   "source": [
    "model_gru_base = Sequential([\n",
    "    InputLayer((max_words,)),\n",
    "    # Layer one\n",
    "    Embedding(word_count, 32, input_length=max_words),\n",
    "\n",
    "    # Layer two\n",
    "    GRU(units=64),\n",
    "\n",
    "    # Output\n",
    "    Dense(1, activation='sigmoid')\n",
    "])\n",
    "learning_rate = 0.0001\n",
    "opt = keras.optimizers.Adam(learning_rate = learning_rate)\n",
    "\n",
    "model_gru_base.compile(optimizer = opt,\n",
    "              loss=tf.keras.losses.BinaryCrossentropy(from_logits=True),\n",
    "              metrics = ['accuracy'])\n",
    "\n",
    "model_gru_base.build()\n",
    "model_gru_base.summary()"
   ]
  },
  {
   "cell_type": "code",
   "execution_count": 23,
   "id": "956e75e9",
   "metadata": {
    "execution": {
     "iopub.execute_input": "2025-02-12T02:02:17.019035Z",
     "iopub.status.busy": "2025-02-12T02:02:17.018758Z",
     "iopub.status.idle": "2025-02-12T02:02:24.709941Z",
     "shell.execute_reply": "2025-02-12T02:02:24.709077Z"
    },
    "papermill": {
     "duration": 7.714829,
     "end_time": "2025-02-12T02:02:24.711402",
     "exception": false,
     "start_time": "2025-02-12T02:02:16.996573",
     "status": "completed"
    },
    "tags": []
   },
   "outputs": [
    {
     "name": "stdout",
     "output_type": "stream",
     "text": [
      "Epoch 1/7\n",
      "\u001b[1m191/191\u001b[0m \u001b[32m━━━━━━━━━━━━━━━━━━━━\u001b[0m\u001b[37m\u001b[0m \u001b[1m2s\u001b[0m 6ms/step - accuracy: 0.5890 - loss: 0.6866 - val_accuracy: 0.5627 - val_loss: 0.6853\n",
      "Epoch 2/7\n",
      "\u001b[1m191/191\u001b[0m \u001b[32m━━━━━━━━━━━━━━━━━━━━\u001b[0m\u001b[37m\u001b[0m \u001b[1m1s\u001b[0m 5ms/step - accuracy: 0.5654 - loss: 0.6846 - val_accuracy: 0.5627 - val_loss: 0.6856\n",
      "Epoch 3/7\n",
      "\u001b[1m191/191\u001b[0m \u001b[32m━━━━━━━━━━━━━━━━━━━━\u001b[0m\u001b[37m\u001b[0m \u001b[1m1s\u001b[0m 5ms/step - accuracy: 0.5804 - loss: 0.6803 - val_accuracy: 0.5627 - val_loss: 0.6852\n",
      "Epoch 4/7\n",
      "\u001b[1m191/191\u001b[0m \u001b[32m━━━━━━━━━━━━━━━━━━━━\u001b[0m\u001b[37m\u001b[0m \u001b[1m1s\u001b[0m 5ms/step - accuracy: 0.5771 - loss: 0.6814 - val_accuracy: 0.5627 - val_loss: 0.6852\n",
      "Epoch 5/7\n",
      "\u001b[1m191/191\u001b[0m \u001b[32m━━━━━━━━━━━━━━━━━━━━\u001b[0m\u001b[37m\u001b[0m \u001b[1m1s\u001b[0m 5ms/step - accuracy: 0.5703 - loss: 0.6830 - val_accuracy: 0.5627 - val_loss: 0.6815\n",
      "Epoch 6/7\n",
      "\u001b[1m191/191\u001b[0m \u001b[32m━━━━━━━━━━━━━━━━━━━━\u001b[0m\u001b[37m\u001b[0m \u001b[1m1s\u001b[0m 5ms/step - accuracy: 0.7005 - loss: 0.5641 - val_accuracy: 0.7925 - val_loss: 0.4549\n",
      "Epoch 7/7\n",
      "\u001b[1m191/191\u001b[0m \u001b[32m━━━━━━━━━━━━━━━━━━━━\u001b[0m\u001b[37m\u001b[0m \u001b[1m1s\u001b[0m 5ms/step - accuracy: 0.8617 - loss: 0.3317 - val_accuracy: 0.8011 - val_loss: 0.4634\n"
     ]
    }
   ],
   "source": [
    "gru_base_history = model_gru_base.fit(train_pad, train_labels, epochs=7, validation_data=(val_pad, val_labels)) # initial testing showed epoch 7 had the best validation accuracy\n",
    "\n",
    "gru_base_metrics = pd.DataFrame(gru_base_history.history)"
   ]
  },
  {
   "cell_type": "code",
   "execution_count": 24,
   "id": "51b259ce",
   "metadata": {
    "execution": {
     "iopub.execute_input": "2025-02-12T02:02:24.806494Z",
     "iopub.status.busy": "2025-02-12T02:02:24.806167Z",
     "iopub.status.idle": "2025-02-12T02:02:25.185565Z",
     "shell.execute_reply": "2025-02-12T02:02:25.184633Z"
    },
    "papermill": {
     "duration": 0.447747,
     "end_time": "2025-02-12T02:02:25.186894",
     "exception": false,
     "start_time": "2025-02-12T02:02:24.739147",
     "status": "completed"
    },
    "tags": []
   },
   "outputs": [
    {
     "data": {
      "text/plain": [
       "<Axes: >"
      ]
     },
     "execution_count": 24,
     "metadata": {},
     "output_type": "execute_result"
    },
    {
     "data": {
      "image/png": "[encoded data removed]",
      "text/plain": [
       "<Figure size 640x480 with 1 Axes>"
      ]
     },
     "metadata": {},
     "output_type": "display_data"
    },
    {
     "data": {
      "image/png": "[encoded data removed]",
      "text/plain": [
       "<Figure size 640x480 with 1 Axes>"
      ]
     },
     "metadata": {},
     "output_type": "display_data"
    }
   ],
   "source": [
    "gru_base_metrics[[\"loss\",\"val_loss\"]].plot()\n",
    "gru_base_metrics[['accuracy', 'val_accuracy']].plot()"
   ]
  },
  {
   "cell_type": "code",
   "execution_count": 25,
   "id": "cdbfebff",
   "metadata": {
    "execution": {
     "iopub.execute_input": "2025-02-12T02:02:25.243029Z",
     "iopub.status.busy": "2025-02-12T02:02:25.242750Z",
     "iopub.status.idle": "2025-02-12T02:02:25.308480Z",
     "shell.execute_reply": "2025-02-12T02:02:25.307654Z"
    },
    "papermill": {
     "duration": 0.094578,
     "end_time": "2025-02-12T02:02:25.309763",
     "exception": false,
     "start_time": "2025-02-12T02:02:25.215185",
     "status": "completed"
    },
    "tags": []
   },
   "outputs": [
    {
     "data": {
      "text/html": [
       "<pre style=\"white-space:pre;overflow-x:auto;line-height:normal;font-family:Menlo,'DejaVu Sans Mono',consolas,'Courier New',monospace\"><span style=\"font-weight: bold\">Model: \"sequential_3\"</span>\n",
       "</pre>\n"
      ],
      "text/plain": [
       "\u001b[1mModel: \"sequential_3\"\u001b[0m\n"
      ]
     },
     "metadata": {},
     "output_type": "display_data"
    },
    {
     "data": {
      "text/html": [
       "<pre style=\"white-space:pre;overflow-x:auto;line-height:normal;font-family:Menlo,'DejaVu Sans Mono',consolas,'Courier New',monospace\">┏━━━━━━━━━━━━━━━━━━━━━━━━━━━━━━━━━━━━━━┳━━━━━━━━━━━━━━━━━━━━━━━━━━━━━┳━━━━━━━━━━━━━━━━━┓\n",
       "┃<span style=\"font-weight: bold\"> Layer (type)                         </span>┃<span style=\"font-weight: bold\"> Output Shape                </span>┃<span style=\"font-weight: bold\">         Param # </span>┃\n",
       "┡━━━━━━━━━━━━━━━━━━━━━━━━━━━━━━━━━━━━━━╇━━━━━━━━━━━━━━━━━━━━━━━━━━━━━╇━━━━━━━━━━━━━━━━━┩\n",
       "│ embedding_3 (<span style=\"color: #0087ff; text-decoration-color: #0087ff\">Embedding</span>)              │ (<span style=\"color: #00d7ff; text-decoration-color: #00d7ff\">None</span>, <span style=\"color: #00af00; text-decoration-color: #00af00\">25</span>, <span style=\"color: #00af00; text-decoration-color: #00af00\">32</span>)              │         <span style=\"color: #00af00; text-decoration-color: #00af00\">536,992</span> │\n",
       "├──────────────────────────────────────┼─────────────────────────────┼─────────────────┤\n",
       "│ gru_1 (<span style=\"color: #0087ff; text-decoration-color: #0087ff\">GRU</span>)                          │ (<span style=\"color: #00d7ff; text-decoration-color: #00d7ff\">None</span>, <span style=\"color: #00af00; text-decoration-color: #00af00\">25</span>, <span style=\"color: #00af00; text-decoration-color: #00af00\">64</span>)              │          <span style=\"color: #00af00; text-decoration-color: #00af00\">18,816</span> │\n",
       "├──────────────────────────────────────┼─────────────────────────────┼─────────────────┤\n",
       "│ gru_2 (<span style=\"color: #0087ff; text-decoration-color: #0087ff\">GRU</span>)                          │ (<span style=\"color: #00d7ff; text-decoration-color: #00d7ff\">None</span>, <span style=\"color: #00af00; text-decoration-color: #00af00\">32</span>)                  │           <span style=\"color: #00af00; text-decoration-color: #00af00\">9,408</span> │\n",
       "├──────────────────────────────────────┼─────────────────────────────┼─────────────────┤\n",
       "│ dense_3 (<span style=\"color: #0087ff; text-decoration-color: #0087ff\">Dense</span>)                      │ (<span style=\"color: #00d7ff; text-decoration-color: #00d7ff\">None</span>, <span style=\"color: #00af00; text-decoration-color: #00af00\">32</span>)                  │           <span style=\"color: #00af00; text-decoration-color: #00af00\">1,056</span> │\n",
       "├──────────────────────────────────────┼─────────────────────────────┼─────────────────┤\n",
       "│ dense_4 (<span style=\"color: #0087ff; text-decoration-color: #0087ff\">Dense</span>)                      │ (<span style=\"color: #00d7ff; text-decoration-color: #00d7ff\">None</span>, <span style=\"color: #00af00; text-decoration-color: #00af00\">1</span>)                   │              <span style=\"color: #00af00; text-decoration-color: #00af00\">33</span> │\n",
       "└──────────────────────────────────────┴─────────────────────────────┴─────────────────┘\n",
       "</pre>\n"
      ],
      "text/plain": [
       "┏━━━━━━━━━━━━━━━━━━━━━━━━━━━━━━━━━━━━━━┳━━━━━━━━━━━━━━━━━━━━━━━━━━━━━┳━━━━━━━━━━━━━━━━━┓\n",
       "┃\u001b[1m \u001b[0m\u001b[1mLayer (type)                        \u001b[0m\u001b[1m \u001b[0m┃\u001b[1m \u001b[0m\u001b[1mOutput Shape               \u001b[0m\u001b[1m \u001b[0m┃\u001b[1m \u001b[0m\u001b[1m        Param #\u001b[0m\u001b[1m \u001b[0m┃\n",
       "┡━━━━━━━━━━━━━━━━━━━━━━━━━━━━━━━━━━━━━━╇━━━━━━━━━━━━━━━━━━━━━━━━━━━━━╇━━━━━━━━━━━━━━━━━┩\n",
       "│ embedding_3 (\u001b[38;5;33mEmbedding\u001b[0m)              │ (\u001b[38;5;45mNone\u001b[0m, \u001b[38;5;34m25\u001b[0m, \u001b[38;5;34m32\u001b[0m)              │         \u001b[38;5;34m536,992\u001b[0m │\n",
       "├──────────────────────────────────────┼─────────────────────────────┼─────────────────┤\n",
       "│ gru_1 (\u001b[38;5;33mGRU\u001b[0m)                          │ (\u001b[38;5;45mNone\u001b[0m, \u001b[38;5;34m25\u001b[0m, \u001b[38;5;34m64\u001b[0m)              │          \u001b[38;5;34m18,816\u001b[0m │\n",
       "├──────────────────────────────────────┼─────────────────────────────┼─────────────────┤\n",
       "│ gru_2 (\u001b[38;5;33mGRU\u001b[0m)                          │ (\u001b[38;5;45mNone\u001b[0m, \u001b[38;5;34m32\u001b[0m)                  │           \u001b[38;5;34m9,408\u001b[0m │\n",
       "├──────────────────────────────────────┼─────────────────────────────┼─────────────────┤\n",
       "│ dense_3 (\u001b[38;5;33mDense\u001b[0m)                      │ (\u001b[38;5;45mNone\u001b[0m, \u001b[38;5;34m32\u001b[0m)                  │           \u001b[38;5;34m1,056\u001b[0m │\n",
       "├──────────────────────────────────────┼─────────────────────────────┼─────────────────┤\n",
       "│ dense_4 (\u001b[38;5;33mDense\u001b[0m)                      │ (\u001b[38;5;45mNone\u001b[0m, \u001b[38;5;34m1\u001b[0m)                   │              \u001b[38;5;34m33\u001b[0m │\n",
       "└──────────────────────────────────────┴─────────────────────────────┴─────────────────┘\n"
      ]
     },
     "metadata": {},
     "output_type": "display_data"
    },
    {
     "data": {
      "text/html": [
       "<pre style=\"white-space:pre;overflow-x:auto;line-height:normal;font-family:Menlo,'DejaVu Sans Mono',consolas,'Courier New',monospace\"><span style=\"font-weight: bold\"> Total params: </span><span style=\"color: #00af00; text-decoration-color: #00af00\">566,305</span> (2.16 MB)\n",
       "</pre>\n"
      ],
      "text/plain": [
       "\u001b[1m Total params: \u001b[0m\u001b[38;5;34m566,305\u001b[0m (2.16 MB)\n"
      ]
     },
     "metadata": {},
     "output_type": "display_data"
    },
    {
     "data": {
      "text/html": [
       "<pre style=\"white-space:pre;overflow-x:auto;line-height:normal;font-family:Menlo,'DejaVu Sans Mono',consolas,'Courier New',monospace\"><span style=\"font-weight: bold\"> Trainable params: </span><span style=\"color: #00af00; text-decoration-color: #00af00\">566,305</span> (2.16 MB)\n",
       "</pre>\n"
      ],
      "text/plain": [
       "\u001b[1m Trainable params: \u001b[0m\u001b[38;5;34m566,305\u001b[0m (2.16 MB)\n"
      ]
     },
     "metadata": {},
     "output_type": "display_data"
    },
    {
     "data": {
      "text/html": [
       "<pre style=\"white-space:pre;overflow-x:auto;line-height:normal;font-family:Menlo,'DejaVu Sans Mono',consolas,'Courier New',monospace\"><span style=\"font-weight: bold\"> Non-trainable params: </span><span style=\"color: #00af00; text-decoration-color: #00af00\">0</span> (0.00 B)\n",
       "</pre>\n"
      ],
      "text/plain": [
       "\u001b[1m Non-trainable params: \u001b[0m\u001b[38;5;34m0\u001b[0m (0.00 B)\n"
      ]
     },
     "metadata": {},
     "output_type": "display_data"
    }
   ],
   "source": [
    "model_gru_tuned = Sequential([\n",
    "    InputLayer((max_words,)),\n",
    "    # Layer one\n",
    "    Embedding(word_count, 32, input_length=max_words),\n",
    "\n",
    "    # Layer two\n",
    "    GRU(units=64, return_sequences=True), #dropout=0.3, recurrent_dropout=0.3, seed=4022, return_sequences=True),\n",
    "    GRU(units=32), # dropout=0.3, recurrent_dropout=0.3, seed=4022),\n",
    "\n",
    "    # Output\n",
    "    Dense(32, activation='relu'),\n",
    "    Dense(1, activation='sigmoid')\n",
    "])\n",
    "learning_rate = 0.0001\n",
    "opt = keras.optimizers.Adam(learning_rate = learning_rate)\n",
    "\n",
    "model_gru_tuned.compile(optimizer = opt,\n",
    "              loss=tf.keras.losses.BinaryCrossentropy(from_logits=True),\n",
    "              metrics = ['accuracy'])\n",
    "\n",
    "model_gru_tuned.build()\n",
    "model_gru_tuned.summary()"
   ]
  },
  {
   "cell_type": "code",
   "execution_count": 26,
   "id": "00cb9600",
   "metadata": {
    "execution": {
     "iopub.execute_input": "2025-02-12T02:02:25.366690Z",
     "iopub.status.busy": "2025-02-12T02:02:25.366456Z",
     "iopub.status.idle": "2025-02-12T02:02:35.201094Z",
     "shell.execute_reply": "2025-02-12T02:02:35.200385Z"
    },
    "papermill": {
     "duration": 9.86444,
     "end_time": "2025-02-12T02:02:35.202447",
     "exception": false,
     "start_time": "2025-02-12T02:02:25.338007",
     "status": "completed"
    },
    "tags": []
   },
   "outputs": [
    {
     "name": "stdout",
     "output_type": "stream",
     "text": [
      "Epoch 1/6\n",
      "\u001b[1m191/191\u001b[0m \u001b[32m━━━━━━━━━━━━━━━━━━━━\u001b[0m\u001b[37m\u001b[0m \u001b[1m4s\u001b[0m 9ms/step - accuracy: 0.5764 - loss: 0.6888 - val_accuracy: 0.5627 - val_loss: 0.6853\n",
      "Epoch 2/6\n",
      "\u001b[1m191/191\u001b[0m \u001b[32m━━━━━━━━━━━━━━━━━━━━\u001b[0m\u001b[37m\u001b[0m \u001b[1m1s\u001b[0m 6ms/step - accuracy: 0.5768 - loss: 0.6819 - val_accuracy: 0.5627 - val_loss: 0.6853\n",
      "Epoch 3/6\n",
      "\u001b[1m191/191\u001b[0m \u001b[32m━━━━━━━━━━━━━━━━━━━━\u001b[0m\u001b[37m\u001b[0m \u001b[1m1s\u001b[0m 6ms/step - accuracy: 0.5707 - loss: 0.6831 - val_accuracy: 0.5627 - val_loss: 0.6854\n",
      "Epoch 4/6\n",
      "\u001b[1m191/191\u001b[0m \u001b[32m━━━━━━━━━━━━━━━━━━━━\u001b[0m\u001b[37m\u001b[0m \u001b[1m1s\u001b[0m 7ms/step - accuracy: 0.5642 - loss: 0.6846 - val_accuracy: 0.5627 - val_loss: 0.6840\n",
      "Epoch 5/6\n",
      "\u001b[1m191/191\u001b[0m \u001b[32m━━━━━━━━━━━━━━━━━━━━\u001b[0m\u001b[37m\u001b[0m \u001b[1m1s\u001b[0m 6ms/step - accuracy: 0.6235 - loss: 0.6317 - val_accuracy: 0.7938 - val_loss: 0.4673\n",
      "Epoch 6/6\n",
      "\u001b[1m191/191\u001b[0m \u001b[32m━━━━━━━━━━━━━━━━━━━━\u001b[0m\u001b[37m\u001b[0m \u001b[1m1s\u001b[0m 6ms/step - accuracy: 0.8630 - loss: 0.3377 - val_accuracy: 0.7945 - val_loss: 0.4856\n"
     ]
    }
   ],
   "source": [
    "gru_tuned_history = model_gru_tuned.fit(train_pad, train_labels, epochs=6, validation_data=(val_pad, val_labels)) # initial testing showed epoch 6 had the best validation accuracy\n",
    "\n",
    "gru_tuned_metrics = pd.DataFrame(gru_tuned_history.history)"
   ]
  },
  {
   "cell_type": "code",
   "execution_count": 27,
   "id": "7cc78540",
   "metadata": {
    "execution": {
     "iopub.execute_input": "2025-02-12T02:02:35.273600Z",
     "iopub.status.busy": "2025-02-12T02:02:35.273359Z",
     "iopub.status.idle": "2025-02-12T02:02:35.627275Z",
     "shell.execute_reply": "2025-02-12T02:02:35.626363Z"
    },
    "papermill": {
     "duration": 0.390093,
     "end_time": "2025-02-12T02:02:35.628546",
     "exception": false,
     "start_time": "2025-02-12T02:02:35.238453",
     "status": "completed"
    },
    "tags": []
   },
   "outputs": [
    {
     "data": {
      "text/plain": [
       "<Axes: >"
      ]
     },
     "execution_count": 27,
     "metadata": {},
     "output_type": "execute_result"
    },
    {
     "data": {
      "image/png": "[encoded data removed]",
      "text/plain": [
       "<Figure size 640x480 with 1 Axes>"
      ]
     },
     "metadata": {},
     "output_type": "display_data"
    },
    {
     "data": {
      "image/png": "[encoded data removed]",
      "text/plain": [
       "<Figure size 640x480 with 1 Axes>"
      ]
     },
     "metadata": {},
     "output_type": "display_data"
    }
   ],
   "source": [
    "gru_tuned_metrics[[\"loss\",\"val_loss\"]].plot()\n",
    "gru_tuned_metrics[['accuracy', 'val_accuracy']].plot()"
   ]
  },
  {
   "cell_type": "markdown",
   "id": "1a006eef",
   "metadata": {
    "papermill": {
     "duration": 0.035527,
     "end_time": "2025-02-12T02:02:35.700238",
     "exception": false,
     "start_time": "2025-02-12T02:02:35.664711",
     "status": "completed"
    },
    "tags": []
   },
   "source": [
    "# Submissions and Results"
   ]
  },
  {
   "cell_type": "code",
   "execution_count": 28,
   "id": "f6faa460",
   "metadata": {
    "execution": {
     "iopub.execute_input": "2025-02-12T02:02:35.771855Z",
     "iopub.status.busy": "2025-02-12T02:02:35.771582Z",
     "iopub.status.idle": "2025-02-12T02:02:35.946593Z",
     "shell.execute_reply": "2025-02-12T02:02:35.945864Z"
    },
    "papermill": {
     "duration": 0.212665,
     "end_time": "2025-02-12T02:02:35.948173",
     "exception": false,
     "start_time": "2025-02-12T02:02:35.735508",
     "status": "completed"
    },
    "tags": []
   },
   "outputs": [],
   "source": [
    "clean_and_prep_text(test_raw)\n",
    "test_text = test_raw.lemmas.to_numpy()\n",
    "test_sequences = tokenizer.texts_to_sequences(test_text)\n",
    "test_padded = pad_sequences(test_sequences, max_words, padding='post', truncating='post')\n",
    "ids = test_raw.id"
   ]
  },
  {
   "cell_type": "code",
   "execution_count": 29,
   "id": "cc95c98e",
   "metadata": {
    "execution": {
     "iopub.execute_input": "2025-02-12T02:02:36.021451Z",
     "iopub.status.busy": "2025-02-12T02:02:36.021099Z",
     "iopub.status.idle": "2025-02-12T02:02:36.619374Z",
     "shell.execute_reply": "2025-02-12T02:02:36.618639Z"
    },
    "papermill": {
     "duration": 0.636405,
     "end_time": "2025-02-12T02:02:36.620871",
     "exception": false,
     "start_time": "2025-02-12T02:02:35.984466",
     "status": "completed"
    },
    "tags": []
   },
   "outputs": [
    {
     "name": "stdout",
     "output_type": "stream",
     "text": [
      "\u001b[1m102/102\u001b[0m \u001b[32m━━━━━━━━━━━━━━━━━━━━\u001b[0m\u001b[37m\u001b[0m \u001b[1m0s\u001b[0m 3ms/step\n"
     ]
    }
   ],
   "source": [
    "predictions = model_gru_tuned.predict(test_padded)\n",
    "predictions = [1 if p > 0.5 else 0 for p in predictions]"
   ]
  },
  {
   "cell_type": "code",
   "execution_count": 30,
   "id": "33a4ec17",
   "metadata": {
    "execution": {
     "iopub.execute_input": "2025-02-12T02:02:36.694557Z",
     "iopub.status.busy": "2025-02-12T02:02:36.694299Z",
     "iopub.status.idle": "2025-02-12T02:02:36.698743Z",
     "shell.execute_reply": "2025-02-12T02:02:36.698072Z"
    },
    "papermill": {
     "duration": 0.042216,
     "end_time": "2025-02-12T02:02:36.699815",
     "exception": false,
     "start_time": "2025-02-12T02:02:36.657599",
     "status": "completed"
    },
    "tags": []
   },
   "outputs": [],
   "source": [
    "submission_df = pd.DataFrame({\n",
    "    'id': ids,\n",
    "    'target': predictions\n",
    "})"
   ]
  },
  {
   "cell_type": "code",
   "execution_count": 31,
   "id": "f0f3ce72",
   "metadata": {
    "execution": {
     "iopub.execute_input": "2025-02-12T02:02:36.771791Z",
     "iopub.status.busy": "2025-02-12T02:02:36.771527Z",
     "iopub.status.idle": "2025-02-12T02:02:36.781138Z",
     "shell.execute_reply": "2025-02-12T02:02:36.780499Z"
    },
    "papermill": {
     "duration": 0.047151,
     "end_time": "2025-02-12T02:02:36.782306",
     "exception": false,
     "start_time": "2025-02-12T02:02:36.735155",
     "status": "completed"
    },
    "tags": []
   },
   "outputs": [],
   "source": [
    "submission_df.to_csv('submission.csv', index=False)"
   ]
  },
  {
   "cell_type": "markdown",
   "id": "1b9e8138",
   "metadata": {
    "papermill": {
     "duration": 0.035889,
     "end_time": "2025-02-12T02:02:36.854087",
     "exception": false,
     "start_time": "2025-02-12T02:02:36.818198",
     "status": "completed"
    },
    "tags": []
   },
   "source": [
    "## Comparing Models"
   ]
  },
  {
   "cell_type": "code",
   "execution_count": 32,
   "id": "71e94703",
   "metadata": {
    "execution": {
     "iopub.execute_input": "2025-02-12T02:02:36.926744Z",
     "iopub.status.busy": "2025-02-12T02:02:36.926443Z",
     "iopub.status.idle": "2025-02-12T02:02:36.930755Z",
     "shell.execute_reply": "2025-02-12T02:02:36.929793Z"
    },
    "papermill": {
     "duration": 0.042264,
     "end_time": "2025-02-12T02:02:36.932161",
     "exception": false,
     "start_time": "2025-02-12T02:02:36.889897",
     "status": "completed"
    },
    "tags": []
   },
   "outputs": [
    {
     "name": "stdout",
     "output_type": "stream",
     "text": [
      "Basic Vanilla RNN Score: 0.73950\n",
      "Basic LSTM Score: 0.78516\n",
      "Basic GRU Score: 0.78424\n",
      "Tuned GRU Score: 0.79160\n"
     ]
    }
   ],
   "source": [
    "print('Basic Vanilla RNN Score: 0.73950')\n",
    "print('Basic LSTM Score: 0.78516')\n",
    "print('Basic GRU Score: 0.78424')\n",
    "print('Tuned GRU Score: 0.79160')"
   ]
  },
  {
   "cell_type": "markdown",
   "id": "0d11599c",
   "metadata": {
    "papermill": {
     "duration": 0.035659,
     "end_time": "2025-02-12T02:02:37.004561",
     "exception": false,
     "start_time": "2025-02-12T02:02:36.968902",
     "status": "completed"
    },
    "tags": []
   },
   "source": [
    "## Conclusions"
   ]
  },
  {
   "cell_type": "markdown",
   "id": "700bac7e",
   "metadata": {
    "papermill": {
     "duration": 0.035685,
     "end_time": "2025-02-12T02:02:37.077241",
     "exception": false,
     "start_time": "2025-02-12T02:02:37.041556",
     "status": "completed"
    },
    "tags": []
   },
   "source": [
    "#### I think the biggest takeaway from this project is that the difficulty in building good sequence-based models like RNNs lies in the preprocessing of the data, and not necessarily in building the actual TF object. As we saw above, all of our various architectures fell victim to overfitting the data, we just truncated the training process to alleviate that before submitting for our final scores. \n",
    "\n",
    "#### Adding things like dropout didn't seem to help with this overfitting. This leads me to believe that we need either a larger dataset to learn from (this set is relatively small for a Deep Learning task) or we need to spend more time focusing on our embedding and processing of the data. We used a fairly standard set of steps for processing text data -- cleaning and lemmatizing the data to reduce it down into base forms. We chose to use the Keras tokenizer to 'tokenize' our data into seqences of integers which can be easily fed into the Embedding layer of a model. This embedding layer handles learning a matrix of word embeddings for easier processing by the model (as opposed to one-hot encoding our texts which would lead to very sparse matrices). I'm not sure that a different embedding technique would help with our overfitting, as I don't think the problem here is the 'closeness' of the words in vector representation."
   ]
  },
  {
   "cell_type": "code",
   "execution_count": null,
   "id": "48a3374f",
   "metadata": {
    "papermill": {
     "duration": 0.035964,
     "end_time": "2025-02-12T02:02:37.151050",
     "exception": false,
     "start_time": "2025-02-12T02:02:37.115086",
     "status": "completed"
    },
    "tags": []
   },
   "outputs": [],
   "source": []
  }
 ],
 "metadata": {
  "kaggle": {
   "accelerator": "gpu",
   "dataSources": [
    {
     "databundleVersionId": 869809,
     "sourceId": 17777,
     "sourceType": "competition"
    }
   ],
   "dockerImageVersionId": 30839,
   "isGpuEnabled": true,
   "isInternetEnabled": true,
   "language": "python",
   "sourceType": "notebook"
  },
  "kernelspec": {
   "display_name": "Python 3",
   "language": "python",
   "name": "python3"
  },
  "language_info": {
   "codemirror_mode": {
    "name": "ipython",
    "version": 3
   },
   "file_extension": ".py",
   "mimetype": "text/x-python",
   "name": "python",
   "nbconvert_exporter": "python",
   "pygments_lexer": "ipython3",
   "version": "3.10.12"
  },
  "papermill": {
   "default_parameters": {},
   "duration": 64.731469,
   "end_time": "2025-02-12T02:02:40.286555",
   "environment_variables": {},
   "exception": null,
   "input_path": "__notebook__.ipynb",
   "output_path": "__notebook__.ipynb",
   "parameters": {},
   "start_time": "2025-02-12T02:01:35.555086",
   "version": "2.6.0"
  }
 },
 "nbformat": 4,
 "nbformat_minor": 5
}
