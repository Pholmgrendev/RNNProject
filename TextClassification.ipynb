{
 "cells": [
  {
   "cell_type": "markdown",
   "id": "77792857",
   "metadata": {
    "papermill": {
     "duration": 0.005635,
     "end_time": "2025-02-06T17:42:44.617881",
     "exception": false,
     "start_time": "2025-02-06T17:42:44.612246",
     "status": "completed"
    },
    "tags": []
   },
   "source": [
    "# Disaster Tweet Classification with RNN Models"
   ]
  },
  {
   "cell_type": "markdown",
   "id": "3d871550",
   "metadata": {
    "papermill": {
     "duration": 0.004797,
     "end_time": "2025-02-06T17:42:44.627850",
     "exception": false,
     "start_time": "2025-02-06T17:42:44.623053",
     "status": "completed"
    },
    "tags": []
   },
   "source": [
    "#### For this competition, we will be trying to classify tweets based on whether they are about a natural disaster or not. \n",
    "#### We'll build an RNN using the Tensorflow library and compare different architectures (Vanilla, LSTM, GRU, etc) as well as explore different embedding techniques to see if we can boost performance. "
   ]
  },
  {
   "cell_type": "code",
   "execution_count": 1,
   "id": "84388b1f",
   "metadata": {
    "_cell_guid": "b1076dfc-b9ad-4769-8c92-a6c4dae69d19",
    "_uuid": "8f2839f25d086af736a60e9eeb907d3b93b6e0e5",
    "execution": {
     "iopub.execute_input": "2025-02-06T17:42:44.640299Z",
     "iopub.status.busy": "2025-02-06T17:42:44.639870Z",
     "iopub.status.idle": "2025-02-06T17:43:04.939348Z",
     "shell.execute_reply": "2025-02-06T17:43:04.938252Z"
    },
    "papermill": {
     "duration": 20.308133,
     "end_time": "2025-02-06T17:43:04.941308",
     "exception": false,
     "start_time": "2025-02-06T17:42:44.633175",
     "status": "completed"
    },
    "tags": []
   },
   "outputs": [
    {
     "name": "stdout",
     "output_type": "stream",
     "text": [
      "/kaggle/input/nlp-getting-started/sample_submission.csv\n",
      "/kaggle/input/nlp-getting-started/train.csv\n",
      "/kaggle/input/nlp-getting-started/test.csv\n",
      "[nltk_data] Downloading package wordnet to /kaggle/working/...\n"
     ]
    }
   ],
   "source": [
    "import warnings\n",
    "warnings.simplefilter(action='ignore', category=FutureWarning)\n",
    "warnings.simplefilter(action='ignore', category=UserWarning)\n",
    "\n",
    "import re\n",
    "import string\n",
    "import subprocess\n",
    "\n",
    "import keras\n",
    "import nltk.corpus\n",
    "import numpy as np\n",
    "import pandas as pd\n",
    "import tensorflow as tf\n",
    "import matplotlib.pyplot as plt\n",
    "import seaborn as sns\n",
    "\n",
    "from sklearn.model_selection import train_test_split\n",
    "from tensorflow.keras.preprocessing.text import Tokenizer\n",
    "from nltk.corpus import stopwords\n",
    "from nltk.stem import WordNetLemmatizer\n",
    "\n",
    "import os\n",
    "for dirname, _, filenames in os.walk('/kaggle/input'):\n",
    "    for filename in filenames:\n",
    "        print(os.path.join(dirname, filename))\n",
    "\n",
    "try: \n",
    "    nltk.data.find('wordnet.zip')\n",
    "except:\n",
    "    nltk.download('wordnet', download_dir='/kaggle/working/')\n",
    "    command = \"unzip /kaggle/working/corpora/wordnet.zip -d /kaggle/working/corpora\"\n",
    "    subprocess.run(command.split())\n",
    "    nltk.data.path.append('/kaggle/working/')"
   ]
  },
  {
   "cell_type": "markdown",
   "id": "028001c5",
   "metadata": {
    "papermill": {
     "duration": 0.005579,
     "end_time": "2025-02-06T17:43:04.952360",
     "exception": false,
     "start_time": "2025-02-06T17:43:04.946781",
     "status": "completed"
    },
    "tags": []
   },
   "source": [
    "# EDA"
   ]
  },
  {
   "cell_type": "markdown",
   "id": "ad3649b9",
   "metadata": {
    "papermill": {
     "duration": 0.005463,
     "end_time": "2025-02-06T17:43:04.963979",
     "exception": false,
     "start_time": "2025-02-06T17:43:04.958516",
     "status": "completed"
    },
    "tags": []
   },
   "source": [
    "## Data Exploration"
   ]
  },
  {
   "cell_type": "markdown",
   "id": "6f0a32bb",
   "metadata": {
    "papermill": {
     "duration": 0.005201,
     "end_time": "2025-02-06T17:43:04.974498",
     "exception": false,
     "start_time": "2025-02-06T17:43:04.969297",
     "status": "completed"
    },
    "tags": []
   },
   "source": [
    "#### First, we'll import the data and get some summary statistics about it. We'll also take a look at some example tweets from each class and figure out our plan of attack"
   ]
  },
  {
   "cell_type": "code",
   "execution_count": 2,
   "id": "baff9ba0",
   "metadata": {
    "execution": {
     "iopub.execute_input": "2025-02-06T17:43:04.987799Z",
     "iopub.status.busy": "2025-02-06T17:43:04.987155Z",
     "iopub.status.idle": "2025-02-06T17:43:05.057912Z",
     "shell.execute_reply": "2025-02-06T17:43:05.056870Z"
    },
    "papermill": {
     "duration": 0.079357,
     "end_time": "2025-02-06T17:43:05.060244",
     "exception": false,
     "start_time": "2025-02-06T17:43:04.980887",
     "status": "completed"
    },
    "tags": []
   },
   "outputs": [],
   "source": [
    "train_path = '../input/nlp-getting-started/train.csv'\n",
    "test_path = '../input/nlp-getting-started/test.csv'\n",
    "\n",
    "train_raw = pd.read_csv(train_path)\n",
    "test_raw = pd.read_csv(test_path)"
   ]
  },
  {
   "cell_type": "code",
   "execution_count": 3,
   "id": "8dcc54ce",
   "metadata": {
    "execution": {
     "iopub.execute_input": "2025-02-06T17:43:05.072143Z",
     "iopub.status.busy": "2025-02-06T17:43:05.071763Z",
     "iopub.status.idle": "2025-02-06T17:43:05.109487Z",
     "shell.execute_reply": "2025-02-06T17:43:05.108251Z"
    },
    "papermill": {
     "duration": 0.045729,
     "end_time": "2025-02-06T17:43:05.111381",
     "exception": false,
     "start_time": "2025-02-06T17:43:05.065652",
     "status": "completed"
    },
    "tags": []
   },
   "outputs": [
    {
     "name": "stdout",
     "output_type": "stream",
     "text": [
      "<class 'pandas.core.frame.DataFrame'>\n",
      "RangeIndex: 7613 entries, 0 to 7612\n",
      "Data columns (total 5 columns):\n",
      " #   Column    Non-Null Count  Dtype \n",
      "---  ------    --------------  ----- \n",
      " 0   id        7613 non-null   int64 \n",
      " 1   keyword   7552 non-null   object\n",
      " 2   location  5080 non-null   object\n",
      " 3   text      7613 non-null   object\n",
      " 4   target    7613 non-null   int64 \n",
      "dtypes: int64(2), object(3)\n",
      "memory usage: 297.5+ KB\n"
     ]
    }
   ],
   "source": [
    "train_raw.info()"
   ]
  },
  {
   "cell_type": "code",
   "execution_count": 4,
   "id": "fbb25b34",
   "metadata": {
    "execution": {
     "iopub.execute_input": "2025-02-06T17:43:05.123877Z",
     "iopub.status.busy": "2025-02-06T17:43:05.123462Z",
     "iopub.status.idle": "2025-02-06T17:43:05.141773Z",
     "shell.execute_reply": "2025-02-06T17:43:05.140507Z"
    },
    "papermill": {
     "duration": 0.026401,
     "end_time": "2025-02-06T17:43:05.143565",
     "exception": false,
     "start_time": "2025-02-06T17:43:05.117164",
     "status": "completed"
    },
    "tags": []
   },
   "outputs": [
    {
     "data": {
      "text/html": [
       "<div>\n",
       "<style scoped>\n",
       "    .dataframe tbody tr th:only-of-type {\n",
       "        vertical-align: middle;\n",
       "    }\n",
       "\n",
       "    .dataframe tbody tr th {\n",
       "        vertical-align: top;\n",
       "    }\n",
       "\n",
       "    .dataframe thead th {\n",
       "        text-align: right;\n",
       "    }\n",
       "</style>\n",
       "<table border=\"1\" class=\"dataframe\">\n",
       "  <thead>\n",
       "    <tr style=\"text-align: right;\">\n",
       "      <th></th>\n",
       "      <th>id</th>\n",
       "      <th>keyword</th>\n",
       "      <th>location</th>\n",
       "      <th>text</th>\n",
       "      <th>target</th>\n",
       "    </tr>\n",
       "  </thead>\n",
       "  <tbody>\n",
       "    <tr>\n",
       "      <th>0</th>\n",
       "      <td>1</td>\n",
       "      <td>NaN</td>\n",
       "      <td>NaN</td>\n",
       "      <td>Our Deeds are the Reason of this #earthquake M...</td>\n",
       "      <td>1</td>\n",
       "    </tr>\n",
       "    <tr>\n",
       "      <th>1</th>\n",
       "      <td>4</td>\n",
       "      <td>NaN</td>\n",
       "      <td>NaN</td>\n",
       "      <td>Forest fire near La Ronge Sask. Canada</td>\n",
       "      <td>1</td>\n",
       "    </tr>\n",
       "    <tr>\n",
       "      <th>2</th>\n",
       "      <td>5</td>\n",
       "      <td>NaN</td>\n",
       "      <td>NaN</td>\n",
       "      <td>All residents asked to 'shelter in place' are ...</td>\n",
       "      <td>1</td>\n",
       "    </tr>\n",
       "    <tr>\n",
       "      <th>3</th>\n",
       "      <td>6</td>\n",
       "      <td>NaN</td>\n",
       "      <td>NaN</td>\n",
       "      <td>13,000 people receive #wildfires evacuation or...</td>\n",
       "      <td>1</td>\n",
       "    </tr>\n",
       "    <tr>\n",
       "      <th>4</th>\n",
       "      <td>7</td>\n",
       "      <td>NaN</td>\n",
       "      <td>NaN</td>\n",
       "      <td>Just got sent this photo from Ruby #Alaska as ...</td>\n",
       "      <td>1</td>\n",
       "    </tr>\n",
       "  </tbody>\n",
       "</table>\n",
       "</div>"
      ],
      "text/plain": [
       "   id keyword location                                               text  \\\n",
       "0   1     NaN      NaN  Our Deeds are the Reason of this #earthquake M...   \n",
       "1   4     NaN      NaN             Forest fire near La Ronge Sask. Canada   \n",
       "2   5     NaN      NaN  All residents asked to 'shelter in place' are ...   \n",
       "3   6     NaN      NaN  13,000 people receive #wildfires evacuation or...   \n",
       "4   7     NaN      NaN  Just got sent this photo from Ruby #Alaska as ...   \n",
       "\n",
       "   target  \n",
       "0       1  \n",
       "1       1  \n",
       "2       1  \n",
       "3       1  \n",
       "4       1  "
      ]
     },
     "execution_count": 4,
     "metadata": {},
     "output_type": "execute_result"
    }
   ],
   "source": [
    "train_raw.head()"
   ]
  },
  {
   "cell_type": "code",
   "execution_count": 5,
   "id": "b835e0e5",
   "metadata": {
    "execution": {
     "iopub.execute_input": "2025-02-06T17:43:05.157034Z",
     "iopub.status.busy": "2025-02-06T17:43:05.156605Z",
     "iopub.status.idle": "2025-02-06T17:43:05.169859Z",
     "shell.execute_reply": "2025-02-06T17:43:05.168679Z"
    },
    "papermill": {
     "duration": 0.022663,
     "end_time": "2025-02-06T17:43:05.171901",
     "exception": false,
     "start_time": "2025-02-06T17:43:05.149238",
     "status": "completed"
    },
    "tags": []
   },
   "outputs": [
    {
     "data": {
      "text/plain": [
       "0    Our Deeds are the Reason of this #earthquake M...\n",
       "1               Forest fire near La Ronge Sask. Canada\n",
       "2    All residents asked to 'shelter in place' are ...\n",
       "3    13,000 people receive #wildfires evacuation or...\n",
       "4    Just got sent this photo from Ruby #Alaska as ...\n",
       "Name: text, dtype: object"
      ]
     },
     "execution_count": 5,
     "metadata": {},
     "output_type": "execute_result"
    }
   ],
   "source": [
    "positive_examples = train_raw[train_raw['target'] == 1]\n",
    "negative_examples = train_raw[train_raw['target'] == 0]\n",
    "\n",
    "positive_examples['text'].head()"
   ]
  },
  {
   "cell_type": "code",
   "execution_count": 6,
   "id": "f6a1eda3",
   "metadata": {
    "execution": {
     "iopub.execute_input": "2025-02-06T17:43:05.185875Z",
     "iopub.status.busy": "2025-02-06T17:43:05.185481Z",
     "iopub.status.idle": "2025-02-06T17:43:05.194171Z",
     "shell.execute_reply": "2025-02-06T17:43:05.192955Z"
    },
    "papermill": {
     "duration": 0.017604,
     "end_time": "2025-02-06T17:43:05.196116",
     "exception": false,
     "start_time": "2025-02-06T17:43:05.178512",
     "status": "completed"
    },
    "tags": []
   },
   "outputs": [
    {
     "data": {
      "text/plain": [
       "15                  What's up man?\n",
       "16                   I love fruits\n",
       "17                Summer is lovely\n",
       "18               My car is so fast\n",
       "19    What a goooooooaaaaaal!!!!!!\n",
       "Name: text, dtype: object"
      ]
     },
     "execution_count": 6,
     "metadata": {},
     "output_type": "execute_result"
    }
   ],
   "source": [
    "negative_examples['text'].head()"
   ]
  },
  {
   "cell_type": "code",
   "execution_count": 7,
   "id": "3f7d9b9d",
   "metadata": {
    "execution": {
     "iopub.execute_input": "2025-02-06T17:43:05.209725Z",
     "iopub.status.busy": "2025-02-06T17:43:05.209223Z",
     "iopub.status.idle": "2025-02-06T17:43:05.483536Z",
     "shell.execute_reply": "2025-02-06T17:43:05.482441Z"
    },
    "papermill": {
     "duration": 0.283004,
     "end_time": "2025-02-06T17:43:05.485370",
     "exception": false,
     "start_time": "2025-02-06T17:43:05.202366",
     "status": "completed"
    },
    "tags": []
   },
   "outputs": [
    {
     "data": {
      "image/png": "[encoded data removed]",
      "text/plain": [
       "<Figure size 400x400 with 1 Axes>"
      ]
     },
     "metadata": {},
     "output_type": "display_data"
    }
   ],
   "source": [
    "plt.figure(figsize=(4, 4))\n",
    "sns.countplot(x='target', data=train_raw)\n",
    "plt.title('Class Distribution')\n",
    "plt.show()"
   ]
  },
  {
   "cell_type": "markdown",
   "id": "87f47776",
   "metadata": {
    "papermill": {
     "duration": 0.005763,
     "end_time": "2025-02-06T17:43:05.497619",
     "exception": false,
     "start_time": "2025-02-06T17:43:05.491856",
     "status": "completed"
    },
    "tags": []
   },
   "source": [
    "## Analysis Plan"
   ]
  },
  {
   "cell_type": "markdown",
   "id": "f0490d64",
   "metadata": {
    "papermill": {
     "duration": 0.005637,
     "end_time": "2025-02-06T17:43:05.509280",
     "exception": false,
     "start_time": "2025-02-06T17:43:05.503643",
     "status": "completed"
    },
    "tags": []
   },
   "source": [
    "#### After looking through the data at a high-level, we can figure out a few different things that we need to do. The target classes aren't perfectly symmetrical but they are split roughly 60/40 so class imbalance shouldn't be a huge issue. We'll proceed through a few steps as we model:\n",
    "* #### Our first step will be to clean the data -- this will include things like stripping out URLs and Stop-words, cleaning up repeated letters (check the 5th example in our negative classes above), and removing punctuation\n",
    "* #### Next, we'll tokenize the input tweets, breaking them down into tokens for easier training\n",
    "* #### We'll have to adress embedding schemes after tokenizing the data. We'll start with TF-IDF, and possibly try Word2Vec, and the built-in Tensorflow Embeddings Layer\n",
    "* #### After we have the data processed, we'll fit a vanilla RNN to the data and test the performance.\n",
    "* #### Once our baseline is established, we'll try other RNN architectures like LSTM, GRU, Bi-Directional\n",
    "* #### Whichever base architecture performs the best, we'll run some hyperparameter tuning on to fine-tune it\n",
    "* #### Once we've trained what we feel is our best model, we'll compare results and discuss what we've learned"
   ]
  },
  {
   "cell_type": "markdown",
   "id": "711e052a",
   "metadata": {
    "papermill": {
     "duration": 0.005849,
     "end_time": "2025-02-06T17:43:05.521477",
     "exception": false,
     "start_time": "2025-02-06T17:43:05.515628",
     "status": "completed"
    },
    "tags": []
   },
   "source": [
    "# Data Cleaning and Pre-processing"
   ]
  },
  {
   "cell_type": "markdown",
   "id": "18c42a53",
   "metadata": {
    "papermill": {
     "duration": 0.005666,
     "end_time": "2025-02-06T17:43:05.533398",
     "exception": false,
     "start_time": "2025-02-06T17:43:05.527732",
     "status": "completed"
    },
    "tags": []
   },
   "source": [
    "## Cleaning Tweets"
   ]
  },
  {
   "cell_type": "markdown",
   "id": "74ebd25c",
   "metadata": {
    "papermill": {
     "duration": 0.006269,
     "end_time": "2025-02-06T17:43:05.547079",
     "exception": false,
     "start_time": "2025-02-06T17:43:05.540810",
     "status": "completed"
    },
    "tags": []
   },
   "source": [
    "#### We'll create a few methods to handle stripping out punctuation, URLs, and stopwords. We'll also lemmatize the text here instead of tokenizing. We'll cover what our tokenization approach is in the next block"
   ]
  },
  {
   "cell_type": "code",
   "execution_count": 8,
   "id": "a791ea37",
   "metadata": {
    "execution": {
     "iopub.execute_input": "2025-02-06T17:43:05.561121Z",
     "iopub.status.busy": "2025-02-06T17:43:05.560630Z",
     "iopub.status.idle": "2025-02-06T17:43:05.568574Z",
     "shell.execute_reply": "2025-02-06T17:43:05.567342Z"
    },
    "papermill": {
     "duration": 0.017128,
     "end_time": "2025-02-06T17:43:05.570595",
     "exception": false,
     "start_time": "2025-02-06T17:43:05.553467",
     "status": "completed"
    },
    "tags": []
   },
   "outputs": [],
   "source": [
    "def clean_and_prep_text(df_text: pd.DataFrame):\n",
    "    '''\n",
    "    Given an input dataframe, transform the text column\n",
    "    '''\n",
    "    lemmatizer = WordnetLemmatizer()\n",
    "    urlstr = re.compile(r\"https?://\\S+|www\\.\\S+\")\n",
    "    punctrans = str.maketrans(\"\", \"\", string.punctuation)\n",
    "    stop_set = set(stopwords.words(\"english\"))\n",
    "    \n",
    "    df_text['no_url'] = df_text['text'].apply(lambda row: urlstr.sub(r\"\", row)) \n",
    "    df_text['no_punc'] = df_text['no_url'].apply(lambda row: row.translate(punctrans))\n",
    "    df_text['clean'] = df_text['no_punc'].apply(lambda row: ' '.join([word for word in row.split() if word not in stop_set]))\n",
    "    df_text['lemmas'] = df_text['clean'].apply(lambda row: ' '.join([lemmatizer.lemmatize(word) for word in row.split()]))\n",
    "\n",
    "    df_text.drop(['no_url', 'no_punc', 'clean'], axis=1, inplace=True)\n",
    "\n",
    "    return\n",
    "    "
   ]
  },
  {
   "cell_type": "markdown",
   "id": "77adb0a3",
   "metadata": {
    "papermill": {
     "duration": 0.006003,
     "end_time": "2025-02-06T17:43:05.583028",
     "exception": false,
     "start_time": "2025-02-06T17:43:05.577025",
     "status": "completed"
    },
    "tags": []
   },
   "source": [
    "## Tokenization"
   ]
  },
  {
   "cell_type": "code",
   "execution_count": null,
   "id": "613b6385",
   "metadata": {
    "papermill": {
     "duration": 0.006422,
     "end_time": "2025-02-06T17:43:05.595332",
     "exception": false,
     "start_time": "2025-02-06T17:43:05.588910",
     "status": "completed"
    },
    "tags": []
   },
   "outputs": [],
   "source": []
  },
  {
   "cell_type": "code",
   "execution_count": null,
   "id": "c2781d77",
   "metadata": {
    "papermill": {
     "duration": 0.005688,
     "end_time": "2025-02-06T17:43:05.607096",
     "exception": false,
     "start_time": "2025-02-06T17:43:05.601408",
     "status": "completed"
    },
    "tags": []
   },
   "outputs": [],
   "source": []
  },
  {
   "cell_type": "markdown",
   "id": "d49874b6",
   "metadata": {
    "papermill": {
     "duration": 0.005521,
     "end_time": "2025-02-06T17:43:05.618478",
     "exception": false,
     "start_time": "2025-02-06T17:43:05.612957",
     "status": "completed"
    },
    "tags": []
   },
   "source": [
    "## Embedding the Text"
   ]
  },
  {
   "cell_type": "markdown",
   "id": "3d8e63c5",
   "metadata": {
    "papermill": {
     "duration": 0.006194,
     "end_time": "2025-02-06T17:43:05.631513",
     "exception": false,
     "start_time": "2025-02-06T17:43:05.625319",
     "status": "completed"
    },
    "tags": []
   },
   "source": [
    "# Model Building and Training"
   ]
  },
  {
   "cell_type": "markdown",
   "id": "320657bf",
   "metadata": {
    "papermill": {
     "duration": 0.00601,
     "end_time": "2025-02-06T17:43:05.643676",
     "exception": false,
     "start_time": "2025-02-06T17:43:05.637666",
     "status": "completed"
    },
    "tags": []
   },
   "source": [
    "## Basic Architecture"
   ]
  },
  {
   "cell_type": "markdown",
   "id": "e5957a15",
   "metadata": {
    "papermill": {
     "duration": 0.006856,
     "end_time": "2025-02-06T17:43:05.656529",
     "exception": false,
     "start_time": "2025-02-06T17:43:05.649673",
     "status": "completed"
    },
    "tags": []
   },
   "source": [
    "## Training and Exploring Results"
   ]
  },
  {
   "cell_type": "markdown",
   "id": "8ef2147f",
   "metadata": {
    "papermill": {
     "duration": 0.005659,
     "end_time": "2025-02-06T17:43:05.668572",
     "exception": false,
     "start_time": "2025-02-06T17:43:05.662913",
     "status": "completed"
    },
    "tags": []
   },
   "source": [
    "## Hyperparameter Tuning and Other Architectures"
   ]
  },
  {
   "cell_type": "markdown",
   "id": "54b26409",
   "metadata": {
    "papermill": {
     "duration": 0.00622,
     "end_time": "2025-02-06T17:43:05.680817",
     "exception": false,
     "start_time": "2025-02-06T17:43:05.674597",
     "status": "completed"
    },
    "tags": []
   },
   "source": [
    "# Submissions and Results"
   ]
  },
  {
   "cell_type": "markdown",
   "id": "7846d7b4",
   "metadata": {
    "papermill": {
     "duration": 0.005521,
     "end_time": "2025-02-06T17:43:05.692295",
     "exception": false,
     "start_time": "2025-02-06T17:43:05.686774",
     "status": "completed"
    },
    "tags": []
   },
   "source": [
    "## Comparing Models"
   ]
  },
  {
   "cell_type": "markdown",
   "id": "f5163dab",
   "metadata": {
    "papermill": {
     "duration": 0.005633,
     "end_time": "2025-02-06T17:43:05.703808",
     "exception": false,
     "start_time": "2025-02-06T17:43:05.698175",
     "status": "completed"
    },
    "tags": []
   },
   "source": [
    "## Conclusions"
   ]
  },
  {
   "cell_type": "code",
   "execution_count": null,
   "id": "7caf8a74",
   "metadata": {
    "papermill": {
     "duration": 0.00554,
     "end_time": "2025-02-06T17:43:05.715118",
     "exception": false,
     "start_time": "2025-02-06T17:43:05.709578",
     "status": "completed"
    },
    "tags": []
   },
   "outputs": [],
   "source": []
  }
 ],
 "metadata": {
  "kaggle": {
   "accelerator": "none",
   "dataSources": [
    {
     "databundleVersionId": 869809,
     "sourceId": 17777,
     "sourceType": "competition"
    }
   ],
   "dockerImageVersionId": 30839,
   "isGpuEnabled": false,
   "isInternetEnabled": true,
   "language": "python",
   "sourceType": "notebook"
  },
  "kernelspec": {
   "display_name": "Python 3",
   "language": "python",
   "name": "python3"
  },
  "language_info": {
   "codemirror_mode": {
    "name": "ipython",
    "version": 3
   },
   "file_extension": ".py",
   "mimetype": "text/x-python",
   "name": "python",
   "nbconvert_exporter": "python",
   "pygments_lexer": "ipython3",
   "version": "3.10.12"
  },
  "papermill": {
   "default_parameters": {},
   "duration": 26.6438,
   "end_time": "2025-02-06T17:43:08.245886",
   "environment_variables": {},
   "exception": null,
   "input_path": "__notebook__.ipynb",
   "output_path": "__notebook__.ipynb",
   "parameters": {},
   "start_time": "2025-02-06T17:42:41.602086",
   "version": "2.6.0"
  }
 },
 "nbformat": 4,
 "nbformat_minor": 5
}
